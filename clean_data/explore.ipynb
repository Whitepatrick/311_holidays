{
 "cells": [
  {
   "cell_type": "code",
   "execution_count": 106,
   "metadata": {
    "collapsed": true
   },
   "outputs": [],
   "source": [
    "%matplotlib inline\n",
    "\n",
    "import pandas as pd\n",
    "import numpy as np\n",
    "import scipy.stats as stats\n",
    "import matplotlib.pyplot as plt\n",
    "import sklearn"
   ]
  },
  {
   "cell_type": "code",
   "execution_count": 107,
   "metadata": {
    "collapsed": false
   },
   "outputs": [],
   "source": [
    "df = pd.read_csv('nyc/NYC_2014_1.csv')"
   ]
  },
  {
   "cell_type": "code",
   "execution_count": 108,
   "metadata": {
    "collapsed": false
   },
   "outputs": [],
   "source": [
    "ser = pd.Series(df['Complaint_Type'])"
   ]
  },
  {
   "cell_type": "code",
   "execution_count": 109,
   "metadata": {
    "collapsed": false
   },
   "outputs": [
    {
     "data": {
      "text/plain": [
       "Street Condition                     77418\n",
       "Street Light Condition               46137\n",
       "Blocked Driveway                     37727\n",
       "PLUMBING                             37554\n",
       "HEAT/HOT WATER                       34853\n",
       "Illegal Parking                      28779\n",
       "PAINT/PLASTER                        28466\n",
       "Water System                         28188\n",
       "Noise                                24741\n",
       "Traffic Signal Condition             23728\n",
       "UNSANITARY CONDITION                 20250\n",
       "Sewer                                19862\n",
       "Noise - Commercial                   17550\n",
       "DOF Literature Request               16956\n",
       "GENERAL CONSTRUCTION                 15888\n",
       "ELECTRIC                             15805\n",
       "Dirty Conditions                     15619\n",
       "GENERAL                              14819\n",
       "Snow                                 14610\n",
       "Broken Muni Meter                    14461\n",
       "General Construction/Plumbing        14403\n",
       "Noise - Street/Sidewalk              13987\n",
       "Building/Use                         13112\n",
       "PAINT - PLASTER                      12116\n",
       "WATER LEAK                           11634\n",
       "Sanitation Condition                 11402\n",
       "Rodent                               11129\n",
       "Missed Collection (All Materials)    10916\n",
       "DOOR/WINDOW                          10475\n",
       "Graffiti                              9205\n",
       "Name: Complaint_Type, dtype: int64"
      ]
     },
     "execution_count": 109,
     "metadata": {},
     "output_type": "execute_result"
    }
   ],
   "source": [
    "ser.value_counts()[1:31]"
   ]
  },
  {
   "cell_type": "code",
   "execution_count": 127,
   "metadata": {
    "collapsed": true
   },
   "outputs": [],
   "source": [
    "#df.ix[df.B.isin(['X','Y','Z']), 'Complaint_Type'] = \"General Request/Complaint\"\n",
    "df.ix[df.Complaint_Type.isin(['DOF Literature Request','GENERAL','Noise','Noise - Commercial','GENERAL CONSTRUCTION','Graffiti','Consumer Complaint','Taxi Complaint','Benefit Card Replacement','SAFETY','Traffic','Vending','DCA / DOH New License Application Request','DOT Literature Request','Noise - Park','For Hire Vehicle Complaint','Construction','DCA Literature Request','CONSTRUCTION']), 'Complaint_Type'] = \"General Request or Complaint\""
   ]
  },
  {
   "cell_type": "code",
   "execution_count": 111,
   "metadata": {
    "collapsed": true
   },
   "outputs": [],
   "source": [
    "df.ix[df.Complaint_Type.isin(['PLUMBING','PAINT/PLASTER','ELECTRIC','Building/Use','WATER LEAK','General Construction/Plumbing','HEAT/HOT WATER','Missed Collection (All Materials)','DOOR/WINDOW','HEATING','PAINT - PLASTER','FLOORING/STAIRS','Maintenance or Facility','APPLIANCE','Elevator','Food Establishment','Plumbing','Electrical','Fire Safety Director - F58','Non-Residential Heat','Boilers','Asbestos','Lead','Vacant Lot','School Maintenance','Indoor Sewage']), 'Complaint_Type'] = \"Building Conditions\""
   ]
  },
  {
   "cell_type": "code",
   "execution_count": 112,
   "metadata": {
    "collapsed": true
   },
   "outputs": [],
   "source": [
    "df.ix[df.Complaint_Type.isin(['Sewer','Dirty Conditions','Rodent','Sanitation Condition','UNSANITARY CONDITION','Animal Abuse','Air Quality','Unsanitary Animal Pvt Property','Smoking','Food Poisoning','Homeless Encampment','Homeless Person Assistance']), 'Complaint_Type'] = \"Living Conditions\""
   ]
  },
  {
   "cell_type": "code",
   "execution_count": 113,
   "metadata": {
    "collapsed": true
   },
   "outputs": [],
   "source": [
    "df.ix[df.Complaint_Type.isin(['Traffic Signal Condition','Street Light Condition','Street Sign - Damaged','Street Sign - Missing']), 'Complaint_Type'] = \"Signal/Sign Repair\""
   ]
  },
  {
   "cell_type": "code",
   "execution_count": 114,
   "metadata": {
    "collapsed": true
   },
   "outputs": [],
   "source": [
    "df.ix[df.Complaint_Type.isin(['Derelict Vehicles','Derelict Vehicle','Blocked Driveway','Illegal Parking','Broken Muni Meter']), 'Complaint_Type'] = \"Parking Enforcement\""
   ]
  },
  {
   "cell_type": "code",
   "execution_count": 115,
   "metadata": {
    "collapsed": true
   },
   "outputs": [],
   "source": [
    "df.ix[df.Complaint_Type.isin(['Water System','Noise - Street/Sidewalk','Street Condition','Snow','Overgrown Tree/Branches','Damaged Tree','Highway Condition','Dead Tree','Root/Sewer/Sidewalk Condition','Noise - Vehicle','Sidewalk Condition','Illegal Tree Damage','Standing Water','Street Sign - Dangling']), 'Complaint_Type'] = \"Street/Sidewalk Maintenance\""
   ]
  },
  {
   "cell_type": "code",
   "execution_count": 116,
   "metadata": {
    "collapsed": false
   },
   "outputs": [
    {
     "data": {
      "text/html": [
       "<div>\n",
       "<table border=\"1\" class=\"dataframe\">\n",
       "  <thead>\n",
       "    <tr style=\"text-align: right;\">\n",
       "      <th></th>\n",
       "      <th>Created_Date</th>\n",
       "      <th>Complaint_Type</th>\n",
       "      <th>Borough</th>\n",
       "      <th>Location</th>\n",
       "    </tr>\n",
       "  </thead>\n",
       "  <tbody>\n",
       "    <tr>\n",
       "      <th>0</th>\n",
       "      <td>2014-06-30</td>\n",
       "      <td>Building Conditions</td>\n",
       "      <td>BRONX</td>\n",
       "      <td>(40.87016285040958, -73.88879970718)</td>\n",
       "    </tr>\n",
       "    <tr>\n",
       "      <th>1</th>\n",
       "      <td>2014-06-30</td>\n",
       "      <td>Building Conditions</td>\n",
       "      <td>BROOKLYN</td>\n",
       "      <td>(40.64314961982049, -73.95046073917715)</td>\n",
       "    </tr>\n",
       "    <tr>\n",
       "      <th>2</th>\n",
       "      <td>2014-06-30</td>\n",
       "      <td>Building Conditions</td>\n",
       "      <td>BROOKLYN</td>\n",
       "      <td>(40.64507250981882, -73.87864906383643)</td>\n",
       "    </tr>\n",
       "    <tr>\n",
       "      <th>3</th>\n",
       "      <td>2014-06-30</td>\n",
       "      <td>Building Conditions</td>\n",
       "      <td>MANHATTAN</td>\n",
       "      <td>(40.86334391631684, -73.92915076102932)</td>\n",
       "    </tr>\n",
       "    <tr>\n",
       "      <th>4</th>\n",
       "      <td>2014-06-30</td>\n",
       "      <td>Building Conditions</td>\n",
       "      <td>BROOKLYN</td>\n",
       "      <td>(40.64393283892149, -73.95273031361069)</td>\n",
       "    </tr>\n",
       "  </tbody>\n",
       "</table>\n",
       "</div>"
      ],
      "text/plain": [
       "  Created_Date       Complaint_Type    Borough  \\\n",
       "0   2014-06-30  Building Conditions      BRONX   \n",
       "1   2014-06-30  Building Conditions   BROOKLYN   \n",
       "2   2014-06-30  Building Conditions   BROOKLYN   \n",
       "3   2014-06-30  Building Conditions  MANHATTAN   \n",
       "4   2014-06-30  Building Conditions   BROOKLYN   \n",
       "\n",
       "                                  Location  \n",
       "0     (40.87016285040958, -73.88879970718)  \n",
       "1  (40.64314961982049, -73.95046073917715)  \n",
       "2  (40.64507250981882, -73.87864906383643)  \n",
       "3  (40.86334391631684, -73.92915076102932)  \n",
       "4  (40.64393283892149, -73.95273031361069)  "
      ]
     },
     "execution_count": 116,
     "metadata": {},
     "output_type": "execute_result"
    }
   ],
   "source": [
    "df.head()"
   ]
  },
  {
   "cell_type": "code",
   "execution_count": 117,
   "metadata": {
    "collapsed": false
   },
   "outputs": [
    {
     "data": {
      "text/plain": [
       "Street/Sidewalk Maintenance                173869\n",
       "General Request or Complaint               138480\n",
       "Parking Enforcement                         93873\n",
       "Living Conditions                           91012\n",
       "Signal/Sign Repair                          75489\n",
       "NONCONST                                     8938\n",
       "SCRIE                                        3812\n",
       "Special Projects Inspection Team (SPIT)      3175\n",
       "Water Conservation                           3015\n",
       "Indoor Air Quality                           2694\n",
       "Other Enforcement                            2511\n",
       "Special Enforcement                          2432\n",
       "Litter Basket / Request                      1421\n",
       "Hazardous Materials                          1237\n",
       "Violation of Park Rules                       963\n",
       "Industrial Waste                              891\n",
       "Agency Issues                                 687\n",
       "Request Xmas Tree Collection                  674\n",
       "DPR Internal                                  653\n",
       "EAP Inspection - F59                          644\n",
       "Water Quality                                 613\n",
       "Derelict Bicycle                              613\n",
       "Animal in a Park                              602\n",
       "OUTSIDE BUILDING                              565\n",
       "Overflowing Litter Baskets                    551\n",
       "Bridge Condition                              497\n",
       "Noise - Helicopter                            488\n",
       "Sweeping/Missed                               482\n",
       "Drinking                                      478\n",
       "Request for Information                       462\n",
       "Name: Complaint_Type, dtype: int64"
      ]
     },
     "execution_count": 117,
     "metadata": {},
     "output_type": "execute_result"
    }
   ],
   "source": [
    "ser.value_counts()[1:31]"
   ]
  },
  {
   "cell_type": "code",
   "execution_count": 118,
   "metadata": {
    "collapsed": true
   },
   "outputs": [],
   "source": [
    "remove_these = []\n",
    "\n",
    "for i in remove_these:\n",
    "    df = df[df.Complaint_Type == i]"
   ]
  },
  {
   "cell_type": "code",
   "execution_count": 132,
   "metadata": {
    "collapsed": false
   },
   "outputs": [],
   "source": [
    "df2 = pd.DataFrame(ser.value_counts()[6:])"
   ]
  },
  {
   "cell_type": "code",
   "execution_count": 133,
   "metadata": {
    "collapsed": false
   },
   "outputs": [
    {
     "data": {
      "text/html": [
       "<div>\n",
       "<table border=\"1\" class=\"dataframe\">\n",
       "  <thead>\n",
       "    <tr style=\"text-align: right;\">\n",
       "      <th></th>\n",
       "      <th>Complaint_Type</th>\n",
       "    </tr>\n",
       "  </thead>\n",
       "  <tbody>\n",
       "    <tr>\n",
       "      <th></th>\n",
       "      <td>42095</td>\n",
       "    </tr>\n",
       "    <tr>\n",
       "      <th>Ferry Inquiry</th>\n",
       "      <td>263</td>\n",
       "    </tr>\n",
       "    <tr>\n",
       "      <th>Disorderly Youth</th>\n",
       "      <td>254</td>\n",
       "    </tr>\n",
       "    <tr>\n",
       "      <th>ELEVATOR</th>\n",
       "      <td>253</td>\n",
       "    </tr>\n",
       "    <tr>\n",
       "      <th>Public Payphone Complaint</th>\n",
       "      <td>241</td>\n",
       "    </tr>\n",
       "  </tbody>\n",
       "</table>\n",
       "</div>"
      ],
      "text/plain": [
       "                           Complaint_Type\n",
       "                                    42095\n",
       "Ferry Inquiry                         263\n",
       "Disorderly Youth                      254\n",
       "ELEVATOR                              253\n",
       "Public Payphone Complaint             241"
      ]
     },
     "execution_count": 133,
     "metadata": {},
     "output_type": "execute_result"
    }
   ],
   "source": [
    "df2.head()"
   ]
  },
  {
   "cell_type": "code",
   "execution_count": 120,
   "metadata": {
    "collapsed": false
   },
   "outputs": [],
   "source": [
    "#ser.value_counts()[6:]\n",
    "df.ix[df.Complaint_Type.isin(['NONCONST','SCRIE','Special Projects Inspection Team (SPIT)','Water Conservation','Other Enforcement','Special Enforcement','For Hire Vehicle Complaint','Hazardous Materials','Violation of Park Rules','Industrial Waste','Indoor Air Quality','Litter Basket / Request','Agency Issues','Request Xmas Tree Collection','DPR Internal','EAP Inspection - F59','Derelict Bicycle','Water Quality']), 'Complaint_Type'] = \"\""
   ]
  },
  {
   "cell_type": "code",
   "execution_count": 121,
   "metadata": {
    "collapsed": true
   },
   "outputs": [],
   "source": [
    "df.ix[df.Complaint_Type.isin(['Animal in a Park','OUTSIDE BUILDING','Overflowing Litter Baskets','Bridge Condition','Noise - Helicopter','Sweeping/Missed','Drinking','Request for Information','Emergency Response Team (ERT)','BEST/Site Safety','Noise - House of Worship','Curb Condition','Taxi Compliment','Recycling Enforcement']), 'Complaint_Type'] = \"\""
   ]
  },
  {
   "cell_type": "code",
   "execution_count": 125,
   "metadata": {
    "collapsed": true
   },
   "outputs": [],
   "source": [
    "df.ix[df.Complaint_Type.isin(['Unleashed Dog','Unsanitary Pigeon Condition','Unsanitary Pigeon Condition','','','']), 'Complaint_Type'] = \"\""
   ]
  },
  {
   "cell_type": "code",
   "execution_count": 129,
   "metadata": {
    "collapsed": true
   },
   "outputs": [],
   "source": [
    "np.array(ser, dtype=pd.Series)"
   ]
  },
  {
   "cell_type": "code",
   "execution_count": 131,
   "metadata": {
    "collapsed": false
   },
   "outputs": [
    {
     "data": {
      "text/plain": [
       "Building Conditions             326122\n",
       "Street/Sidewalk Maintenance     173869\n",
       "General Request or Complaint    138744\n",
       "Parking Enforcement              93873\n",
       "Living Conditions                91012\n",
       "Signal/Sign Repair               75489\n",
       "Name: Complaint_Type, dtype: int64"
      ]
     },
     "execution_count": 131,
     "metadata": {},
     "output_type": "execute_result"
    }
   ],
   "source": [
    "ser.value_counts()[6:]"
   ]
  },
  {
   "cell_type": "code",
   "execution_count": null,
   "metadata": {
    "collapsed": true
   },
   "outputs": [],
   "source": []
  }
 ],
 "metadata": {
  "kernelspec": {
   "display_name": "Python 2",
   "language": "python",
   "name": "python2"
  },
  "language_info": {
   "codemirror_mode": {
    "name": "ipython",
    "version": 2
   },
   "file_extension": ".py",
   "mimetype": "text/x-python",
   "name": "python",
   "nbconvert_exporter": "python",
   "pygments_lexer": "ipython2",
   "version": "2.7.11"
  }
 },
 "nbformat": 4,
 "nbformat_minor": 0
}
