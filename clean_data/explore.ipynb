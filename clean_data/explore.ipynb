{
 "cells": [
  {
   "cell_type": "code",
   "execution_count": 1,
   "metadata": {
    "collapsed": true
   },
   "outputs": [],
   "source": [
    "%matplotlib inline\n",
    "\n",
    "import pandas as pd\n",
    "import numpy as np\n",
    "import scipy.stats as stats\n",
    "import matplotlib.pyplot as plt\n",
    "import sklearn"
   ]
  },
  {
   "cell_type": "code",
   "execution_count": 2,
   "metadata": {
    "collapsed": false
   },
   "outputs": [
    {
     "data": {
      "text/html": [
       "<div>\n",
       "<table border=\"1\" class=\"dataframe\">\n",
       "  <thead>\n",
       "    <tr style=\"text-align: right;\">\n",
       "      <th></th>\n",
       "      <th>Created_Date</th>\n",
       "      <th>Complaint_Type</th>\n",
       "      <th>Borough</th>\n",
       "      <th>Location</th>\n",
       "    </tr>\n",
       "  </thead>\n",
       "  <tbody>\n",
       "    <tr>\n",
       "      <th>0</th>\n",
       "      <td>2014-06-30</td>\n",
       "      <td>HEAT/HOT WATER</td>\n",
       "      <td>BRONX</td>\n",
       "      <td>(40.87016285040958, -73.88879970718)</td>\n",
       "    </tr>\n",
       "    <tr>\n",
       "      <th>1</th>\n",
       "      <td>2014-06-30</td>\n",
       "      <td>HEAT/HOT WATER</td>\n",
       "      <td>BROOKLYN</td>\n",
       "      <td>(40.64314961982049, -73.95046073917715)</td>\n",
       "    </tr>\n",
       "    <tr>\n",
       "      <th>2</th>\n",
       "      <td>2014-06-30</td>\n",
       "      <td>HEAT/HOT WATER</td>\n",
       "      <td>BROOKLYN</td>\n",
       "      <td>(40.64507250981882, -73.87864906383643)</td>\n",
       "    </tr>\n",
       "    <tr>\n",
       "      <th>3</th>\n",
       "      <td>2014-06-30</td>\n",
       "      <td>HEAT/HOT WATER</td>\n",
       "      <td>MANHATTAN</td>\n",
       "      <td>(40.86334391631684, -73.92915076102932)</td>\n",
       "    </tr>\n",
       "    <tr>\n",
       "      <th>4</th>\n",
       "      <td>2014-06-30</td>\n",
       "      <td>PAINT/PLASTER</td>\n",
       "      <td>BROOKLYN</td>\n",
       "      <td>(40.64393283892149, -73.95273031361069)</td>\n",
       "    </tr>\n",
       "  </tbody>\n",
       "</table>\n",
       "</div>"
      ],
      "text/plain": [
       "  Created_Date  Complaint_Type    Borough  \\\n",
       "0   2014-06-30  HEAT/HOT WATER      BRONX   \n",
       "1   2014-06-30  HEAT/HOT WATER   BROOKLYN   \n",
       "2   2014-06-30  HEAT/HOT WATER   BROOKLYN   \n",
       "3   2014-06-30  HEAT/HOT WATER  MANHATTAN   \n",
       "4   2014-06-30   PAINT/PLASTER   BROOKLYN   \n",
       "\n",
       "                                  Location  \n",
       "0     (40.87016285040958, -73.88879970718)  \n",
       "1  (40.64314961982049, -73.95046073917715)  \n",
       "2  (40.64507250981882, -73.87864906383643)  \n",
       "3  (40.86334391631684, -73.92915076102932)  \n",
       "4  (40.64393283892149, -73.95273031361069)  "
      ]
     },
     "execution_count": 2,
     "metadata": {},
     "output_type": "execute_result"
    }
   ],
   "source": [
    "df = pd.read_csv('nyc/NYC_2014_1.csv')"
   ]
  },
  {
   "cell_type": "code",
   "execution_count": 17,
   "metadata": {
    "collapsed": false
   },
   "outputs": [],
   "source": [
    "ser = pd.Series(df['Complaint_Type'])"
   ]
  },
  {
   "cell_type": "code",
   "execution_count": 23,
   "metadata": {
    "collapsed": false
   },
   "outputs": [
    {
     "data": {
      "text/plain": [
       "Street Condition            77418\n",
       "Street Light Condition      46137\n",
       "Blocked Driveway            37727\n",
       "PLUMBING                    37554\n",
       "HEAT/HOT WATER              34853\n",
       "Illegal Parking             28779\n",
       "PAINT/PLASTER               28466\n",
       "Water System                28188\n",
       "Noise                       24741\n",
       "Traffic Signal Condition    23728\n",
       "UNSANITARY CONDITION        20250\n",
       "Sewer                       19862\n",
       "Noise - Commercial          17550\n",
       "DOF Literature Request      16956\n",
       "GENERAL CONSTRUCTION        15888\n",
       "ELECTRIC                    15805\n",
       "Dirty Conditions            15619\n",
       "GENERAL                     14819\n",
       "Snow                        14610\n",
       "Name: Complaint_Type, dtype: int64"
      ]
     },
     "execution_count": 23,
     "metadata": {},
     "output_type": "execute_result"
    }
   ],
   "source": [
    "ser.value_counts()[1:20]"
   ]
  },
  {
   "cell_type": "code",
   "execution_count": null,
   "metadata": {
    "collapsed": true
   },
   "outputs": [],
   "source": []
  }
 ],
 "metadata": {
  "kernelspec": {
   "display_name": "Python 2",
   "language": "python",
   "name": "python2"
  },
  "language_info": {
   "codemirror_mode": {
    "name": "ipython",
    "version": 2
   },
   "file_extension": ".py",
   "mimetype": "text/x-python",
   "name": "python",
   "nbconvert_exporter": "python",
   "pygments_lexer": "ipython2",
   "version": "2.7.11"
  }
 },
 "nbformat": 4,
 "nbformat_minor": 0
}
