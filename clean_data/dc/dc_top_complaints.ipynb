{
 "cells": [
  {
   "cell_type": "code",
   "execution_count": 5,
   "metadata": {
    "collapsed": true
   },
   "outputs": [],
   "source": [
    "%matplotlib inline\n",
    "\n",
    "import pandas as pd\n",
    "import numpy as np\n",
    "import scipy.stats as stats\n",
    "import matplotlib.pyplot as plt\n",
    "import sklearn"
   ]
  },
  {
   "cell_type": "code",
   "execution_count": 6,
   "metadata": {
    "collapsed": false
   },
   "outputs": [],
   "source": [
    "df1 = pd.read_csv('DC_2015_1.csv')\n",
    "df2 = pd.read_csv('DC_2015_2.csv')\n",
    "df3 = pd.read_csv('DC_2015_3.csv')\n",
    "df4 = pd.read_csv('DC_2015_4.csv')\n",
    "df5 = pd.read_csv('DC_2015_5.csv')\n",
    "df6 = pd.read_csv('DC_2015_6.csv')\n",
    "df7 = pd.read_csv('DC_2015_7.csv')\n",
    "df8 = pd.read_csv('DC_2015_8.csv')\n",
    "df9 = pd.read_csv('DC_2015_9.csv')\n",
    "df10 = pd.read_csv('DC_2015_10.csv')\n",
    "df11 = pd.read_csv('DC_2015_11.csv')\n",
    "df12 = pd.read_csv('DC_2015_1.csv')\n",
    "df13 = pd.read_csv('DC_2015_1.csv')\n",
    "df14 = pd.read_csv('DC_2015_1.csv')\n",
    "df15 = pd.read_csv('DC_2015_1.csv')\n",
    "df16 = pd.read_csv('DC_2015_1.csv')\n",
    "df17 = pd.read_csv('DC_2015_2.csv')\n",
    "df18 = pd.read_csv('DC_2015_3.csv')\n"
   ]
  },
  {
   "cell_type": "code",
   "execution_count": 7,
   "metadata": {
    "collapsed": true
   },
   "outputs": [],
   "source": [
    "df_2015 = df1.append([df2,df2,df3,df4,df5,df6,df7,df8,df9,df10,df11,df12,df13,df14,df15,df16,df17,df18], ignore_index=True)"
   ]
  },
  {
   "cell_type": "code",
   "execution_count": 8,
   "metadata": {
    "collapsed": true
   },
   "outputs": [],
   "source": [
    "ser1 = pd.Series(df_2015['SERVICECODEDESCRIPTION'])"
   ]
  },
  {
   "cell_type": "code",
   "execution_count": 9,
   "metadata": {
    "collapsed": false
   },
   "outputs": [
    {
     "data": {
      "text/plain": [
       "Parking Meter Repair                      85441\n",
       "Bulk Collection                           46343\n",
       "Parking Enforcement                       30541\n",
       "Pothole                                   23768\n",
       "Trash Collection - Missed                 14618\n",
       "DC Government Information                 11488\n",
       "Recycling Collection - Missed             11161\n",
       "Streetlight Repair Investigation          10774\n",
       "Emergency No-Parking Verification          9504\n",
       "Alley Cleaning                             8927\n",
       "Snow/Ice Removal                           8370\n",
       "Sanitation Enforcement                     7777\n",
       "Residential Parking Permit Violation       6217\n",
       "Street Cleaning                            5779\n",
       "Illegal Dumping                            5024\n",
       "Abandoned Vehicle - On Public Property     4280\n",
       "DMV - Driver's License/ID Issues           4168\n",
       "Sidewalk Repair                            4053\n",
       "Tree Planting                              4008\n",
       "Tree Inspection                            3997\n",
       "DMV - Vehicle Registration Issues          3796\n",
       "Tree Pruning                               3728\n",
       "TRU Report                                 3170\n",
       "Alleylight Repair Investigation            3063\n",
       "Graffiti Removal                           2947\n",
       "CFSA Missing/Absconded                     2842\n",
       "Sign Replacement                           2813\n",
       "Name: SERVICECODEDESCRIPTION, dtype: int64"
      ]
     },
     "execution_count": 9,
     "metadata": {},
     "output_type": "execute_result"
    }
   ],
   "source": [
    "ser1.value_counts()[0:27]"
   ]
  },
  {
   "cell_type": "code",
   "execution_count": null,
   "metadata": {
    "collapsed": true
   },
   "outputs": [],
   "source": []
  }
 ],
 "metadata": {
  "kernelspec": {
   "display_name": "Python 2",
   "language": "python",
   "name": "python2"
  },
  "language_info": {
   "codemirror_mode": {
    "name": "ipython",
    "version": 2
   },
   "file_extension": ".py",
   "mimetype": "text/x-python",
   "name": "python",
   "nbconvert_exporter": "python",
   "pygments_lexer": "ipython2",
   "version": "2.7.11"
  }
 },
 "nbformat": 4,
 "nbformat_minor": 0
}
