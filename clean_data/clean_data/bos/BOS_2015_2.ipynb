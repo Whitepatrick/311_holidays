{
 "cells": [
  {
   "cell_type": "code",
   "execution_count": 6,
   "metadata": {
    "collapsed": true
   },
   "outputs": [],
   "source": [
    "import pandas as pd\n",
    "import numpy as np"
   ]
  },
  {
   "cell_type": "code",
   "execution_count": 7,
   "metadata": {
    "collapsed": false
   },
   "outputs": [],
   "source": [
    "keepers = reason_keepers = ['OPEN_DT', 'CASE_TITLE', 'neighborhood', 'Geocoded_Location']"
   ]
  },
  {
   "cell_type": "code",
   "execution_count": 8,
   "metadata": {
    "collapsed": false
   },
   "outputs": [],
   "source": [
    "#df_raw = pd.read_csv('../../data_311/boston_311/bos_20150701_20151231.csv', low_memory=False, index_col=['OPEN_DT'], parse_dates=['OPEN_DT'])\n",
    "df = pd.read_csv('../../data_311/boston_311/bos_20150701_20151231.csv', low_memory=False, usecols=keepers, index_col=['OPEN_DT'], parse_dates=['OPEN_DT'])"
   ]
  },
  {
   "cell_type": "code",
   "execution_count": 9,
   "metadata": {
    "collapsed": false
   },
   "outputs": [],
   "source": [
    "df.to_csv(\"BOS_2015_2.csv\", date_format='%Y-%m-%d')"
   ]
  },
  {
   "cell_type": "code",
   "execution_count": 10,
   "metadata": {
    "collapsed": false
   },
   "outputs": [
    {
     "data": {
      "text/html": [
       "<div>\n",
       "<table border=\"1\" class=\"dataframe\">\n",
       "  <thead>\n",
       "    <tr style=\"text-align: right;\">\n",
       "      <th></th>\n",
       "      <th>CASE_TITLE</th>\n",
       "      <th>neighborhood</th>\n",
       "      <th>Geocoded_Location</th>\n",
       "    </tr>\n",
       "    <tr>\n",
       "      <th>OPEN_DT</th>\n",
       "      <th></th>\n",
       "      <th></th>\n",
       "      <th></th>\n",
       "    </tr>\n",
       "  </thead>\n",
       "  <tbody>\n",
       "    <tr>\n",
       "      <th>2015-07-01</th>\n",
       "      <td>Requests for Street Cleaning</td>\n",
       "      <td>Back Bay</td>\n",
       "      <td>(42.3504, -71.0893)</td>\n",
       "    </tr>\n",
       "    <tr>\n",
       "      <th>2015-07-01</th>\n",
       "      <td>Request for Recycling Cart</td>\n",
       "      <td>Greater Mattapan</td>\n",
       "      <td>(42.2674, -71.0985)</td>\n",
       "    </tr>\n",
       "    <tr>\n",
       "      <th>2015-07-01</th>\n",
       "      <td>Fire</td>\n",
       "      <td>East Boston</td>\n",
       "      <td>(42.3786, -71.0327)</td>\n",
       "    </tr>\n",
       "    <tr>\n",
       "      <th>2015-07-01</th>\n",
       "      <td>Electrical</td>\n",
       "      <td>East Boston</td>\n",
       "      <td>(42.3786, -71.0327)</td>\n",
       "    </tr>\n",
       "    <tr>\n",
       "      <th>2015-07-01</th>\n",
       "      <td>Building Inspection Request</td>\n",
       "      <td>East Boston</td>\n",
       "      <td>(42.3786, -71.0327)</td>\n",
       "    </tr>\n",
       "  </tbody>\n",
       "</table>\n",
       "</div>"
      ],
      "text/plain": [
       "                              CASE_TITLE      neighborhood  \\\n",
       "OPEN_DT                                                      \n",
       "2015-07-01  Requests for Street Cleaning          Back Bay   \n",
       "2015-07-01    Request for Recycling Cart  Greater Mattapan   \n",
       "2015-07-01                          Fire       East Boston   \n",
       "2015-07-01                    Electrical       East Boston   \n",
       "2015-07-01   Building Inspection Request       East Boston   \n",
       "\n",
       "              Geocoded_Location  \n",
       "OPEN_DT                          \n",
       "2015-07-01  (42.3504, -71.0893)  \n",
       "2015-07-01  (42.2674, -71.0985)  \n",
       "2015-07-01  (42.3786, -71.0327)  \n",
       "2015-07-01  (42.3786, -71.0327)  \n",
       "2015-07-01  (42.3786, -71.0327)  "
      ]
     },
     "execution_count": 10,
     "metadata": {},
     "output_type": "execute_result"
    }
   ],
   "source": [
    "df_from_new = pd.read_csv(\"BOS_2015_2.csv\", low_memory=False, index_col=['OPEN_DT'], parse_dates=['OPEN_DT'])\n",
    "df_from_new.head()"
   ]
  },
  {
   "cell_type": "code",
   "execution_count": 11,
   "metadata": {
    "collapsed": false
   },
   "outputs": [
    {
     "data": {
      "text/html": [
       "<div>\n",
       "<table border=\"1\" class=\"dataframe\">\n",
       "  <thead>\n",
       "    <tr style=\"text-align: right;\">\n",
       "      <th></th>\n",
       "      <th>CASE_TITLE</th>\n",
       "      <th>neighborhood</th>\n",
       "      <th>Geocoded_Location</th>\n",
       "    </tr>\n",
       "    <tr>\n",
       "      <th>OPEN_DT</th>\n",
       "      <th></th>\n",
       "      <th></th>\n",
       "      <th></th>\n",
       "    </tr>\n",
       "  </thead>\n",
       "  <tbody>\n",
       "    <tr>\n",
       "      <th>2015-07-01</th>\n",
       "      <td>Requests for Street Cleaning</td>\n",
       "      <td>Back Bay</td>\n",
       "      <td>(42.3504, -71.0893)</td>\n",
       "    </tr>\n",
       "    <tr>\n",
       "      <th>2015-07-01</th>\n",
       "      <td>Request for Recycling Cart</td>\n",
       "      <td>Greater Mattapan</td>\n",
       "      <td>(42.2674, -71.0985)</td>\n",
       "    </tr>\n",
       "    <tr>\n",
       "      <th>2015-07-01</th>\n",
       "      <td>Fire</td>\n",
       "      <td>East Boston</td>\n",
       "      <td>(42.3786, -71.0327)</td>\n",
       "    </tr>\n",
       "    <tr>\n",
       "      <th>2015-07-01</th>\n",
       "      <td>Electrical</td>\n",
       "      <td>East Boston</td>\n",
       "      <td>(42.3786, -71.0327)</td>\n",
       "    </tr>\n",
       "    <tr>\n",
       "      <th>2015-07-01</th>\n",
       "      <td>Building Inspection Request</td>\n",
       "      <td>East Boston</td>\n",
       "      <td>(42.3786, -71.0327)</td>\n",
       "    </tr>\n",
       "  </tbody>\n",
       "</table>\n",
       "</div>"
      ],
      "text/plain": [
       "                              CASE_TITLE      neighborhood  \\\n",
       "OPEN_DT                                                      \n",
       "2015-07-01  Requests for Street Cleaning          Back Bay   \n",
       "2015-07-01    Request for Recycling Cart  Greater Mattapan   \n",
       "2015-07-01                          Fire       East Boston   \n",
       "2015-07-01                    Electrical       East Boston   \n",
       "2015-07-01   Building Inspection Request       East Boston   \n",
       "\n",
       "              Geocoded_Location  \n",
       "OPEN_DT                          \n",
       "2015-07-01  (42.3504, -71.0893)  \n",
       "2015-07-01  (42.2674, -71.0985)  \n",
       "2015-07-01  (42.3786, -71.0327)  \n",
       "2015-07-01  (42.3786, -71.0327)  \n",
       "2015-07-01  (42.3786, -71.0327)  "
      ]
     },
     "execution_count": 11,
     "metadata": {},
     "output_type": "execute_result"
    }
   ],
   "source": [
    "df_from_new.head()"
   ]
  },
  {
   "cell_type": "code",
   "execution_count": 12,
   "metadata": {
    "collapsed": false
   },
   "outputs": [
    {
     "data": {
      "text/plain": [
       "CASE_TITLE            127\n",
       "neighborhood         4718\n",
       "Geocoded_Location       0\n",
       "dtype: int64"
      ]
     },
     "execution_count": 12,
     "metadata": {},
     "output_type": "execute_result"
    }
   ],
   "source": [
    "df_from_new.isnull().sum()"
   ]
  },
  {
   "cell_type": "code",
   "execution_count": null,
   "metadata": {
    "collapsed": true
   },
   "outputs": [],
   "source": []
  }
 ],
 "metadata": {
  "kernelspec": {
   "display_name": "Python 2",
   "language": "python",
   "name": "python2"
  },
  "language_info": {
   "codemirror_mode": {
    "name": "ipython",
    "version": 2
   },
   "file_extension": ".py",
   "mimetype": "text/x-python",
   "name": "python",
   "nbconvert_exporter": "python",
   "pygments_lexer": "ipython2",
   "version": "2.7.11"
  }
 },
 "nbformat": 4,
 "nbformat_minor": 0
}
