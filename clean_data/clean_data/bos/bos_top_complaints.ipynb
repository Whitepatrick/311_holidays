{
 "cells": [
  {
   "cell_type": "code",
   "execution_count": 2,
   "metadata": {
    "collapsed": true
   },
   "outputs": [],
   "source": [
    "%matplotlib inline\n",
    "\n",
    "import pandas as pd\n",
    "import numpy as np\n",
    "import scipy.stats as stats\n",
    "import matplotlib.pyplot as plt\n",
    "import sklearn"
   ]
  },
  {
   "cell_type": "code",
   "execution_count": 3,
   "metadata": {
    "collapsed": false
   },
   "outputs": [],
   "source": [
    "df1 = pd.read_csv('BOS_2014_1.csv')\n",
    "df2 = pd.read_csv('BOS_2014_2.csv')\n",
    "df3 = pd.read_csv('BOS_2015_1.csv')\n",
    "df4 = pd.read_csv('BOS_2015_2.csv')"
   ]
  },
  {
   "cell_type": "code",
   "execution_count": 4,
   "metadata": {
    "collapsed": true
   },
   "outputs": [],
   "source": [
    "df_2014 = df1.append(df2, ignore_index=True)\n",
    "df_2015 = df3.append(df4, ignore_index=True)"
   ]
  },
  {
   "cell_type": "code",
   "execution_count": 5,
   "metadata": {
    "collapsed": true
   },
   "outputs": [],
   "source": [
    "ser1 = pd.Series(df_2014['CASE_TITLE'])\n",
    "ser2 = pd.Series(df_2015['CASE_TITLE'])"
   ]
  },
  {
   "cell_type": "code",
   "execution_count": 11,
   "metadata": {
    "collapsed": false
   },
   "outputs": [
    {
     "data": {
      "text/plain": [
       "Schedule a Bulk Item Pickup                       12271\n",
       "Requests for Street Cleaning                      11170\n",
       "Pothole Repair (Internal)                         10480\n",
       "Request for Pothole Repair                         9035\n",
       "Street Light Outages                               5541\n",
       "Schedule Bulk Item Pickup                          5357\n",
       "Sidewalk Repair (Make Safe)                        5043\n",
       "Unsatisfactory Living Conditions                   3751\n",
       "Traffic Signal Repair                              3336\n",
       "Request for Recycling Cart                         3176\n",
       "Graffiti Removal                                   3086\n",
       "Tree Maintenance Requests                          3077\n",
       "Request for Snow Plowing                           2645\n",
       "Sticker Request                                    2344\n",
       "Sign Repair                                        2239\n",
       "Rodent Activity                                    2149\n",
       "Animal Generic Request                             2048\n",
       "Pick up Dead Animal                                1907\n",
       "Abandoned Vehicles                                 1889\n",
       "New Tree Requests                                  1832\n",
       "Sidewalk Repair                                    1721\n",
       "Building Inspection Request                        1517\n",
       "Parking Enforcement                                1489\n",
       "Equipment Repair                                   1431\n",
       "Empty Litter Basket                                1302\n",
       "Heat - Excessive  Insufficient                     1243\n",
       "Other: Complaint                                   1182\n",
       "New Sign  Crosswalk or Pavement Marking            1159\n",
       "Other: Comment                                      917\n",
       "General Lighting Request                            912\n",
       "Metrolist Survey                                    900\n",
       "Tree Emergencies                                    881\n",
       "Utility Call-In                                     775\n",
       "Work w/out Permit                                   734\n",
       "Unsafe/Dangerous Conditions                         734\n",
       "Call Log                                            728\n",
       "Contractor Complaints                               674\n",
       "Missing Sign                                        624\n",
       "Sidewalk Repair (Internal)                          621\n",
       "Major System Failure                                606\n",
       "PublicWorks: Complaint                              584\n",
       "Requests for Traffic Signal Studies or Reviews      538\n",
       "Catchbasin                                          525\n",
       "Missed Trash: District 07                           509\n",
       "Contractors Complaint                               486\n",
       "Street Light Knock Downs                            484\n",
       "Recycling Cart Return                               479\n",
       "PWD Graffiti                                        474\n",
       "Space Savers                                        464\n",
       "Public Works General Request                        450\n",
       "Overflowing or Un-kept Dumpster                     434\n",
       "Electrical                                          424\n",
       "Missed Trash: District 1C                           418\n",
       "Highway Maintenance                                 402\n",
       "Bed Bugs                                            397\n",
       "Unsanitary Conditions - Establishment               394\n",
       "Missed Trash: District 10B                          388\n",
       "Missed Recycling: District 06                       368\n",
       "Missed Trash: District 03                           362\n",
       "Mice Infestation - Residential                      360\n",
       "Name: CASE_TITLE, dtype: int64"
      ]
     },
     "execution_count": 11,
     "metadata": {},
     "output_type": "execute_result"
    }
   ],
   "source": [
    "ser1.value_counts()[0:60]"
   ]
  },
  {
   "cell_type": "code",
   "execution_count": 12,
   "metadata": {
    "collapsed": false
   },
   "outputs": [
    {
     "data": {
      "text/plain": [
       "Request for Snow Plowing                          30322\n",
       "Requests for Street Cleaning                      12905\n",
       "Schedule a Bulk Item Pickup                       12172\n",
       "Request for Pothole Repair                         8416\n",
       "Parking Enforcement                                8266\n",
       "Pothole Repair (Internal)                          5393\n",
       "Schedule Bulk Item Pickup                          5335\n",
       "CE Collection                                      4897\n",
       "Building Inspection Request                        4893\n",
       "Sign Repair                                        4770\n",
       "Sidewalk Repair (Make Safe)                        3988\n",
       "Tree Maintenance Requests                          3969\n",
       "PRINTED                                            3563\n",
       "Graffiti Removal                                   3247\n",
       "Request for Recycling Cart                         2805\n",
       "Empty Litter Basket                                2747\n",
       "Abandoned Vehicles                                 2601\n",
       "Unsatisfactory Living Conditions                   2589\n",
       "Animal Generic Request                             2573\n",
       "Front Desk Interactions                            2448\n",
       "Sticker Request                                    2444\n",
       "Traffic Signal Inspection                          2243\n",
       "Pick up Dead Animal                                2219\n",
       "Street Light Outages                               2152\n",
       "Rodent Activity                                    2150\n",
       "Traffic Signal Repair                              2080\n",
       "Equipment Repair                                   1560\n",
       "Other: Complaint                                   1528\n",
       "Unsafe/Dangerous Conditions                        1419\n",
       "Missed Trash: District 07                          1360\n",
       "Electrical                                         1347\n",
       "PWD Graffiti                                       1339\n",
       "Heat - Excessive  Insufficient                     1320\n",
       "Missed Trash: District 03                          1203\n",
       "Sidewalk Repair                                    1179\n",
       "PublicWorks: Complaint                             1137\n",
       "Work w/out Permit                                  1127\n",
       "Missing Sign                                       1112\n",
       "New Sign  Crosswalk or Pavement Marking            1064\n",
       "Misc. Snow Complaint                               1050\n",
       "New Tree Requests                                  1036\n",
       "Other: Comment                                     1026\n",
       "Missed Trash/Recycling/Yard Waste/Bulk Item         966\n",
       "Contractor Complaints                               889\n",
       "Call Log                                            855\n",
       "Missed Trash: District 02                           812\n",
       "Tree Emergencies                                    778\n",
       "Contractors Complaint                               770\n",
       "Request for Snow Plowing (Emergency Responder)      693\n",
       "Missed Trash: District 1C                           677\n",
       "Missed Trash: District 04                           664\n",
       "Missed Trash: District 10B                          646\n",
       "Utility Call-In                                     641\n",
       "Space Savers                                        635\n",
       "Needle Pickup                                       611\n",
       "outage////printed                                   594\n",
       "Missed Trash: District 06                           576\n",
       "Public Works General Request                        571\n",
       "Pavement Marking Maintenance                        557\n",
       "Fire Department                                     542\n",
       "Name: CASE_TITLE, dtype: int64"
      ]
     },
     "execution_count": 12,
     "metadata": {},
     "output_type": "execute_result"
    }
   ],
   "source": [
    "ser2.value_counts()[0:60]"
   ]
  },
  {
   "cell_type": "code",
   "execution_count": 8,
   "metadata": {
    "collapsed": false
   },
   "outputs": [
    {
     "data": {
      "text/plain": [
       "30322"
      ]
     },
     "execution_count": 8,
     "metadata": {},
     "output_type": "execute_result"
    }
   ],
   "source": [
    "ser2.value_counts()['Request for Snow Plowing']"
   ]
  },
  {
   "cell_type": "markdown",
   "metadata": {},
   "source": [
    "# Boston 311 Complaints  \n",
    "## Top 25  Complaints 2014 - 2015  \n",
    "### Complaint Type (Position 2014,Position 2015)    \n",
    "Schedule Bulk Item Pickup (1,3)  \n",
    "Requests for Street Cleaning (2,2)    \n",
    "Pothole Repair (Internal) (3,6)  \n",
    "Request for Pothole Repair (4,4) \n",
    "Schedule Bulk Item Pickup (5,7)\n",
    "Street Light Outages (6,23)  \n",
    "Sidewalk Repair (Make Safe) (7,11)  \n",
    "Unsatisfactory Living Conditions (8,18)  \n",
    "Traffic Signal Repair (9,)  \n",
    "Request for Recycling Cart (10,)  \n",
    "Graffiti Removal (11,)  \n",
    "Tree Maintenance Requests (12,)  \n",
    "Request for Snow Plowing (13,1)  \n",
    "Sticker Request (14,21)\n",
    "Sign Repair (15,10)\n",
    "Rodent Activity (16,25)\n",
    "Animal Generic Request (17,19)\n",
    "Pick up Dead Animal (18,23)\n",
    "Abandoned Vehicles (19,17)\n",
    "New Tree Requests (20,-)\n",
    "Sidewalk Repair (21,-)\n",
    "Building Inspection Request (22,9)\n",
    "Parking Enforcement (23,-)\n",
    "Equipment Repair (24,26)\n",
    "Empty Litter Basket (25,16)\n",
    "Heat - Excessive  Insufficient (26,-)\n",
    "\n"
   ]
  },
  {
   "cell_type": "code",
   "execution_count": null,
   "metadata": {
    "collapsed": true
   },
   "outputs": [],
   "source": []
  }
 ],
 "metadata": {
  "kernelspec": {
   "display_name": "Python 2",
   "language": "python",
   "name": "python2"
  },
  "language_info": {
   "codemirror_mode": {
    "name": "ipython",
    "version": 2
   },
   "file_extension": ".py",
   "mimetype": "text/x-python",
   "name": "python",
   "nbconvert_exporter": "python",
   "pygments_lexer": "ipython2",
   "version": "2.7.11"
  }
 },
 "nbformat": 4,
 "nbformat_minor": 0
}
