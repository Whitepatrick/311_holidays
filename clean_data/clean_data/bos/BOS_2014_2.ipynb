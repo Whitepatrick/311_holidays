{
 "cells": [
  {
   "cell_type": "code",
   "execution_count": 6,
   "metadata": {
    "collapsed": true
   },
   "outputs": [],
   "source": [
    "import pandas as pd\n",
    "import numpy as np"
   ]
  },
  {
   "cell_type": "code",
   "execution_count": 7,
   "metadata": {
    "collapsed": false
   },
   "outputs": [],
   "source": [
    "keepers = reason_keepers = ['OPEN_DT', 'CASE_TITLE', 'neighborhood', 'Geocoded_Location']"
   ]
  },
  {
   "cell_type": "code",
   "execution_count": 8,
   "metadata": {
    "collapsed": false
   },
   "outputs": [],
   "source": [
    "#df_raw = pd.read_csv('../../data_311/boston_311/bos_20140701_20141231.csv', low_memory=False)\n",
    "df = pd.read_csv('../../data_311/boston_311/bos_20140701_20141231.csv', low_memory=False, usecols=keepers, index_col=['OPEN_DT'], parse_dates=['OPEN_DT'])"
   ]
  },
  {
   "cell_type": "code",
   "execution_count": 9,
   "metadata": {
    "collapsed": true
   },
   "outputs": [],
   "source": [
    "df.to_csv(\"BOS_2014_2.csv\", date_format='%Y-%m-%d')"
   ]
  },
  {
   "cell_type": "code",
   "execution_count": 10,
   "metadata": {
    "collapsed": false
   },
   "outputs": [
    {
     "data": {
      "text/html": [
       "<div>\n",
       "<table border=\"1\" class=\"dataframe\">\n",
       "  <thead>\n",
       "    <tr style=\"text-align: right;\">\n",
       "      <th></th>\n",
       "      <th>CASE_TITLE</th>\n",
       "      <th>neighborhood</th>\n",
       "      <th>Geocoded_Location</th>\n",
       "    </tr>\n",
       "    <tr>\n",
       "      <th>OPEN_DT</th>\n",
       "      <th></th>\n",
       "      <th></th>\n",
       "      <th></th>\n",
       "    </tr>\n",
       "  </thead>\n",
       "  <tbody>\n",
       "    <tr>\n",
       "      <th>2014-07-01</th>\n",
       "      <td>Request for Recycling Cart</td>\n",
       "      <td>Jamaica Plain</td>\n",
       "      <td>(42.2968, -71.1153)</td>\n",
       "    </tr>\n",
       "    <tr>\n",
       "      <th>2014-07-01</th>\n",
       "      <td>Schedule Bulk Item Pickup</td>\n",
       "      <td>Greater Mattapan</td>\n",
       "      <td>(42.2834, -71.0927)</td>\n",
       "    </tr>\n",
       "    <tr>\n",
       "      <th>2014-07-01</th>\n",
       "      <td>Missed Trash: District 02</td>\n",
       "      <td>Jamaica Plain</td>\n",
       "      <td>(42.3106, -71.1247)</td>\n",
       "    </tr>\n",
       "    <tr>\n",
       "      <th>2014-07-01</th>\n",
       "      <td>Notification</td>\n",
       "      <td>Dorchester</td>\n",
       "      <td>(42.2892, -71.076)</td>\n",
       "    </tr>\n",
       "    <tr>\n",
       "      <th>2014-07-01</th>\n",
       "      <td>Requests for Street Cleaning</td>\n",
       "      <td>West Roxbury</td>\n",
       "      <td>(42.2732, -71.1443)</td>\n",
       "    </tr>\n",
       "  </tbody>\n",
       "</table>\n",
       "</div>"
      ],
      "text/plain": [
       "                              CASE_TITLE      neighborhood  \\\n",
       "OPEN_DT                                                      \n",
       "2014-07-01    Request for Recycling Cart     Jamaica Plain   \n",
       "2014-07-01     Schedule Bulk Item Pickup  Greater Mattapan   \n",
       "2014-07-01     Missed Trash: District 02     Jamaica Plain   \n",
       "2014-07-01                  Notification        Dorchester   \n",
       "2014-07-01  Requests for Street Cleaning      West Roxbury   \n",
       "\n",
       "              Geocoded_Location  \n",
       "OPEN_DT                          \n",
       "2014-07-01  (42.2968, -71.1153)  \n",
       "2014-07-01  (42.2834, -71.0927)  \n",
       "2014-07-01  (42.3106, -71.1247)  \n",
       "2014-07-01   (42.2892, -71.076)  \n",
       "2014-07-01  (42.2732, -71.1443)  "
      ]
     },
     "execution_count": 10,
     "metadata": {},
     "output_type": "execute_result"
    }
   ],
   "source": [
    "df_from_new = pd.read_csv(\"BOS_2014_2.csv\", low_memory=False, index_col=['OPEN_DT'], parse_dates=['OPEN_DT'])\n",
    "df_from_new.head()"
   ]
  },
  {
   "cell_type": "code",
   "execution_count": 11,
   "metadata": {
    "collapsed": false
   },
   "outputs": [
    {
     "data": {
      "text/plain": [
       "CASE_TITLE             88\n",
       "neighborhood         4243\n",
       "Geocoded_Location       0\n",
       "dtype: int64"
      ]
     },
     "execution_count": 11,
     "metadata": {},
     "output_type": "execute_result"
    }
   ],
   "source": [
    "df_from_new.isnull().sum()"
   ]
  },
  {
   "cell_type": "code",
   "execution_count": 12,
   "metadata": {
    "collapsed": false
   },
   "outputs": [
    {
     "data": {
      "text/html": [
       "<div>\n",
       "<table border=\"1\" class=\"dataframe\">\n",
       "  <thead>\n",
       "    <tr style=\"text-align: right;\">\n",
       "      <th></th>\n",
       "      <th>CASE_TITLE</th>\n",
       "      <th>neighborhood</th>\n",
       "      <th>Geocoded_Location</th>\n",
       "    </tr>\n",
       "    <tr>\n",
       "      <th>OPEN_DT</th>\n",
       "      <th></th>\n",
       "      <th></th>\n",
       "      <th></th>\n",
       "    </tr>\n",
       "  </thead>\n",
       "  <tbody>\n",
       "    <tr>\n",
       "      <th>2014-07-01</th>\n",
       "      <td>Request for Recycling Cart</td>\n",
       "      <td>Jamaica Plain</td>\n",
       "      <td>(42.2968, -71.1153)</td>\n",
       "    </tr>\n",
       "    <tr>\n",
       "      <th>2014-07-01</th>\n",
       "      <td>Schedule Bulk Item Pickup</td>\n",
       "      <td>Greater Mattapan</td>\n",
       "      <td>(42.2834, -71.0927)</td>\n",
       "    </tr>\n",
       "    <tr>\n",
       "      <th>2014-07-01</th>\n",
       "      <td>Missed Trash: District 02</td>\n",
       "      <td>Jamaica Plain</td>\n",
       "      <td>(42.3106, -71.1247)</td>\n",
       "    </tr>\n",
       "    <tr>\n",
       "      <th>2014-07-01</th>\n",
       "      <td>Notification</td>\n",
       "      <td>Dorchester</td>\n",
       "      <td>(42.2892, -71.076)</td>\n",
       "    </tr>\n",
       "    <tr>\n",
       "      <th>2014-07-01</th>\n",
       "      <td>Requests for Street Cleaning</td>\n",
       "      <td>West Roxbury</td>\n",
       "      <td>(42.2732, -71.1443)</td>\n",
       "    </tr>\n",
       "  </tbody>\n",
       "</table>\n",
       "</div>"
      ],
      "text/plain": [
       "                              CASE_TITLE      neighborhood  \\\n",
       "OPEN_DT                                                      \n",
       "2014-07-01    Request for Recycling Cart     Jamaica Plain   \n",
       "2014-07-01     Schedule Bulk Item Pickup  Greater Mattapan   \n",
       "2014-07-01     Missed Trash: District 02     Jamaica Plain   \n",
       "2014-07-01                  Notification        Dorchester   \n",
       "2014-07-01  Requests for Street Cleaning      West Roxbury   \n",
       "\n",
       "              Geocoded_Location  \n",
       "OPEN_DT                          \n",
       "2014-07-01  (42.2968, -71.1153)  \n",
       "2014-07-01  (42.2834, -71.0927)  \n",
       "2014-07-01  (42.3106, -71.1247)  \n",
       "2014-07-01   (42.2892, -71.076)  \n",
       "2014-07-01  (42.2732, -71.1443)  "
      ]
     },
     "execution_count": 12,
     "metadata": {},
     "output_type": "execute_result"
    }
   ],
   "source": [
    "df_from_new.head()"
   ]
  },
  {
   "cell_type": "code",
   "execution_count": null,
   "metadata": {
    "collapsed": true
   },
   "outputs": [],
   "source": []
  }
 ],
 "metadata": {
  "kernelspec": {
   "display_name": "Python 2",
   "language": "python",
   "name": "python2"
  },
  "language_info": {
   "codemirror_mode": {
    "name": "ipython",
    "version": 2
   },
   "file_extension": ".py",
   "mimetype": "text/x-python",
   "name": "python",
   "nbconvert_exporter": "python",
   "pygments_lexer": "ipython2",
   "version": "2.7.11"
  }
 },
 "nbformat": 4,
 "nbformat_minor": 0
}
