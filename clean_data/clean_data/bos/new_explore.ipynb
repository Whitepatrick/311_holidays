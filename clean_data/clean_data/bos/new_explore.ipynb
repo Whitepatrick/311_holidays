{
 "cells": [
  {
   "cell_type": "code",
   "execution_count": 239,
   "metadata": {
    "collapsed": true
   },
   "outputs": [],
   "source": [
    "%matplotlib inline\n",
    "\n",
    "import pandas as pd\n",
    "import numpy as np\n",
    "import scipy.stats as stats\n",
    "import matplotlib.pyplot as plt\n",
    "import sklearn"
   ]
  },
  {
   "cell_type": "code",
   "execution_count": 240,
   "metadata": {
    "collapsed": false
   },
   "outputs": [],
   "source": [
    "df = pd.read_csv('BOS_2015_2.csv')"
   ]
  },
  {
   "cell_type": "code",
   "execution_count": 241,
   "metadata": {
    "collapsed": false
   },
   "outputs": [
    {
     "data": {
      "text/plain": [
       "Index([u'OPEN_DT', u'CASE_TITLE', u'neighborhood', u'Geocoded_Location'], dtype='object')"
      ]
     },
     "execution_count": 241,
     "metadata": {},
     "output_type": "execute_result"
    }
   ],
   "source": [
    "df.keys()"
   ]
  },
  {
   "cell_type": "code",
   "execution_count": 242,
   "metadata": {
    "collapsed": false
   },
   "outputs": [],
   "source": [
    "ser = pd.Series(df['CASE_TITLE'])"
   ]
  },
  {
   "cell_type": "code",
   "execution_count": 243,
   "metadata": {
    "collapsed": false
   },
   "outputs": [
    {
     "data": {
      "text/plain": [
       "Requests for Street Cleaning                   7492\n",
       "Schedule a Bulk Item Pickup                    7098\n",
       "Parking Enforcement                            6759\n",
       "CE Collection                                  3439\n",
       "Building Inspection Request                    3130\n",
       "Schedule Bulk Item Pickup                      3022\n",
       "Tree Maintenance Requests                      2728\n",
       "Sign Repair                                    2659\n",
       "Traffic Signal Inspection                      2242\n",
       "Sidewalk Repair (Make Safe)                    2167\n",
       "Request for Pothole Repair                     2074\n",
       "PRINTED                                        2035\n",
       "Pothole Repair (Internal)                      2026\n",
       "Front Desk Interactions                        1450\n",
       "Pick up Dead Animal                            1440\n",
       "Abandoned Vehicles                             1409\n",
       "Rodent Activity                                1369\n",
       "Animal Generic Request                         1339\n",
       "Unsatisfactory Living Conditions               1295\n",
       "Request for Recycling Cart                     1274\n",
       "Graffiti Removal                               1249\n",
       "Sticker Request                                1207\n",
       "Street Light Outages                           1162\n",
       "Empty Litter Basket                            1101\n",
       "Equipment Repair                               1017\n",
       "Electrical                                      770\n",
       "Unsafe/Dangerous Conditions                     685\n",
       "Missed Trash/Recycling/Yard Waste/Bulk Item     684\n",
       "PWD Graffiti                                    681\n",
       "Work w/out Permit                               659\n",
       "Sidewalk Repair                                 619\n",
       "Name: CASE_TITLE, dtype: int64"
      ]
     },
     "execution_count": 243,
     "metadata": {},
     "output_type": "execute_result"
    }
   ],
   "source": [
    "ser.value_counts()[0:31]"
   ]
  },
  {
   "cell_type": "markdown",
   "metadata": {},
   "source": [
    "### general"
   ]
  },
  {
   "cell_type": "code",
   "execution_count": 244,
   "metadata": {
    "collapsed": true
   },
   "outputs": [],
   "source": [
    "#df.ix[df.B.isin(['X','Y','Z']), 'CASE_TITLE'] = \"General Request/Complaint\"\n",
    "df.ix[df.CASE_TITLE.isin(['Schedule a Bulk Item Pickup', 'Schedule Bulk Item Pickup', 'Request for Recycling Cart', 'Graffiti Removal', 'Sticker Request', 'Other: Comment', 'Other: Complaint', 'Contractors Complaint', 'PublicWorks: Complaint', 'PWD Graffiti', 'Public Works General Request', 'Recycling Cart Inquiry', 'General Comments For a Program or Policy', 'General Request', 'Misc. Snow Complaint']), 'CASE_TITLE'] = \"General Request or Complaint\""
   ]
  },
  {
   "cell_type": "markdown",
   "metadata": {},
   "source": [
    "### building conditions"
   ]
  },
  {
   "cell_type": "code",
   "execution_count": 245,
   "metadata": {
    "collapsed": true
   },
   "outputs": [],
   "source": [
    "df.ix[df.CASE_TITLE.isin(['Building Inspection Request', 'Heat - Excessive  Insufficient', 'Overflowing or Un-kept Dumpster', 'Missed Trash: District 07', 'Missed Trash: District 1C', 'Missed Trash: District 10B', 'Missed Trash: District 03', 'Missed Recycling: District 06', 'Missed Trash: District 06', 'Missed Leaf or Yard Trash: District 07', 'Missed Trash: District 1B', 'Missed Trash: District 02', 'Missed Leaf or Yard Trash: District 03', 'Unsanitary Conditions - Establishment', 'Illegal Occupancy', 'Chronic Dampness/Mold', 'Electrical', 'Missed Trash/Recycling/Yard Waste/Bulk Item', 'Missed Recycling: District 1C', 'Pest Infestation - Residential', 'Missed Recycling: District 03', 'Maintenance Complaint - Residential', 'Missed Recycling: District 1B', 'Missed Trash: District 05', 'No Utilities Residential - Water', 'Missed Trash: District 04', 'Abandoned Building', 'Illegal Rooming House', 'Missed Recycling: District 10B', 'Missed Trash: District 08', 'Missed Recycling: District 02', 'Missed Recycling: District 04', 'Missed Trash: District 10A', 'Missed Recycling: District 07', 'Missed Recycling: District 08', 'Missed Trash: District 09', 'Missed Trash: District 1A']), 'CASE_TITLE'] = \"Building Conditions\""
   ]
  },
  {
   "cell_type": "markdown",
   "metadata": {},
   "source": [
    "### living conditons"
   ]
  },
  {
   "cell_type": "code",
   "execution_count": 246,
   "metadata": {
    "collapsed": true
   },
   "outputs": [],
   "source": [
    "df.ix[df.CASE_TITLE.isin(['Unsatisfactory Living Conditions', 'Rodent Activity', 'Pick up Dead Animal', 'Animal Generic Request', 'Unsafe/Dangerous Conditions', 'Bed Bugs', 'Mice Infestation - Residential']), 'CASE_TITLE'] = \"Living Conditions\""
   ]
  },
  {
   "cell_type": "markdown",
   "metadata": {},
   "source": [
    "### signal sign maint"
   ]
  },
  {
   "cell_type": "code",
   "execution_count": 247,
   "metadata": {
    "collapsed": true
   },
   "outputs": [],
   "source": [
    "df.ix[df.CASE_TITLE.isin(['Traffic Signal Repair', 'Sign Repair', 'Equipment Repair', 'New Sign  Crosswalk or Pavement Marking', 'Missing Sign', 'Street Light Knock Downs', 'Requests for Traffic Signal Studies or Reviews']), 'CASE_TITLE'] = \"Signal/Sign Repair\""
   ]
  },
  {
   "cell_type": "markdown",
   "metadata": {},
   "source": [
    "### Parking Enforcement"
   ]
  },
  {
   "cell_type": "code",
   "execution_count": 248,
   "metadata": {
    "collapsed": true
   },
   "outputs": [],
   "source": [
    "df.ix[df.CASE_TITLE.isin(['Abandoned Vehicles', 'Parking Enforcement', 'Abandoned Bicycle', 'Parking Meter Repairs']), 'CASE_TITLE'] = \"Parking Enforcement\""
   ]
  },
  {
   "cell_type": "markdown",
   "metadata": {},
   "source": [
    "### Street/Sidewalk Maintenance"
   ]
  },
  {
   "cell_type": "code",
   "execution_count": 249,
   "metadata": {
    "collapsed": true
   },
   "outputs": [],
   "source": [
    "df.ix[df.CASE_TITLE.isin(['Pothole Repair (Internal)', 'Request for Pothole Repair', 'Requests for Street Cleaning', 'Street Light Outages', 'Request for Snow Plowing', 'Tree Maintenance Requests', 'Sidewalk Repair (Make Safe)', 'New Tree Requests', 'General Lighting Request', 'Empty Litter Basket', 'Tree Emergencies', 'Pavement Marking Maintenance', 'Sidewalk Repair (Internal)', 'Street Light Outages////printed', 'Sidewalk Repair/Concrete/Dist 7', 'Roadway Repair', 'Sidewalk Repair/Concrete/Dist 10', 'Repaint Crosswalk - Poor Condition', 'Highway Maintenance', 'Sidewalk Cover / Manhole', 'Request for Snow Plowing (Emergency Responder)', 'Sidewalk Repair']), 'CASE_TITLE'] = \"Street/Sidewalk Maintenance\""
   ]
  },
  {
   "cell_type": "code",
   "execution_count": 250,
   "metadata": {
    "collapsed": false
   },
   "outputs": [
    {
     "data": {
      "text/html": [
       "<div>\n",
       "<table border=\"1\" class=\"dataframe\">\n",
       "  <thead>\n",
       "    <tr style=\"text-align: right;\">\n",
       "      <th></th>\n",
       "      <th>OPEN_DT</th>\n",
       "      <th>CASE_TITLE</th>\n",
       "      <th>neighborhood</th>\n",
       "      <th>Geocoded_Location</th>\n",
       "    </tr>\n",
       "  </thead>\n",
       "  <tbody>\n",
       "    <tr>\n",
       "      <th>0</th>\n",
       "      <td>2015-07-01</td>\n",
       "      <td>Street/Sidewalk Maintenance</td>\n",
       "      <td>Back Bay</td>\n",
       "      <td>(42.3504, -71.0893)</td>\n",
       "    </tr>\n",
       "    <tr>\n",
       "      <th>1</th>\n",
       "      <td>2015-07-01</td>\n",
       "      <td>General Request or Complaint</td>\n",
       "      <td>Greater Mattapan</td>\n",
       "      <td>(42.2674, -71.0985)</td>\n",
       "    </tr>\n",
       "    <tr>\n",
       "      <th>2</th>\n",
       "      <td>2015-07-01</td>\n",
       "      <td>Fire</td>\n",
       "      <td>East Boston</td>\n",
       "      <td>(42.3786, -71.0327)</td>\n",
       "    </tr>\n",
       "    <tr>\n",
       "      <th>3</th>\n",
       "      <td>2015-07-01</td>\n",
       "      <td>Building Conditions</td>\n",
       "      <td>East Boston</td>\n",
       "      <td>(42.3786, -71.0327)</td>\n",
       "    </tr>\n",
       "    <tr>\n",
       "      <th>4</th>\n",
       "      <td>2015-07-01</td>\n",
       "      <td>Building Conditions</td>\n",
       "      <td>East Boston</td>\n",
       "      <td>(42.3786, -71.0327)</td>\n",
       "    </tr>\n",
       "  </tbody>\n",
       "</table>\n",
       "</div>"
      ],
      "text/plain": [
       "      OPEN_DT                    CASE_TITLE      neighborhood  \\\n",
       "0  2015-07-01   Street/Sidewalk Maintenance          Back Bay   \n",
       "1  2015-07-01  General Request or Complaint  Greater Mattapan   \n",
       "2  2015-07-01                          Fire       East Boston   \n",
       "3  2015-07-01           Building Conditions       East Boston   \n",
       "4  2015-07-01           Building Conditions       East Boston   \n",
       "\n",
       "     Geocoded_Location  \n",
       "0  (42.3504, -71.0893)  \n",
       "1  (42.2674, -71.0985)  \n",
       "2  (42.3786, -71.0327)  \n",
       "3  (42.3786, -71.0327)  \n",
       "4  (42.3786, -71.0327)  "
      ]
     },
     "execution_count": 250,
     "metadata": {},
     "output_type": "execute_result"
    }
   ],
   "source": [
    "df.head()"
   ]
  },
  {
   "cell_type": "code",
   "execution_count": 251,
   "metadata": {
    "collapsed": false
   },
   "outputs": [
    {
     "data": {
      "text/plain": [
       "Street/Sidewalk Maintenance                  21859\n",
       "General Request or Complaint                 16559\n",
       "Building Conditions                          10754\n",
       "Parking Enforcement                           8620\n",
       "Living Conditions                             6682\n",
       "Signal/Sign Repair                            5310\n",
       "CE Collection                                 3439\n",
       "Traffic Signal Inspection                     2242\n",
       "PRINTED                                       2035\n",
       "Front Desk Interactions                       1450\n",
       "Work w/out Permit                              659\n",
       "Needle Pickup                                  577\n",
       "Contractor Complaints                          567\n",
       "Call Log                                       479\n",
       "Recycling Cart Return                          383\n",
       "Ground Maintenance                             364\n",
       "outage////printed                              350\n",
       "Utility Call-In                                289\n",
       "Plumbing                                       272\n",
       "Maintenance - Homeowner                        249\n",
       "BTDT: Complaint                                247\n",
       "Working Beyond Hours                           243\n",
       "Trash on Vacant Lot                            212\n",
       "Catchbasin                                     179\n",
       "Protection of Adjoining Property               174\n",
       "Street Light Outages///sent to contractor      167\n",
       "Metrolist Survey                               164\n",
       "Missed Leaf or Yard Trash: District 04         155\n",
       "Work Hours-Loud Noise Complaints               148\n",
       "Fire                                           147\n",
       "Transportation General Request                 145\n",
       "Name: CASE_TITLE, dtype: int64"
      ]
     },
     "execution_count": 251,
     "metadata": {},
     "output_type": "execute_result"
    }
   ],
   "source": [
    "ser.value_counts()[0:31]"
   ]
  },
  {
   "cell_type": "code",
   "execution_count": 252,
   "metadata": {
    "collapsed": false
   },
   "outputs": [
    {
     "data": {
      "text/plain": [
       "Street/Sidewalk Maintenance     21859\n",
       "General Request or Complaint    16559\n",
       "Building Conditions             10754\n",
       "Parking Enforcement              8620\n",
       "Living Conditions                6682\n",
       "Signal/Sign Repair               5310\n",
       "Name: CASE_TITLE, dtype: int64"
      ]
     },
     "execution_count": 252,
     "metadata": {},
     "output_type": "execute_result"
    }
   ],
   "source": [
    "ser.value_counts()[0:6]"
   ]
  },
  {
   "cell_type": "code",
   "execution_count": 253,
   "metadata": {
    "collapsed": true
   },
   "outputs": [],
   "source": [
    "keep_these_complaints = ['Building Conditions', 'Street/Sidewalk Maintenance', 'General Request or Complaint', 'Parking Enforcement', 'Living Conditions', 'Signal/Sign Repair']"
   ]
  },
  {
   "cell_type": "code",
   "execution_count": 254,
   "metadata": {
    "collapsed": false
   },
   "outputs": [],
   "source": [
    "#df.loc[df['column_name'].isin(some_values)]\n",
    "df_new = df.loc[df['CASE_TITLE'].isin(keep_these_complaints)]"
   ]
  },
  {
   "cell_type": "code",
   "execution_count": 255,
   "metadata": {
    "collapsed": false
   },
   "outputs": [
    {
     "data": {
      "text/html": [
       "<div>\n",
       "<table border=\"1\" class=\"dataframe\">\n",
       "  <thead>\n",
       "    <tr style=\"text-align: right;\">\n",
       "      <th></th>\n",
       "      <th>OPEN_DT</th>\n",
       "      <th>CASE_TITLE</th>\n",
       "      <th>neighborhood</th>\n",
       "      <th>Geocoded_Location</th>\n",
       "    </tr>\n",
       "  </thead>\n",
       "  <tbody>\n",
       "    <tr>\n",
       "      <th>0</th>\n",
       "      <td>2015-07-01</td>\n",
       "      <td>Street/Sidewalk Maintenance</td>\n",
       "      <td>Back Bay</td>\n",
       "      <td>(42.3504, -71.0893)</td>\n",
       "    </tr>\n",
       "    <tr>\n",
       "      <th>1</th>\n",
       "      <td>2015-07-01</td>\n",
       "      <td>General Request or Complaint</td>\n",
       "      <td>Greater Mattapan</td>\n",
       "      <td>(42.2674, -71.0985)</td>\n",
       "    </tr>\n",
       "    <tr>\n",
       "      <th>3</th>\n",
       "      <td>2015-07-01</td>\n",
       "      <td>Building Conditions</td>\n",
       "      <td>East Boston</td>\n",
       "      <td>(42.3786, -71.0327)</td>\n",
       "    </tr>\n",
       "    <tr>\n",
       "      <th>4</th>\n",
       "      <td>2015-07-01</td>\n",
       "      <td>Building Conditions</td>\n",
       "      <td>East Boston</td>\n",
       "      <td>(42.3786, -71.0327)</td>\n",
       "    </tr>\n",
       "    <tr>\n",
       "      <th>5</th>\n",
       "      <td>2015-07-01</td>\n",
       "      <td>Street/Sidewalk Maintenance</td>\n",
       "      <td>Back Bay</td>\n",
       "      <td>(42.3511, -71.0876)</td>\n",
       "    </tr>\n",
       "  </tbody>\n",
       "</table>\n",
       "</div>"
      ],
      "text/plain": [
       "      OPEN_DT                    CASE_TITLE      neighborhood  \\\n",
       "0  2015-07-01   Street/Sidewalk Maintenance          Back Bay   \n",
       "1  2015-07-01  General Request or Complaint  Greater Mattapan   \n",
       "3  2015-07-01           Building Conditions       East Boston   \n",
       "4  2015-07-01           Building Conditions       East Boston   \n",
       "5  2015-07-01   Street/Sidewalk Maintenance          Back Bay   \n",
       "\n",
       "     Geocoded_Location  \n",
       "0  (42.3504, -71.0893)  \n",
       "1  (42.2674, -71.0985)  \n",
       "3  (42.3786, -71.0327)  \n",
       "4  (42.3786, -71.0327)  \n",
       "5  (42.3511, -71.0876)  "
      ]
     },
     "execution_count": 255,
     "metadata": {},
     "output_type": "execute_result"
    }
   ],
   "source": [
    "df_new.head()"
   ]
  },
  {
   "cell_type": "code",
   "execution_count": 256,
   "metadata": {
    "collapsed": false
   },
   "outputs": [
    {
     "data": {
      "text/plain": [
       "Street/Sidewalk Maintenance     21859\n",
       "General Request or Complaint    16559\n",
       "Building Conditions             10754\n",
       "Parking Enforcement              8620\n",
       "Living Conditions                6682\n",
       "Signal/Sign Repair               5310\n",
       "Name: CASE_TITLE, dtype: int64"
      ]
     },
     "execution_count": 256,
     "metadata": {},
     "output_type": "execute_result"
    }
   ],
   "source": [
    "df_new.CASE_TITLE.value_counts()"
   ]
  },
  {
   "cell_type": "code",
   "execution_count": 257,
   "metadata": {
    "collapsed": false
   },
   "outputs": [
    {
     "data": {
      "text/plain": [
       "69784"
      ]
     },
     "execution_count": 257,
     "metadata": {},
     "output_type": "execute_result"
    }
   ],
   "source": [
    "len(df_new)"
   ]
  },
  {
   "cell_type": "code",
   "execution_count": 258,
   "metadata": {
    "collapsed": true
   },
   "outputs": [],
   "source": [
    "df_new.to_csv('BOS4_F.csv', index = False)"
   ]
  },
  {
   "cell_type": "code",
   "execution_count": 259,
   "metadata": {
    "collapsed": false
   },
   "outputs": [],
   "source": [
    "file_df = pd.read_csv('BOS4_F.csv')"
   ]
  },
  {
   "cell_type": "code",
   "execution_count": 260,
   "metadata": {
    "collapsed": false
   },
   "outputs": [
    {
     "data": {
      "text/html": [
       "<div>\n",
       "<table border=\"1\" class=\"dataframe\">\n",
       "  <thead>\n",
       "    <tr style=\"text-align: right;\">\n",
       "      <th></th>\n",
       "      <th>OPEN_DT</th>\n",
       "      <th>CASE_TITLE</th>\n",
       "      <th>neighborhood</th>\n",
       "      <th>Geocoded_Location</th>\n",
       "    </tr>\n",
       "  </thead>\n",
       "  <tbody>\n",
       "    <tr>\n",
       "      <th>0</th>\n",
       "      <td>2015-07-01</td>\n",
       "      <td>Street/Sidewalk Maintenance</td>\n",
       "      <td>Back Bay</td>\n",
       "      <td>(42.3504, -71.0893)</td>\n",
       "    </tr>\n",
       "    <tr>\n",
       "      <th>1</th>\n",
       "      <td>2015-07-01</td>\n",
       "      <td>General Request or Complaint</td>\n",
       "      <td>Greater Mattapan</td>\n",
       "      <td>(42.2674, -71.0985)</td>\n",
       "    </tr>\n",
       "    <tr>\n",
       "      <th>2</th>\n",
       "      <td>2015-07-01</td>\n",
       "      <td>Building Conditions</td>\n",
       "      <td>East Boston</td>\n",
       "      <td>(42.3786, -71.0327)</td>\n",
       "    </tr>\n",
       "    <tr>\n",
       "      <th>3</th>\n",
       "      <td>2015-07-01</td>\n",
       "      <td>Building Conditions</td>\n",
       "      <td>East Boston</td>\n",
       "      <td>(42.3786, -71.0327)</td>\n",
       "    </tr>\n",
       "    <tr>\n",
       "      <th>4</th>\n",
       "      <td>2015-07-01</td>\n",
       "      <td>Street/Sidewalk Maintenance</td>\n",
       "      <td>Back Bay</td>\n",
       "      <td>(42.3511, -71.0876)</td>\n",
       "    </tr>\n",
       "  </tbody>\n",
       "</table>\n",
       "</div>"
      ],
      "text/plain": [
       "      OPEN_DT                    CASE_TITLE      neighborhood  \\\n",
       "0  2015-07-01   Street/Sidewalk Maintenance          Back Bay   \n",
       "1  2015-07-01  General Request or Complaint  Greater Mattapan   \n",
       "2  2015-07-01           Building Conditions       East Boston   \n",
       "3  2015-07-01           Building Conditions       East Boston   \n",
       "4  2015-07-01   Street/Sidewalk Maintenance          Back Bay   \n",
       "\n",
       "     Geocoded_Location  \n",
       "0  (42.3504, -71.0893)  \n",
       "1  (42.2674, -71.0985)  \n",
       "2  (42.3786, -71.0327)  \n",
       "3  (42.3786, -71.0327)  \n",
       "4  (42.3511, -71.0876)  "
      ]
     },
     "execution_count": 260,
     "metadata": {},
     "output_type": "execute_result"
    }
   ],
   "source": [
    "file_df.head()"
   ]
  },
  {
   "cell_type": "code",
   "execution_count": null,
   "metadata": {
    "collapsed": true
   },
   "outputs": [],
   "source": []
  }
 ],
 "metadata": {
  "kernelspec": {
   "display_name": "Python 2",
   "language": "python",
   "name": "python2"
  },
  "language_info": {
   "codemirror_mode": {
    "name": "ipython",
    "version": 2
   },
   "file_extension": ".py",
   "mimetype": "text/x-python",
   "name": "python",
   "nbconvert_exporter": "python",
   "pygments_lexer": "ipython2",
   "version": "2.7.11"
  }
 },
 "nbformat": 4,
 "nbformat_minor": 0
}
