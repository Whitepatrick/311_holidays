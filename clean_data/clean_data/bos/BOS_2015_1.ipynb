{
 "cells": [
  {
   "cell_type": "code",
   "execution_count": 7,
   "metadata": {
    "collapsed": true
   },
   "outputs": [],
   "source": [
    "import pandas as pd\n",
    "import numpy as np"
   ]
  },
  {
   "cell_type": "code",
   "execution_count": 8,
   "metadata": {
    "collapsed": false
   },
   "outputs": [],
   "source": [
    "keepers = reason_keepers = ['OPEN_DT', 'CASE_TITLE', 'neighborhood', 'Geocoded_Location']"
   ]
  },
  {
   "cell_type": "code",
   "execution_count": 9,
   "metadata": {
    "collapsed": false
   },
   "outputs": [],
   "source": [
    "#df_raw = pd.read_csv('../../data_311/boston_311/bos_20150101_20150630.csv', low_memory=False, index_col=['OPEN_DT'], parse_dates=['OPEN_DT'])\n",
    "df = pd.read_csv('../../data_311/boston_311/bos_20150101_20150630.csv', low_memory=False, usecols=keepers, index_col=['OPEN_DT'], parse_dates=['OPEN_DT'])"
   ]
  },
  {
   "cell_type": "code",
   "execution_count": 10,
   "metadata": {
    "collapsed": true
   },
   "outputs": [],
   "source": [
    "df.to_csv(\"BOS_2015_1.csv\", date_format='%Y-%m-%d')"
   ]
  },
  {
   "cell_type": "code",
   "execution_count": 11,
   "metadata": {
    "collapsed": false
   },
   "outputs": [
    {
     "data": {
      "text/html": [
       "<div>\n",
       "<table border=\"1\" class=\"dataframe\">\n",
       "  <thead>\n",
       "    <tr style=\"text-align: right;\">\n",
       "      <th></th>\n",
       "      <th>CASE_TITLE</th>\n",
       "      <th>neighborhood</th>\n",
       "      <th>Geocoded_Location</th>\n",
       "    </tr>\n",
       "    <tr>\n",
       "      <th>OPEN_DT</th>\n",
       "      <th></th>\n",
       "      <th></th>\n",
       "      <th></th>\n",
       "    </tr>\n",
       "  </thead>\n",
       "  <tbody>\n",
       "    <tr>\n",
       "      <th>2015-01-01</th>\n",
       "      <td>Other</td>\n",
       "      <td>Downtown / Financial District</td>\n",
       "      <td>(42.3574, -71.0648)</td>\n",
       "    </tr>\n",
       "    <tr>\n",
       "      <th>2015-01-01</th>\n",
       "      <td>PRINTED</td>\n",
       "      <td>Fenway / Kenmore / Audubon Circle / Longwood</td>\n",
       "      <td>(42.3474, -71.0944)</td>\n",
       "    </tr>\n",
       "    <tr>\n",
       "      <th>2015-01-01</th>\n",
       "      <td>PRINTED</td>\n",
       "      <td>Fenway / Kenmore / Audubon Circle / Longwood</td>\n",
       "      <td>(42.3474, -71.0944)</td>\n",
       "    </tr>\n",
       "    <tr>\n",
       "      <th>2015-01-01</th>\n",
       "      <td>Animal Found</td>\n",
       "      <td>West Roxbury</td>\n",
       "      <td>(42.2711, -71.1464)</td>\n",
       "    </tr>\n",
       "    <tr>\n",
       "      <th>2015-01-01</th>\n",
       "      <td>Fire</td>\n",
       "      <td>Dorchester</td>\n",
       "      <td>(42.3254, -71.0574)</td>\n",
       "    </tr>\n",
       "  </tbody>\n",
       "</table>\n",
       "</div>"
      ],
      "text/plain": [
       "              CASE_TITLE                                  neighborhood  \\\n",
       "OPEN_DT                                                                  \n",
       "2015-01-01         Other                 Downtown / Financial District   \n",
       "2015-01-01       PRINTED  Fenway / Kenmore / Audubon Circle / Longwood   \n",
       "2015-01-01       PRINTED  Fenway / Kenmore / Audubon Circle / Longwood   \n",
       "2015-01-01  Animal Found                                  West Roxbury   \n",
       "2015-01-01          Fire                                    Dorchester   \n",
       "\n",
       "              Geocoded_Location  \n",
       "OPEN_DT                          \n",
       "2015-01-01  (42.3574, -71.0648)  \n",
       "2015-01-01  (42.3474, -71.0944)  \n",
       "2015-01-01  (42.3474, -71.0944)  \n",
       "2015-01-01  (42.2711, -71.1464)  \n",
       "2015-01-01  (42.3254, -71.0574)  "
      ]
     },
     "execution_count": 11,
     "metadata": {},
     "output_type": "execute_result"
    }
   ],
   "source": [
    "df_from_new = pd.read_csv(\"BOS_2015_1.csv\", low_memory=False, index_col=['OPEN_DT'], parse_dates=['OPEN_DT'])\n",
    "df_from_new.head()"
   ]
  },
  {
   "cell_type": "code",
   "execution_count": 12,
   "metadata": {
    "collapsed": false
   },
   "outputs": [
    {
     "data": {
      "text/plain": [
       "CASE_TITLE             66\n",
       "neighborhood         6708\n",
       "Geocoded_Location       0\n",
       "dtype: int64"
      ]
     },
     "execution_count": 12,
     "metadata": {},
     "output_type": "execute_result"
    }
   ],
   "source": [
    "df_from_new.isnull().sum()"
   ]
  },
  {
   "cell_type": "code",
   "execution_count": 13,
   "metadata": {
    "collapsed": false
   },
   "outputs": [
    {
     "data": {
      "text/html": [
       "<div>\n",
       "<table border=\"1\" class=\"dataframe\">\n",
       "  <thead>\n",
       "    <tr style=\"text-align: right;\">\n",
       "      <th></th>\n",
       "      <th>CASE_TITLE</th>\n",
       "      <th>neighborhood</th>\n",
       "      <th>Geocoded_Location</th>\n",
       "    </tr>\n",
       "    <tr>\n",
       "      <th>OPEN_DT</th>\n",
       "      <th></th>\n",
       "      <th></th>\n",
       "      <th></th>\n",
       "    </tr>\n",
       "  </thead>\n",
       "  <tbody>\n",
       "    <tr>\n",
       "      <th>2015-01-01</th>\n",
       "      <td>Other</td>\n",
       "      <td>Downtown / Financial District</td>\n",
       "      <td>(42.3574, -71.0648)</td>\n",
       "    </tr>\n",
       "    <tr>\n",
       "      <th>2015-01-01</th>\n",
       "      <td>PRINTED</td>\n",
       "      <td>Fenway / Kenmore / Audubon Circle / Longwood</td>\n",
       "      <td>(42.3474, -71.0944)</td>\n",
       "    </tr>\n",
       "    <tr>\n",
       "      <th>2015-01-01</th>\n",
       "      <td>PRINTED</td>\n",
       "      <td>Fenway / Kenmore / Audubon Circle / Longwood</td>\n",
       "      <td>(42.3474, -71.0944)</td>\n",
       "    </tr>\n",
       "    <tr>\n",
       "      <th>2015-01-01</th>\n",
       "      <td>Animal Found</td>\n",
       "      <td>West Roxbury</td>\n",
       "      <td>(42.2711, -71.1464)</td>\n",
       "    </tr>\n",
       "    <tr>\n",
       "      <th>2015-01-01</th>\n",
       "      <td>Fire</td>\n",
       "      <td>Dorchester</td>\n",
       "      <td>(42.3254, -71.0574)</td>\n",
       "    </tr>\n",
       "  </tbody>\n",
       "</table>\n",
       "</div>"
      ],
      "text/plain": [
       "              CASE_TITLE                                  neighborhood  \\\n",
       "OPEN_DT                                                                  \n",
       "2015-01-01         Other                 Downtown / Financial District   \n",
       "2015-01-01       PRINTED  Fenway / Kenmore / Audubon Circle / Longwood   \n",
       "2015-01-01       PRINTED  Fenway / Kenmore / Audubon Circle / Longwood   \n",
       "2015-01-01  Animal Found                                  West Roxbury   \n",
       "2015-01-01          Fire                                    Dorchester   \n",
       "\n",
       "              Geocoded_Location  \n",
       "OPEN_DT                          \n",
       "2015-01-01  (42.3574, -71.0648)  \n",
       "2015-01-01  (42.3474, -71.0944)  \n",
       "2015-01-01  (42.3474, -71.0944)  \n",
       "2015-01-01  (42.2711, -71.1464)  \n",
       "2015-01-01  (42.3254, -71.0574)  "
      ]
     },
     "execution_count": 13,
     "metadata": {},
     "output_type": "execute_result"
    }
   ],
   "source": [
    "df_from_new.head()"
   ]
  },
  {
   "cell_type": "code",
   "execution_count": null,
   "metadata": {
    "collapsed": true
   },
   "outputs": [],
   "source": []
  }
 ],
 "metadata": {
  "kernelspec": {
   "display_name": "Python 2",
   "language": "python",
   "name": "python2"
  },
  "language_info": {
   "codemirror_mode": {
    "name": "ipython",
    "version": 2
   },
   "file_extension": ".py",
   "mimetype": "text/x-python",
   "name": "python",
   "nbconvert_exporter": "python",
   "pygments_lexer": "ipython2",
   "version": "2.7.11"
  }
 },
 "nbformat": 4,
 "nbformat_minor": 0
}
