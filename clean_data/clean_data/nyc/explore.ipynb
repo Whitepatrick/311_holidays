{
 "cells": [
  {
   "cell_type": "code",
   "execution_count": 1,
   "metadata": {
    "collapsed": true
   },
   "outputs": [],
   "source": [
    "%matplotlib inline\n",
    "\n",
    "import pandas as pd\n",
    "import numpy as np\n",
    "import scipy.stats as stats\n",
    "import matplotlib.pyplot as plt\n",
    "import sklearn"
   ]
  },
  {
   "cell_type": "code",
   "execution_count": 2,
   "metadata": {
    "collapsed": false
   },
   "outputs": [],
   "source": [
    "df = pd.read_csv('nyc/NYC_2014_1.csv')"
   ]
  },
  {
   "cell_type": "code",
   "execution_count": 3,
   "metadata": {
    "collapsed": false
   },
   "outputs": [],
   "source": [
    "ser = pd.Series(df['Complaint_Type'])"
   ]
  },
  {
   "cell_type": "code",
   "execution_count": 4,
   "metadata": {
    "collapsed": false
   },
   "outputs": [
    {
     "data": {
      "text/plain": [
       "Street Condition                     77418\n",
       "Street Light Condition               46137\n",
       "Blocked Driveway                     37727\n",
       "PLUMBING                             37554\n",
       "HEAT/HOT WATER                       34853\n",
       "Illegal Parking                      28779\n",
       "PAINT/PLASTER                        28466\n",
       "Water System                         28188\n",
       "Noise                                24741\n",
       "Traffic Signal Condition             23728\n",
       "UNSANITARY CONDITION                 20250\n",
       "Sewer                                19862\n",
       "Noise - Commercial                   17550\n",
       "DOF Literature Request               16956\n",
       "GENERAL CONSTRUCTION                 15888\n",
       "ELECTRIC                             15805\n",
       "Dirty Conditions                     15619\n",
       "GENERAL                              14819\n",
       "Snow                                 14610\n",
       "Broken Muni Meter                    14461\n",
       "General Construction/Plumbing        14403\n",
       "Noise - Street/Sidewalk              13987\n",
       "Building/Use                         13112\n",
       "PAINT - PLASTER                      12116\n",
       "WATER LEAK                           11634\n",
       "Sanitation Condition                 11402\n",
       "Rodent                               11129\n",
       "Missed Collection (All Materials)    10916\n",
       "DOOR/WINDOW                          10475\n",
       "Graffiti                              9205\n",
       "Name: Complaint_Type, dtype: int64"
      ]
     },
     "execution_count": 4,
     "metadata": {},
     "output_type": "execute_result"
    }
   ],
   "source": [
    "ser.value_counts()[1:31]"
   ]
  },
  {
   "cell_type": "code",
   "execution_count": 5,
   "metadata": {
    "collapsed": true
   },
   "outputs": [],
   "source": [
    "#df.ix[df.B.isin(['X','Y','Z']), 'Complaint_Type'] = \"General Request/Complaint\"\n",
    "df.ix[df.Complaint_Type.isin(['DOF Literature Request','GENERAL','Noise','Noise - Commercial','GENERAL CONSTRUCTION','Graffiti','Consumer Complaint','Taxi Complaint','Benefit Card Replacement','SAFETY','Traffic','Vending','DCA / DOH New License Application Request','DOT Literature Request','Noise - Park','For Hire Vehicle Complaint','Construction','DCA Literature Request','CONSTRUCTION']), 'Complaint_Type'] = \"General Request or Complaint\""
   ]
  },
  {
   "cell_type": "code",
   "execution_count": 6,
   "metadata": {
    "collapsed": true
   },
   "outputs": [],
   "source": [
    "df.ix[df.Complaint_Type.isin(['PLUMBING','PAINT/PLASTER','ELECTRIC','Building/Use','WATER LEAK','General Construction/Plumbing','HEAT/HOT WATER','Missed Collection (All Materials)','DOOR/WINDOW','HEATING','PAINT - PLASTER','FLOORING/STAIRS','Maintenance or Facility','APPLIANCE','Elevator','Food Establishment','Plumbing','Electrical','Fire Safety Director - F58','Non-Residential Heat','Boilers','Asbestos','Lead','Vacant Lot','School Maintenance','Indoor Sewage']), 'Complaint_Type'] = \"Building Conditions\""
   ]
  },
  {
   "cell_type": "code",
   "execution_count": 7,
   "metadata": {
    "collapsed": true
   },
   "outputs": [],
   "source": [
    "df.ix[df.Complaint_Type.isin(['Sewer','Dirty Conditions','Rodent','Sanitation Condition','UNSANITARY CONDITION','Animal Abuse','Air Quality','Unsanitary Animal Pvt Property','Smoking','Food Poisoning','Homeless Encampment','Homeless Person Assistance']), 'Complaint_Type'] = \"Living Conditions\""
   ]
  },
  {
   "cell_type": "code",
   "execution_count": 8,
   "metadata": {
    "collapsed": true
   },
   "outputs": [],
   "source": [
    "df.ix[df.Complaint_Type.isin(['Traffic Signal Condition','Street Light Condition','Street Sign - Damaged','Street Sign - Missing']), 'Complaint_Type'] = \"Signal/Sign Repair\""
   ]
  },
  {
   "cell_type": "code",
   "execution_count": 9,
   "metadata": {
    "collapsed": true
   },
   "outputs": [],
   "source": [
    "df.ix[df.Complaint_Type.isin(['Derelict Vehicles','Derelict Vehicle','Blocked Driveway','Illegal Parking','Broken Muni Meter']), 'Complaint_Type'] = \"Parking Enforcement\""
   ]
  },
  {
   "cell_type": "code",
   "execution_count": 10,
   "metadata": {
    "collapsed": true
   },
   "outputs": [],
   "source": [
    "df.ix[df.Complaint_Type.isin(['Water System','Noise - Street/Sidewalk','Street Condition','Snow','Overgrown Tree/Branches','Damaged Tree','Highway Condition','Dead Tree','Root/Sewer/Sidewalk Condition','Noise - Vehicle','Sidewalk Condition','Illegal Tree Damage','Standing Water','Street Sign - Dangling']), 'Complaint_Type'] = \"Street/Sidewalk Maintenance\""
   ]
  },
  {
   "cell_type": "code",
   "execution_count": 11,
   "metadata": {
    "collapsed": false
   },
   "outputs": [
    {
     "data": {
      "text/html": [
       "<div>\n",
       "<table border=\"1\" class=\"dataframe\">\n",
       "  <thead>\n",
       "    <tr style=\"text-align: right;\">\n",
       "      <th></th>\n",
       "      <th>Created_Date</th>\n",
       "      <th>Complaint_Type</th>\n",
       "      <th>Borough</th>\n",
       "      <th>Location</th>\n",
       "    </tr>\n",
       "  </thead>\n",
       "  <tbody>\n",
       "    <tr>\n",
       "      <th>0</th>\n",
       "      <td>2014-06-30</td>\n",
       "      <td>Building Conditions</td>\n",
       "      <td>BRONX</td>\n",
       "      <td>(40.87016285040958, -73.88879970718)</td>\n",
       "    </tr>\n",
       "    <tr>\n",
       "      <th>1</th>\n",
       "      <td>2014-06-30</td>\n",
       "      <td>Building Conditions</td>\n",
       "      <td>BROOKLYN</td>\n",
       "      <td>(40.64314961982049, -73.95046073917715)</td>\n",
       "    </tr>\n",
       "    <tr>\n",
       "      <th>2</th>\n",
       "      <td>2014-06-30</td>\n",
       "      <td>Building Conditions</td>\n",
       "      <td>BROOKLYN</td>\n",
       "      <td>(40.64507250981882, -73.87864906383643)</td>\n",
       "    </tr>\n",
       "    <tr>\n",
       "      <th>3</th>\n",
       "      <td>2014-06-30</td>\n",
       "      <td>Building Conditions</td>\n",
       "      <td>MANHATTAN</td>\n",
       "      <td>(40.86334391631684, -73.92915076102932)</td>\n",
       "    </tr>\n",
       "    <tr>\n",
       "      <th>4</th>\n",
       "      <td>2014-06-30</td>\n",
       "      <td>Building Conditions</td>\n",
       "      <td>BROOKLYN</td>\n",
       "      <td>(40.64393283892149, -73.95273031361069)</td>\n",
       "    </tr>\n",
       "  </tbody>\n",
       "</table>\n",
       "</div>"
      ],
      "text/plain": [
       "  Created_Date       Complaint_Type    Borough  \\\n",
       "0   2014-06-30  Building Conditions      BRONX   \n",
       "1   2014-06-30  Building Conditions   BROOKLYN   \n",
       "2   2014-06-30  Building Conditions   BROOKLYN   \n",
       "3   2014-06-30  Building Conditions  MANHATTAN   \n",
       "4   2014-06-30  Building Conditions   BROOKLYN   \n",
       "\n",
       "                                  Location  \n",
       "0     (40.87016285040958, -73.88879970718)  \n",
       "1  (40.64314961982049, -73.95046073917715)  \n",
       "2  (40.64507250981882, -73.87864906383643)  \n",
       "3  (40.86334391631684, -73.92915076102932)  \n",
       "4  (40.64393283892149, -73.95273031361069)  "
      ]
     },
     "execution_count": 11,
     "metadata": {},
     "output_type": "execute_result"
    }
   ],
   "source": [
    "df.head()"
   ]
  },
  {
   "cell_type": "code",
   "execution_count": 12,
   "metadata": {
    "collapsed": false
   },
   "outputs": [
    {
     "data": {
      "text/plain": [
       "Street/Sidewalk Maintenance                173869\n",
       "General Request or Complaint               138744\n",
       "Parking Enforcement                         93873\n",
       "Living Conditions                           91012\n",
       "Signal/Sign Repair                          75489\n",
       "NONCONST                                     8938\n",
       "SCRIE                                        3812\n",
       "Special Projects Inspection Team (SPIT)      3175\n",
       "Water Conservation                           3015\n",
       "Indoor Air Quality                           2694\n",
       "Other Enforcement                            2511\n",
       "Special Enforcement                          2432\n",
       "Litter Basket / Request                      1421\n",
       "Hazardous Materials                          1237\n",
       "Violation of Park Rules                       963\n",
       "Industrial Waste                              891\n",
       "Agency Issues                                 687\n",
       "Request Xmas Tree Collection                  674\n",
       "DPR Internal                                  653\n",
       "EAP Inspection - F59                          644\n",
       "Derelict Bicycle                              613\n",
       "Water Quality                                 613\n",
       "Animal in a Park                              602\n",
       "OUTSIDE BUILDING                              565\n",
       "Overflowing Litter Baskets                    551\n",
       "Bridge Condition                              497\n",
       "Noise - Helicopter                            488\n",
       "Sweeping/Missed                               482\n",
       "Drinking                                      478\n",
       "Request for Information                       462\n",
       "Name: Complaint_Type, dtype: int64"
      ]
     },
     "execution_count": 12,
     "metadata": {},
     "output_type": "execute_result"
    }
   ],
   "source": [
    "ser.value_counts()[1:31]"
   ]
  },
  {
   "cell_type": "code",
   "execution_count": 13,
   "metadata": {
    "collapsed": true
   },
   "outputs": [],
   "source": [
    "remove_these = []\n",
    "\n",
    "for i in remove_these:\n",
    "    df = df[df.Complaint_Type == i]"
   ]
  },
  {
   "cell_type": "code",
   "execution_count": 14,
   "metadata": {
    "collapsed": false
   },
   "outputs": [],
   "source": [
    "df2 = pd.DataFrame(ser.value_counts()[6:])"
   ]
  },
  {
   "cell_type": "code",
   "execution_count": 15,
   "metadata": {
    "collapsed": false
   },
   "outputs": [
    {
     "data": {
      "text/html": [
       "<div>\n",
       "<table border=\"1\" class=\"dataframe\">\n",
       "  <thead>\n",
       "    <tr style=\"text-align: right;\">\n",
       "      <th></th>\n",
       "      <th>Complaint_Type</th>\n",
       "    </tr>\n",
       "  </thead>\n",
       "  <tbody>\n",
       "    <tr>\n",
       "      <th>NONCONST</th>\n",
       "      <td>8938</td>\n",
       "    </tr>\n",
       "    <tr>\n",
       "      <th>SCRIE</th>\n",
       "      <td>3812</td>\n",
       "    </tr>\n",
       "    <tr>\n",
       "      <th>Special Projects Inspection Team (SPIT)</th>\n",
       "      <td>3175</td>\n",
       "    </tr>\n",
       "    <tr>\n",
       "      <th>Water Conservation</th>\n",
       "      <td>3015</td>\n",
       "    </tr>\n",
       "    <tr>\n",
       "      <th>Indoor Air Quality</th>\n",
       "      <td>2694</td>\n",
       "    </tr>\n",
       "  </tbody>\n",
       "</table>\n",
       "</div>"
      ],
      "text/plain": [
       "                                         Complaint_Type\n",
       "NONCONST                                           8938\n",
       "SCRIE                                              3812\n",
       "Special Projects Inspection Team (SPIT)            3175\n",
       "Water Conservation                                 3015\n",
       "Indoor Air Quality                                 2694"
      ]
     },
     "execution_count": 15,
     "metadata": {},
     "output_type": "execute_result"
    }
   ],
   "source": [
    "df2.head()"
   ]
  },
  {
   "cell_type": "code",
   "execution_count": 16,
   "metadata": {
    "collapsed": false
   },
   "outputs": [],
   "source": [
    "#ser.value_counts()[6:]\n",
    "df.ix[df.Complaint_Type.isin(['NONCONST','SCRIE','Special Projects Inspection Team (SPIT)','Water Conservation','Other Enforcement','Special Enforcement','For Hire Vehicle Complaint','Hazardous Materials','Violation of Park Rules','Industrial Waste','Indoor Air Quality','Litter Basket / Request','Agency Issues','Request Xmas Tree Collection','DPR Internal','EAP Inspection - F59','Derelict Bicycle','Water Quality']), 'Complaint_Type'] = \"\""
   ]
  },
  {
   "cell_type": "code",
   "execution_count": 17,
   "metadata": {
    "collapsed": true
   },
   "outputs": [],
   "source": [
    "df.ix[df.Complaint_Type.isin(['Animal in a Park','OUTSIDE BUILDING','Overflowing Litter Baskets','Bridge Condition','Noise - Helicopter','Sweeping/Missed','Drinking','Request for Information','Emergency Response Team (ERT)','BEST/Site Safety','Noise - House of Worship','Curb Condition','Taxi Compliment','Recycling Enforcement']), 'Complaint_Type'] = \"\""
   ]
  },
  {
   "cell_type": "code",
   "execution_count": 18,
   "metadata": {
    "collapsed": true
   },
   "outputs": [],
   "source": [
    "df.ix[df.Complaint_Type.isin(['Unleashed Dog','Unsanitary Pigeon Condition','Unsanitary Pigeon Condition','','','']), 'Complaint_Type'] = \"\""
   ]
  },
  {
   "cell_type": "code",
   "execution_count": 19,
   "metadata": {
    "collapsed": false
   },
   "outputs": [
    {
     "data": {
      "text/plain": [
       "array(['Building Conditions', 'Building Conditions', 'Building Conditions',\n",
       "       ..., 'Building Conditions', 'Building Conditions',\n",
       "       'Building Conditions'], dtype=object)"
      ]
     },
     "execution_count": 19,
     "metadata": {},
     "output_type": "execute_result"
    }
   ],
   "source": [
    "np.array(ser, dtype=pd.Series)"
   ]
  },
  {
   "cell_type": "code",
   "execution_count": 20,
   "metadata": {
    "collapsed": false
   },
   "outputs": [
    {
     "data": {
      "text/plain": [
       "                                        42095\n",
       "Ferry Inquiry                             263\n",
       "Disorderly Youth                          254\n",
       "ELEVATOR                                  253\n",
       "Public Payphone Complaint                 241\n",
       "Mold                                      231\n",
       "DOF Property - Reduction Issue            229\n",
       "DOF Parking - Tax Exemption               221\n",
       "Plant                                     216\n",
       "Investigations and Discipline (IAD)       206\n",
       "Found Property                            195\n",
       "Fire Alarm - Reinspection                 184\n",
       "Sweeping/Inadequate                       172\n",
       "Bike/Roller/Skate Chronic                 162\n",
       "Urinating in Public                       156\n",
       "Cranes and Derricks                       155\n",
       "City Vehicle Placard Complaint            152\n",
       "Senior Center Complaint                   145\n",
       "OEM Literature Request                    138\n",
       "Fire Alarm - New System                   131\n",
       "Collection Truck Noise                    124\n",
       "Bus Stop Shelter Placement                111\n",
       "Ferry Complaint                            99\n",
       "Illegal Animal Kept as Pet                 95\n",
       "Scaffold Safety                            93\n",
       "Complaint                                  84\n",
       "Drinking Water                             82\n",
       "Fire Alarm - Modification                  81\n",
       "Illegal Fireworks                          81\n",
       "Beach/Pool/Sauna Complaint                 77\n",
       "                                        ...  \n",
       "Special Natural Area District (SNAD)       20\n",
       "Ferry Permit                               16\n",
       "Opinion for the Mayor                      15\n",
       "Adopt-A-Basket                             15\n",
       "Stalled Sites                              13\n",
       "Public Toilet                              13\n",
       "Fire Alarm - Addition                      12\n",
       "Open Flame Permit                          12\n",
       "Public Assembly                            12\n",
       "Highway Sign - Missing                     11\n",
       "DFTA Literature Request                    11\n",
       "Tunnel Condition                           10\n",
       "Bottled Water                               8\n",
       "Legal Services Provider Complaint           8\n",
       "Transportation Provider Complaint           7\n",
       "Hazmat Storage/Use                          6\n",
       "Fire Alarm - Replacement                    6\n",
       "Highway Sign - Dangling                     6\n",
       "X-Ray Machine/Equipment                     5\n",
       "DHS Income Savings Requirement              5\n",
       "Lifeguard                                   4\n",
       "Radioactive Material                        4\n",
       "Calorie Labeling                            3\n",
       "Sprinkler - Mechanical                      3\n",
       "Public Assembly - Temporary                 3\n",
       "VACANT APARTMENT                            2\n",
       "Tanning                                     1\n",
       "Building Condition                          1\n",
       "Standpipe - Mechanical                      1\n",
       "Trans Fat                                   1\n",
       "Name: Complaint_Type, dtype: int64"
      ]
     },
     "execution_count": 20,
     "metadata": {},
     "output_type": "execute_result"
    }
   ],
   "source": [
    "ser.value_counts()[6:]"
   ]
  },
  {
   "cell_type": "code",
   "execution_count": 37,
   "metadata": {
    "collapsed": false
   },
   "outputs": [
    {
     "data": {
      "text/plain": [
       "Building Conditions             326122\n",
       "Street/Sidewalk Maintenance     173869\n",
       "General Request or Complaint    138744\n",
       "Parking Enforcement              93873\n",
       "Living Conditions                91012\n",
       "Signal/Sign Repair               75489\n",
       "Name: Complaint_Type, dtype: int64"
      ]
     },
     "execution_count": 37,
     "metadata": {},
     "output_type": "execute_result"
    }
   ],
   "source": [
    "ser.value_counts()[0:6]"
   ]
  },
  {
   "cell_type": "code",
   "execution_count": 26,
   "metadata": {
    "collapsed": true
   },
   "outputs": [],
   "source": [
    "keep_these_complaints = ['Building Conditions', 'Street/Sidewalk Maintenance', 'General Request or Complaint', 'Parking Enforcement', 'Living Conditions', 'Signal/Sign Repair']"
   ]
  },
  {
   "cell_type": "code",
   "execution_count": 55,
   "metadata": {
    "collapsed": false
   },
   "outputs": [],
   "source": [
    "#df.loc[df['column_name'].isin(some_values)]\n",
    "df_new = df.loc[df['Complaint_Type'].isin(keep_these_complaints)]"
   ]
  },
  {
   "cell_type": "code",
   "execution_count": 56,
   "metadata": {
    "collapsed": false
   },
   "outputs": [
    {
     "data": {
      "text/html": [
       "<div>\n",
       "<table border=\"1\" class=\"dataframe\">\n",
       "  <thead>\n",
       "    <tr style=\"text-align: right;\">\n",
       "      <th></th>\n",
       "      <th>Created_Date</th>\n",
       "      <th>Complaint_Type</th>\n",
       "      <th>Borough</th>\n",
       "      <th>Location</th>\n",
       "    </tr>\n",
       "  </thead>\n",
       "  <tbody>\n",
       "    <tr>\n",
       "      <th>0</th>\n",
       "      <td>2014-06-30</td>\n",
       "      <td>Building Conditions</td>\n",
       "      <td>BRONX</td>\n",
       "      <td>(40.87016285040958, -73.88879970718)</td>\n",
       "    </tr>\n",
       "    <tr>\n",
       "      <th>1</th>\n",
       "      <td>2014-06-30</td>\n",
       "      <td>Building Conditions</td>\n",
       "      <td>BROOKLYN</td>\n",
       "      <td>(40.64314961982049, -73.95046073917715)</td>\n",
       "    </tr>\n",
       "    <tr>\n",
       "      <th>2</th>\n",
       "      <td>2014-06-30</td>\n",
       "      <td>Building Conditions</td>\n",
       "      <td>BROOKLYN</td>\n",
       "      <td>(40.64507250981882, -73.87864906383643)</td>\n",
       "    </tr>\n",
       "    <tr>\n",
       "      <th>3</th>\n",
       "      <td>2014-06-30</td>\n",
       "      <td>Building Conditions</td>\n",
       "      <td>MANHATTAN</td>\n",
       "      <td>(40.86334391631684, -73.92915076102932)</td>\n",
       "    </tr>\n",
       "    <tr>\n",
       "      <th>4</th>\n",
       "      <td>2014-06-30</td>\n",
       "      <td>Building Conditions</td>\n",
       "      <td>BROOKLYN</td>\n",
       "      <td>(40.64393283892149, -73.95273031361069)</td>\n",
       "    </tr>\n",
       "  </tbody>\n",
       "</table>\n",
       "</div>"
      ],
      "text/plain": [
       "  Created_Date       Complaint_Type    Borough  \\\n",
       "0   2014-06-30  Building Conditions      BRONX   \n",
       "1   2014-06-30  Building Conditions   BROOKLYN   \n",
       "2   2014-06-30  Building Conditions   BROOKLYN   \n",
       "3   2014-06-30  Building Conditions  MANHATTAN   \n",
       "4   2014-06-30  Building Conditions   BROOKLYN   \n",
       "\n",
       "                                  Location  \n",
       "0     (40.87016285040958, -73.88879970718)  \n",
       "1  (40.64314961982049, -73.95046073917715)  \n",
       "2  (40.64507250981882, -73.87864906383643)  \n",
       "3  (40.86334391631684, -73.92915076102932)  \n",
       "4  (40.64393283892149, -73.95273031361069)  "
      ]
     },
     "execution_count": 56,
     "metadata": {},
     "output_type": "execute_result"
    }
   ],
   "source": [
    "df_new.head()"
   ]
  },
  {
   "cell_type": "code",
   "execution_count": 57,
   "metadata": {
    "collapsed": false
   },
   "outputs": [
    {
     "data": {
      "text/plain": [
       "Building Conditions             326122\n",
       "Street/Sidewalk Maintenance     173869\n",
       "General Request or Complaint    138744\n",
       "Parking Enforcement              93873\n",
       "Living Conditions                91012\n",
       "Signal/Sign Repair               75489\n",
       "Name: Complaint_Type, dtype: int64"
      ]
     },
     "execution_count": 57,
     "metadata": {},
     "output_type": "execute_result"
    }
   ],
   "source": [
    "df_new.Complaint_Type.value_counts()"
   ]
  },
  {
   "cell_type": "code",
   "execution_count": 58,
   "metadata": {
    "collapsed": false
   },
   "outputs": [
    {
     "data": {
      "text/plain": [
       "899109"
      ]
     },
     "execution_count": 58,
     "metadata": {},
     "output_type": "execute_result"
    }
   ],
   "source": [
    "len(df_new)"
   ]
  },
  {
   "cell_type": "code",
   "execution_count": 62,
   "metadata": {
    "collapsed": true
   },
   "outputs": [],
   "source": [
    "df_new.to_csv('NYC1_F.csv', index = False)"
   ]
  },
  {
   "cell_type": "code",
   "execution_count": 63,
   "metadata": {
    "collapsed": true
   },
   "outputs": [],
   "source": [
    "file_df = pd.read_csv('NYC1_F.csv')"
   ]
  },
  {
   "cell_type": "code",
   "execution_count": 64,
   "metadata": {
    "collapsed": false
   },
   "outputs": [
    {
     "data": {
      "text/html": [
       "<div>\n",
       "<table border=\"1\" class=\"dataframe\">\n",
       "  <thead>\n",
       "    <tr style=\"text-align: right;\">\n",
       "      <th></th>\n",
       "      <th>Created_Date</th>\n",
       "      <th>Complaint_Type</th>\n",
       "      <th>Borough</th>\n",
       "      <th>Location</th>\n",
       "    </tr>\n",
       "  </thead>\n",
       "  <tbody>\n",
       "    <tr>\n",
       "      <th>0</th>\n",
       "      <td>2014-06-30</td>\n",
       "      <td>Building Conditions</td>\n",
       "      <td>BRONX</td>\n",
       "      <td>(40.87016285040958, -73.88879970718)</td>\n",
       "    </tr>\n",
       "    <tr>\n",
       "      <th>1</th>\n",
       "      <td>2014-06-30</td>\n",
       "      <td>Building Conditions</td>\n",
       "      <td>BROOKLYN</td>\n",
       "      <td>(40.64314961982049, -73.95046073917715)</td>\n",
       "    </tr>\n",
       "    <tr>\n",
       "      <th>2</th>\n",
       "      <td>2014-06-30</td>\n",
       "      <td>Building Conditions</td>\n",
       "      <td>BROOKLYN</td>\n",
       "      <td>(40.64507250981882, -73.87864906383643)</td>\n",
       "    </tr>\n",
       "    <tr>\n",
       "      <th>3</th>\n",
       "      <td>2014-06-30</td>\n",
       "      <td>Building Conditions</td>\n",
       "      <td>MANHATTAN</td>\n",
       "      <td>(40.86334391631684, -73.92915076102932)</td>\n",
       "    </tr>\n",
       "    <tr>\n",
       "      <th>4</th>\n",
       "      <td>2014-06-30</td>\n",
       "      <td>Building Conditions</td>\n",
       "      <td>BROOKLYN</td>\n",
       "      <td>(40.64393283892149, -73.95273031361069)</td>\n",
       "    </tr>\n",
       "  </tbody>\n",
       "</table>\n",
       "</div>"
      ],
      "text/plain": [
       "  Created_Date       Complaint_Type    Borough  \\\n",
       "0   2014-06-30  Building Conditions      BRONX   \n",
       "1   2014-06-30  Building Conditions   BROOKLYN   \n",
       "2   2014-06-30  Building Conditions   BROOKLYN   \n",
       "3   2014-06-30  Building Conditions  MANHATTAN   \n",
       "4   2014-06-30  Building Conditions   BROOKLYN   \n",
       "\n",
       "                                  Location  \n",
       "0     (40.87016285040958, -73.88879970718)  \n",
       "1  (40.64314961982049, -73.95046073917715)  \n",
       "2  (40.64507250981882, -73.87864906383643)  \n",
       "3  (40.86334391631684, -73.92915076102932)  \n",
       "4  (40.64393283892149, -73.95273031361069)  "
      ]
     },
     "execution_count": 64,
     "metadata": {},
     "output_type": "execute_result"
    }
   ],
   "source": [
    "file_df.head()"
   ]
  },
  {
   "cell_type": "code",
   "execution_count": null,
   "metadata": {
    "collapsed": true
   },
   "outputs": [],
   "source": []
  }
 ],
 "metadata": {
  "kernelspec": {
   "display_name": "Python 2",
   "language": "python",
   "name": "python2"
  },
  "language_info": {
   "codemirror_mode": {
    "name": "ipython",
    "version": 2
   },
   "file_extension": ".py",
   "mimetype": "text/x-python",
   "name": "python",
   "nbconvert_exporter": "python",
   "pygments_lexer": "ipython2",
   "version": "2.7.11"
  }
 },
 "nbformat": 4,
 "nbformat_minor": 0
}
