{
 "cells": [
  {
   "cell_type": "code",
   "execution_count": 72,
   "metadata": {
    "collapsed": true
   },
   "outputs": [],
   "source": [
    "%matplotlib inline\n",
    "\n",
    "import pandas as pd\n",
    "import numpy as np\n",
    "import scipy.stats as stats\n",
    "import matplotlib.pyplot as plt\n",
    "import sklearn"
   ]
  },
  {
   "cell_type": "code",
   "execution_count": 73,
   "metadata": {
    "collapsed": false
   },
   "outputs": [],
   "source": [
    "df = pd.read_csv('nyc/NYC_2015_2.csv')"
   ]
  },
  {
   "cell_type": "code",
   "execution_count": 74,
   "metadata": {
    "collapsed": false
   },
   "outputs": [],
   "source": [
    "ser = pd.Series(df['Complaint_Type'])"
   ]
  },
  {
   "cell_type": "code",
   "execution_count": 75,
   "metadata": {
    "collapsed": false
   },
   "outputs": [
    {
     "data": {
      "text/plain": [
       "HEAT/HOT WATER                       82286\n",
       "Blocked Driveway                     52459\n",
       "Illegal Parking                      50739\n",
       "Street Light Condition               48902\n",
       "UNSANITARY CONDITION                 46150\n",
       "Street Condition                     42062\n",
       "PAINT/PLASTER                        35236\n",
       "Water System                         35196\n",
       "Noise - Street/Sidewalk              31313\n",
       "Noise                                30309\n",
       "PLUMBING                             26907\n",
       "Noise - Commercial                   22120\n",
       "DOOR/WINDOW                          20021\n",
       "Sanitation Condition                 18875\n",
       "Dirty Conditions                     18104\n",
       "Traffic Signal Condition             17886\n",
       "WATER LEAK                           17104\n",
       "Rodent                               16530\n",
       "ELECTRIC                             15663\n",
       "General Construction/Plumbing        15394\n",
       "Sewer                                15210\n",
       "FLOORING/STAIRS                      14632\n",
       "GENERAL                              14195\n",
       "Missed Collection (All Materials)    13870\n",
       "Building/Use                         13431\n",
       "DOF Literature Request               12397\n",
       "Derelict Vehicle                     11746\n",
       "Damaged Tree                         11142\n",
       "Benefit Card Replacement             10994\n",
       "Noise - Vehicle                      10619\n",
       "Broken Muni Meter                    10403\n",
       "Name: Complaint_Type, dtype: int64"
      ]
     },
     "execution_count": 75,
     "metadata": {},
     "output_type": "execute_result"
    }
   ],
   "source": [
    "ser.value_counts()[0:31]"
   ]
  },
  {
   "cell_type": "code",
   "execution_count": 76,
   "metadata": {
    "collapsed": true
   },
   "outputs": [],
   "source": [
    "#df.ix[df.B.isin(['X','Y','Z']), 'Complaint_Type'] = \"General Request/Complaint\"\n",
    "df.ix[df.Complaint_Type.isin(['DOF Literature Request','GENERAL','Noise','Noise - Commercial','GENERAL CONSTRUCTION','Graffiti','Consumer Complaint','Taxi Complaint','Benefit Card Replacement','SAFETY','Traffic','Vending','DCA / DOH New License Application Request','DOT Literature Request','Noise - Park','For Hire Vehicle Complaint','Construction','DCA Literature Request','CONSTRUCTION']), 'Complaint_Type'] = \"General Request or Complaint\""
   ]
  },
  {
   "cell_type": "code",
   "execution_count": 77,
   "metadata": {
    "collapsed": true
   },
   "outputs": [],
   "source": [
    "df.ix[df.Complaint_Type.isin(['PLUMBING','PAINT/PLASTER','ELECTRIC','Building/Use','WATER LEAK','General Construction/Plumbing','HEAT/HOT WATER','Missed Collection (All Materials)','DOOR/WINDOW','HEATING','PAINT - PLASTER','FLOORING/STAIRS','Maintenance or Facility','APPLIANCE','Elevator','Food Establishment','Plumbing','Electrical','Fire Safety Director - F58','Non-Residential Heat','Boilers','Asbestos','Lead','Vacant Lot','School Maintenance','Indoor Sewage']), 'Complaint_Type'] = \"Building Conditions\""
   ]
  },
  {
   "cell_type": "code",
   "execution_count": 78,
   "metadata": {
    "collapsed": true
   },
   "outputs": [],
   "source": [
    "df.ix[df.Complaint_Type.isin(['Sewer','Dirty Conditions','Rodent','Sanitation Condition','UNSANITARY CONDITION','Animal Abuse','Air Quality','Unsanitary Animal Pvt Property','Smoking','Food Poisoning','Homeless Encampment','Homeless Person Assistance']), 'Complaint_Type'] = \"Living Conditions\""
   ]
  },
  {
   "cell_type": "code",
   "execution_count": 79,
   "metadata": {
    "collapsed": true
   },
   "outputs": [],
   "source": [
    "df.ix[df.Complaint_Type.isin(['Traffic Signal Condition','Street Light Condition','Street Sign - Damaged','Street Sign - Missing']), 'Complaint_Type'] = \"Signal/Sign Repair\""
   ]
  },
  {
   "cell_type": "code",
   "execution_count": 80,
   "metadata": {
    "collapsed": true
   },
   "outputs": [],
   "source": [
    "df.ix[df.Complaint_Type.isin(['Derelict Vehicles','Derelict Vehicle','Blocked Driveway','Illegal Parking','Broken Muni Meter']), 'Complaint_Type'] = \"Parking Enforcement\""
   ]
  },
  {
   "cell_type": "code",
   "execution_count": 81,
   "metadata": {
    "collapsed": true
   },
   "outputs": [],
   "source": [
    "df.ix[df.Complaint_Type.isin(['Water System','Noise - Street/Sidewalk','Street Condition','Snow','Overgrown Tree/Branches','Damaged Tree','Highway Condition','Dead Tree','Root/Sewer/Sidewalk Condition','Noise - Vehicle','Sidewalk Condition','Illegal Tree Damage','Standing Water','Street Sign - Dangling']), 'Complaint_Type'] = \"Street/Sidewalk Maintenance\""
   ]
  },
  {
   "cell_type": "code",
   "execution_count": 82,
   "metadata": {
    "collapsed": false
   },
   "outputs": [
    {
     "data": {
      "text/html": [
       "<div>\n",
       "<table border=\"1\" class=\"dataframe\">\n",
       "  <thead>\n",
       "    <tr style=\"text-align: right;\">\n",
       "      <th></th>\n",
       "      <th>Created_Date</th>\n",
       "      <th>Complaint_Type</th>\n",
       "      <th>Borough</th>\n",
       "      <th>Location</th>\n",
       "    </tr>\n",
       "  </thead>\n",
       "  <tbody>\n",
       "    <tr>\n",
       "      <th>0</th>\n",
       "      <td>2015-12-31</td>\n",
       "      <td>Living Conditions</td>\n",
       "      <td>BROOKLYN</td>\n",
       "      <td>(40.66342138028857, -73.88671133970169)</td>\n",
       "    </tr>\n",
       "    <tr>\n",
       "      <th>1</th>\n",
       "      <td>2015-12-31</td>\n",
       "      <td>Living Conditions</td>\n",
       "      <td>QUEENS</td>\n",
       "      <td>(40.67282376633267, -73.86059887327649)</td>\n",
       "    </tr>\n",
       "    <tr>\n",
       "      <th>2</th>\n",
       "      <td>2015-12-31</td>\n",
       "      <td>Living Conditions</td>\n",
       "      <td>BRONX</td>\n",
       "      <td>(40.81623901998593, -73.92044720977557)</td>\n",
       "    </tr>\n",
       "    <tr>\n",
       "      <th>3</th>\n",
       "      <td>2015-12-31</td>\n",
       "      <td>Living Conditions</td>\n",
       "      <td>MANHATTAN</td>\n",
       "      <td>(40.79093172475263, -73.97091757406896)</td>\n",
       "    </tr>\n",
       "    <tr>\n",
       "      <th>4</th>\n",
       "      <td>2015-12-31</td>\n",
       "      <td>Living Conditions</td>\n",
       "      <td>BRONX</td>\n",
       "      <td>(40.82766692751561, -73.83047495288068)</td>\n",
       "    </tr>\n",
       "  </tbody>\n",
       "</table>\n",
       "</div>"
      ],
      "text/plain": [
       "  Created_Date     Complaint_Type    Borough  \\\n",
       "0   2015-12-31  Living Conditions   BROOKLYN   \n",
       "1   2015-12-31  Living Conditions     QUEENS   \n",
       "2   2015-12-31  Living Conditions      BRONX   \n",
       "3   2015-12-31  Living Conditions  MANHATTAN   \n",
       "4   2015-12-31  Living Conditions      BRONX   \n",
       "\n",
       "                                  Location  \n",
       "0  (40.66342138028857, -73.88671133970169)  \n",
       "1  (40.67282376633267, -73.86059887327649)  \n",
       "2  (40.81623901998593, -73.92044720977557)  \n",
       "3  (40.79093172475263, -73.97091757406896)  \n",
       "4  (40.82766692751561, -73.83047495288068)  "
      ]
     },
     "execution_count": 82,
     "metadata": {},
     "output_type": "execute_result"
    }
   ],
   "source": [
    "df.head()"
   ]
  },
  {
   "cell_type": "code",
   "execution_count": 83,
   "metadata": {
    "collapsed": false
   },
   "outputs": [
    {
     "data": {
      "text/plain": [
       "Building Conditions                        289784\n",
       "Street/Sidewalk Maintenance                158710\n",
       "Parking Enforcement                        135745\n",
       "Living Conditions                          135376\n",
       "General Request or Complaint               135357\n",
       "Signal/Sign Repair                          71968\n",
       "Opinion for the Mayor                        5179\n",
       "SCRIE                                        3821\n",
       "HPD Literature Request                       3757\n",
       "Other Enforcement                            3542\n",
       "Agency Issues                                2497\n",
       "Indoor Air Quality                           2272\n",
       "Taxi Report                                  1918\n",
       "Special Projects Inspection Team (SPIT)      1792\n",
       "Special Enforcement                          1783\n",
       "Hazardous Materials                          1742\n",
       "Water Conservation                           1701\n",
       "Litter Basket / Request                      1492\n",
       "Violation of Park Rules                      1035\n",
       "Curb Condition                               1016\n",
       "Animal in a Park                              970\n",
       "DPR Internal                                  954\n",
       "Overflowing Litter Baskets                    937\n",
       "DOF Property - Reduction Issue                907\n",
       "Sweeping/Missed                               898\n",
       "Drinking                                      861\n",
       "OUTSIDE BUILDING                              808\n",
       "Industrial Waste                              792\n",
       "Noise - Helicopter                            780\n",
       "Derelict Bicycle                              701\n",
       "Water Quality                                 688\n",
       "Name: Complaint_Type, dtype: int64"
      ]
     },
     "execution_count": 83,
     "metadata": {},
     "output_type": "execute_result"
    }
   ],
   "source": [
    "ser.value_counts()[0:31]"
   ]
  },
  {
   "cell_type": "code",
   "execution_count": 84,
   "metadata": {
    "collapsed": false
   },
   "outputs": [],
   "source": [
    "#ser.value_counts()[6:]\n",
    "df.ix[df.Complaint_Type.isin(['NONCONST','SCRIE','Special Projects Inspection Team (SPIT)','Water Conservation','Other Enforcement','Special Enforcement','For Hire Vehicle Complaint','Hazardous Materials','Violation of Park Rules','Industrial Waste','Indoor Air Quality','Litter Basket / Request','Agency Issues','Request Xmas Tree Collection','DPR Internal','EAP Inspection - F59','Derelict Bicycle','Water Quality']), 'Complaint_Type'] = \"\""
   ]
  },
  {
   "cell_type": "code",
   "execution_count": 85,
   "metadata": {
    "collapsed": true
   },
   "outputs": [],
   "source": [
    "df.ix[df.Complaint_Type.isin(['Animal in a Park','OUTSIDE BUILDING','Overflowing Litter Baskets','Bridge Condition','Noise - Helicopter','Sweeping/Missed','Drinking','Request for Information','Emergency Response Team (ERT)','BEST/Site Safety','Noise - House of Worship','Curb Condition','Taxi Compliment','Recycling Enforcement']), 'Complaint_Type'] = \"\""
   ]
  },
  {
   "cell_type": "code",
   "execution_count": 86,
   "metadata": {
    "collapsed": true
   },
   "outputs": [],
   "source": [
    "df.ix[df.Complaint_Type.isin(['Unleashed Dog','Unsanitary Pigeon Condition','Unsanitary Pigeon Condition','','','']), 'Complaint_Type'] = \"\""
   ]
  },
  {
   "cell_type": "code",
   "execution_count": 87,
   "metadata": {
    "collapsed": false
   },
   "outputs": [
    {
     "data": {
      "text/plain": [
       "array(['Living Conditions', 'Living Conditions', 'Living Conditions', ...,\n",
       "       'Living Conditions', 'Living Conditions', 'Living Conditions'], dtype=object)"
      ]
     },
     "execution_count": 87,
     "metadata": {},
     "output_type": "execute_result"
    }
   ],
   "source": [
    "np.array(ser, dtype=pd.Series)"
   ]
  },
  {
   "cell_type": "code",
   "execution_count": 88,
   "metadata": {
    "collapsed": false
   },
   "outputs": [
    {
     "data": {
      "text/plain": [
       "                                       34282\n",
       "Opinion for the Mayor                   5179\n",
       "HPD Literature Request                  3757\n",
       "Taxi Report                             1918\n",
       "DOF Property - Reduction Issue           907\n",
       "ELEVATOR                                 637\n",
       "Posting Advertisement                    603\n",
       "Vector                                   537\n",
       "DOF Parking - Tax Exemption              518\n",
       "Investigations and Discipline (IAD)      491\n",
       "Urinating in Public                      415\n",
       "DOF Property - Update Account            348\n",
       "Bike/Roller/Skate Chronic                285\n",
       "Sweeping/Inadequate                      283\n",
       "Ferry Inquiry                            260\n",
       "Panhandling                              218\n",
       "Public Payphone Complaint                214\n",
       "For Hire Vehicle Report                  202\n",
       "Mold                                     175\n",
       "Senior Center Complaint                  173\n",
       "Ferry Complaint                          163\n",
       "City Vehicle Placard Complaint           161\n",
       "Found Property                           157\n",
       "Illegal Animal Kept as Pet               151\n",
       "Scaffold Safety                          149\n",
       "Harboring Bees/Wasps                     143\n",
       "Plant                                    132\n",
       "Disorderly Youth                         127\n",
       "DEP Literature Request                   120\n",
       "Illegal Fireworks                        118\n",
       "                                       ...  \n",
       "Stalled Sites                              9\n",
       "Legal Services Provider Complaint          8\n",
       "Bottled Water                              8\n",
       "X-Ray Machine/Equipment                    8\n",
       "Transportation Provider Complaint          8\n",
       "Taxpayer Advocate Inquiry                  7\n",
       "Highway Sign - Dangling                    7\n",
       "Fire Alarm - Addition                      6\n",
       "Hazmat Storage/Use                         6\n",
       "Sprinkler - Mechanical                     6\n",
       "Tunnel Condition                           5\n",
       "Advocate - Other                           5\n",
       "SRDE                                       4\n",
       "Calorie Labeling                           4\n",
       "DHS Income Savings Requirement             4\n",
       "Interior Demo                              3\n",
       "Fire Alarm - Replacement                   2\n",
       "Building Condition                         2\n",
       "Radioactive Material                       2\n",
       "Unspecified                                2\n",
       "Rangehood                                  2\n",
       "Public Assembly - Temporary                2\n",
       "Advocate-Commercial Exemptions             1\n",
       "Gas Station Discharge Lines                1\n",
       "AGENCY                                     1\n",
       "Advocate-Prop Class Incorrect              1\n",
       "Advocate - RPIE                            1\n",
       "VACANT APARTMENT                           1\n",
       "Squeegee                                   1\n",
       "Standpipe - Mechanical                     1\n",
       "Name: Complaint_Type, dtype: int64"
      ]
     },
     "execution_count": 88,
     "metadata": {},
     "output_type": "execute_result"
    }
   ],
   "source": [
    "ser.value_counts()[6:]"
   ]
  },
  {
   "cell_type": "code",
   "execution_count": 89,
   "metadata": {
    "collapsed": false
   },
   "outputs": [
    {
     "data": {
      "text/plain": [
       "Building Conditions             289784\n",
       "Street/Sidewalk Maintenance     158710\n",
       "Parking Enforcement             135745\n",
       "Living Conditions               135376\n",
       "General Request or Complaint    135357\n",
       "Signal/Sign Repair               71968\n",
       "Name: Complaint_Type, dtype: int64"
      ]
     },
     "execution_count": 89,
     "metadata": {},
     "output_type": "execute_result"
    }
   ],
   "source": [
    "ser.value_counts()[0:6]"
   ]
  },
  {
   "cell_type": "code",
   "execution_count": 90,
   "metadata": {
    "collapsed": true
   },
   "outputs": [],
   "source": [
    "keep_these_complaints = ['Building Conditions', 'Street/Sidewalk Maintenance', 'General Request or Complaint', 'Parking Enforcement', 'Living Conditions', 'Signal/Sign Repair']"
   ]
  },
  {
   "cell_type": "code",
   "execution_count": 91,
   "metadata": {
    "collapsed": false
   },
   "outputs": [],
   "source": [
    "#df.loc[df['column_name'].isin(some_values)]\n",
    "df_new = df.loc[df['Complaint_Type'].isin(keep_these_complaints)]"
   ]
  },
  {
   "cell_type": "code",
   "execution_count": 92,
   "metadata": {
    "collapsed": false
   },
   "outputs": [
    {
     "data": {
      "text/html": [
       "<div>\n",
       "<table border=\"1\" class=\"dataframe\">\n",
       "  <thead>\n",
       "    <tr style=\"text-align: right;\">\n",
       "      <th></th>\n",
       "      <th>Created_Date</th>\n",
       "      <th>Complaint_Type</th>\n",
       "      <th>Borough</th>\n",
       "      <th>Location</th>\n",
       "    </tr>\n",
       "  </thead>\n",
       "  <tbody>\n",
       "    <tr>\n",
       "      <th>0</th>\n",
       "      <td>2015-12-31</td>\n",
       "      <td>Living Conditions</td>\n",
       "      <td>BROOKLYN</td>\n",
       "      <td>(40.66342138028857, -73.88671133970169)</td>\n",
       "    </tr>\n",
       "    <tr>\n",
       "      <th>1</th>\n",
       "      <td>2015-12-31</td>\n",
       "      <td>Living Conditions</td>\n",
       "      <td>QUEENS</td>\n",
       "      <td>(40.67282376633267, -73.86059887327649)</td>\n",
       "    </tr>\n",
       "    <tr>\n",
       "      <th>2</th>\n",
       "      <td>2015-12-31</td>\n",
       "      <td>Living Conditions</td>\n",
       "      <td>BRONX</td>\n",
       "      <td>(40.81623901998593, -73.92044720977557)</td>\n",
       "    </tr>\n",
       "    <tr>\n",
       "      <th>3</th>\n",
       "      <td>2015-12-31</td>\n",
       "      <td>Living Conditions</td>\n",
       "      <td>MANHATTAN</td>\n",
       "      <td>(40.79093172475263, -73.97091757406896)</td>\n",
       "    </tr>\n",
       "    <tr>\n",
       "      <th>4</th>\n",
       "      <td>2015-12-31</td>\n",
       "      <td>Living Conditions</td>\n",
       "      <td>BRONX</td>\n",
       "      <td>(40.82766692751561, -73.83047495288068)</td>\n",
       "    </tr>\n",
       "  </tbody>\n",
       "</table>\n",
       "</div>"
      ],
      "text/plain": [
       "  Created_Date     Complaint_Type    Borough  \\\n",
       "0   2015-12-31  Living Conditions   BROOKLYN   \n",
       "1   2015-12-31  Living Conditions     QUEENS   \n",
       "2   2015-12-31  Living Conditions      BRONX   \n",
       "3   2015-12-31  Living Conditions  MANHATTAN   \n",
       "4   2015-12-31  Living Conditions      BRONX   \n",
       "\n",
       "                                  Location  \n",
       "0  (40.66342138028857, -73.88671133970169)  \n",
       "1  (40.67282376633267, -73.86059887327649)  \n",
       "2  (40.81623901998593, -73.92044720977557)  \n",
       "3  (40.79093172475263, -73.97091757406896)  \n",
       "4  (40.82766692751561, -73.83047495288068)  "
      ]
     },
     "execution_count": 92,
     "metadata": {},
     "output_type": "execute_result"
    }
   ],
   "source": [
    "df_new.head()"
   ]
  },
  {
   "cell_type": "code",
   "execution_count": 93,
   "metadata": {
    "collapsed": false
   },
   "outputs": [
    {
     "data": {
      "text/plain": [
       "Building Conditions             289784\n",
       "Street/Sidewalk Maintenance     158710\n",
       "Parking Enforcement             135745\n",
       "Living Conditions               135376\n",
       "General Request or Complaint    135357\n",
       "Signal/Sign Repair               71968\n",
       "Name: Complaint_Type, dtype: int64"
      ]
     },
     "execution_count": 93,
     "metadata": {},
     "output_type": "execute_result"
    }
   ],
   "source": [
    "df_new.Complaint_Type.value_counts()"
   ]
  },
  {
   "cell_type": "code",
   "execution_count": 94,
   "metadata": {
    "collapsed": false
   },
   "outputs": [
    {
     "data": {
      "text/plain": [
       "926940"
      ]
     },
     "execution_count": 94,
     "metadata": {},
     "output_type": "execute_result"
    }
   ],
   "source": [
    "len(df_new)"
   ]
  },
  {
   "cell_type": "code",
   "execution_count": 95,
   "metadata": {
    "collapsed": true
   },
   "outputs": [],
   "source": [
    "df_new.to_csv('NYC4_F.csv', index = False)"
   ]
  },
  {
   "cell_type": "code",
   "execution_count": 96,
   "metadata": {
    "collapsed": false
   },
   "outputs": [],
   "source": [
    "file_df = pd.read_csv('NYC4_F.csv')"
   ]
  },
  {
   "cell_type": "code",
   "execution_count": 97,
   "metadata": {
    "collapsed": false
   },
   "outputs": [
    {
     "data": {
      "text/html": [
       "<div>\n",
       "<table border=\"1\" class=\"dataframe\">\n",
       "  <thead>\n",
       "    <tr style=\"text-align: right;\">\n",
       "      <th></th>\n",
       "      <th>Created_Date</th>\n",
       "      <th>Complaint_Type</th>\n",
       "      <th>Borough</th>\n",
       "      <th>Location</th>\n",
       "    </tr>\n",
       "  </thead>\n",
       "  <tbody>\n",
       "    <tr>\n",
       "      <th>0</th>\n",
       "      <td>2015-12-31</td>\n",
       "      <td>Living Conditions</td>\n",
       "      <td>BROOKLYN</td>\n",
       "      <td>(40.66342138028857, -73.88671133970169)</td>\n",
       "    </tr>\n",
       "    <tr>\n",
       "      <th>1</th>\n",
       "      <td>2015-12-31</td>\n",
       "      <td>Living Conditions</td>\n",
       "      <td>QUEENS</td>\n",
       "      <td>(40.67282376633267, -73.86059887327649)</td>\n",
       "    </tr>\n",
       "    <tr>\n",
       "      <th>2</th>\n",
       "      <td>2015-12-31</td>\n",
       "      <td>Living Conditions</td>\n",
       "      <td>BRONX</td>\n",
       "      <td>(40.81623901998593, -73.92044720977557)</td>\n",
       "    </tr>\n",
       "    <tr>\n",
       "      <th>3</th>\n",
       "      <td>2015-12-31</td>\n",
       "      <td>Living Conditions</td>\n",
       "      <td>MANHATTAN</td>\n",
       "      <td>(40.79093172475263, -73.97091757406896)</td>\n",
       "    </tr>\n",
       "    <tr>\n",
       "      <th>4</th>\n",
       "      <td>2015-12-31</td>\n",
       "      <td>Living Conditions</td>\n",
       "      <td>BRONX</td>\n",
       "      <td>(40.82766692751561, -73.83047495288068)</td>\n",
       "    </tr>\n",
       "  </tbody>\n",
       "</table>\n",
       "</div>"
      ],
      "text/plain": [
       "  Created_Date     Complaint_Type    Borough  \\\n",
       "0   2015-12-31  Living Conditions   BROOKLYN   \n",
       "1   2015-12-31  Living Conditions     QUEENS   \n",
       "2   2015-12-31  Living Conditions      BRONX   \n",
       "3   2015-12-31  Living Conditions  MANHATTAN   \n",
       "4   2015-12-31  Living Conditions      BRONX   \n",
       "\n",
       "                                  Location  \n",
       "0  (40.66342138028857, -73.88671133970169)  \n",
       "1  (40.67282376633267, -73.86059887327649)  \n",
       "2  (40.81623901998593, -73.92044720977557)  \n",
       "3  (40.79093172475263, -73.97091757406896)  \n",
       "4  (40.82766692751561, -73.83047495288068)  "
      ]
     },
     "execution_count": 97,
     "metadata": {},
     "output_type": "execute_result"
    }
   ],
   "source": [
    "file_df.head()"
   ]
  },
  {
   "cell_type": "code",
   "execution_count": null,
   "metadata": {
    "collapsed": true
   },
   "outputs": [],
   "source": []
  }
 ],
 "metadata": {
  "kernelspec": {
   "display_name": "Python 2",
   "language": "python",
   "name": "python2"
  },
  "language_info": {
   "codemirror_mode": {
    "name": "ipython",
    "version": 2
   },
   "file_extension": ".py",
   "mimetype": "text/x-python",
   "name": "python",
   "nbconvert_exporter": "python",
   "pygments_lexer": "ipython2",
   "version": "2.7.11"
  }
 },
 "nbformat": 4,
 "nbformat_minor": 0
}
