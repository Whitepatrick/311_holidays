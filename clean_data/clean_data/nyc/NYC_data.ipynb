{
 "cells": [
  {
   "cell_type": "code",
   "execution_count": 2,
   "metadata": {
    "collapsed": true
   },
   "outputs": [],
   "source": [
    "import pandas as pd\n",
    "import numpy as np"
   ]
  },
  {
   "cell_type": "code",
   "execution_count": 53,
   "metadata": {
    "collapsed": true
   },
   "outputs": [],
   "source": [
    "keepers = ['Created Date', 'Complaint Type', 'Borough', 'Location']"
   ]
  },
  {
   "cell_type": "code",
   "execution_count": 54,
   "metadata": {
    "collapsed": false
   },
   "outputs": [],
   "source": [
    "#df_raw = pd.read_csv('../../data_311/nyc_311/nyc_20140101_20140630.csv', low_memory=False, index_col=['Created Date'], parse_dates=['Created Date'])\n",
    "df = pd.read_csv('../../data_311/nyc_311/nyc_20140101_20140630.csv', low_memory=False, usecols=keepers, parse_dates=['Created Date'])"
   ]
  },
  {
   "cell_type": "code",
   "execution_count": 55,
   "metadata": {
    "collapsed": true
   },
   "outputs": [],
   "source": [
    "df = df.rename(columns = {'Created Date':'Created_Date'})"
   ]
  },
  {
   "cell_type": "code",
   "execution_count": 56,
   "metadata": {
    "collapsed": true
   },
   "outputs": [],
   "source": [
    "df = df.rename(columns = {'Complaint Type':'Complaint_Type'})"
   ]
  },
  {
   "cell_type": "code",
   "execution_count": 57,
   "metadata": {
    "collapsed": true
   },
   "outputs": [],
   "source": [
    "df = df.set_index('Created_Date')"
   ]
  },
  {
   "cell_type": "code",
   "execution_count": 60,
   "metadata": {
    "collapsed": false
   },
   "outputs": [
    {
     "data": {
      "text/html": [
       "<div>\n",
       "<table border=\"1\" class=\"dataframe\">\n",
       "  <thead>\n",
       "    <tr style=\"text-align: right;\">\n",
       "      <th></th>\n",
       "      <th>Complaint_Type</th>\n",
       "      <th>Borough</th>\n",
       "      <th>Location</th>\n",
       "    </tr>\n",
       "    <tr>\n",
       "      <th>Created_Date</th>\n",
       "      <th></th>\n",
       "      <th></th>\n",
       "      <th></th>\n",
       "    </tr>\n",
       "  </thead>\n",
       "  <tbody>\n",
       "    <tr>\n",
       "      <th>2014-01-01</th>\n",
       "      <td>HEATING</td>\n",
       "      <td>QUEENS</td>\n",
       "      <td>(40.760156011101515, -73.89642659097404)</td>\n",
       "    </tr>\n",
       "    <tr>\n",
       "      <th>2014-01-01</th>\n",
       "      <td>HEATING</td>\n",
       "      <td>MANHATTAN</td>\n",
       "      <td>(40.83462222534318, -73.94766206533)</td>\n",
       "    </tr>\n",
       "    <tr>\n",
       "      <th>2014-01-01</th>\n",
       "      <td>HEATING</td>\n",
       "      <td>BRONX</td>\n",
       "      <td>(40.8815647657024, -73.85906546132107)</td>\n",
       "    </tr>\n",
       "    <tr>\n",
       "      <th>2014-01-01</th>\n",
       "      <td>HEATING</td>\n",
       "      <td>MANHATTAN</td>\n",
       "      <td>(40.8049220596191, -73.94862818669279)</td>\n",
       "    </tr>\n",
       "    <tr>\n",
       "      <th>2014-01-01</th>\n",
       "      <td>HEATING</td>\n",
       "      <td>MANHATTAN</td>\n",
       "      <td>(40.728640649252114, -74.00313896176043)</td>\n",
       "    </tr>\n",
       "  </tbody>\n",
       "</table>\n",
       "</div>"
      ],
      "text/plain": [
       "             Complaint_Type    Borough  \\\n",
       "Created_Date                             \n",
       "2014-01-01          HEATING     QUEENS   \n",
       "2014-01-01          HEATING  MANHATTAN   \n",
       "2014-01-01          HEATING      BRONX   \n",
       "2014-01-01          HEATING  MANHATTAN   \n",
       "2014-01-01          HEATING  MANHATTAN   \n",
       "\n",
       "                                              Location  \n",
       "Created_Date                                            \n",
       "2014-01-01    (40.760156011101515, -73.89642659097404)  \n",
       "2014-01-01        (40.83462222534318, -73.94766206533)  \n",
       "2014-01-01      (40.8815647657024, -73.85906546132107)  \n",
       "2014-01-01      (40.8049220596191, -73.94862818669279)  \n",
       "2014-01-01    (40.728640649252114, -74.00313896176043)  "
      ]
     },
     "execution_count": 60,
     "metadata": {},
     "output_type": "execute_result"
    }
   ],
   "source": [
    "df.tail()"
   ]
  },
  {
   "cell_type": "code",
   "execution_count": 61,
   "metadata": {
    "collapsed": false
   },
   "outputs": [],
   "source": [
    "df.to_csv(\"NYC_2014_1.csv\", date_format='%Y-%m-%d')"
   ]
  },
  {
   "cell_type": "code",
   "execution_count": 3,
   "metadata": {
    "collapsed": false
   },
   "outputs": [
    {
     "data": {
      "text/html": [
       "<div>\n",
       "<table border=\"1\" class=\"dataframe\">\n",
       "  <thead>\n",
       "    <tr style=\"text-align: right;\">\n",
       "      <th></th>\n",
       "      <th>Complaint_Type</th>\n",
       "      <th>Borough</th>\n",
       "      <th>Location</th>\n",
       "    </tr>\n",
       "    <tr>\n",
       "      <th>Created_Date</th>\n",
       "      <th></th>\n",
       "      <th></th>\n",
       "      <th></th>\n",
       "    </tr>\n",
       "  </thead>\n",
       "  <tbody>\n",
       "    <tr>\n",
       "      <th>2014-06-30</th>\n",
       "      <td>HEAT/HOT WATER</td>\n",
       "      <td>BRONX</td>\n",
       "      <td>(40.87016285040958, -73.88879970718)</td>\n",
       "    </tr>\n",
       "    <tr>\n",
       "      <th>2014-06-30</th>\n",
       "      <td>HEAT/HOT WATER</td>\n",
       "      <td>BROOKLYN</td>\n",
       "      <td>(40.64314961982049, -73.95046073917715)</td>\n",
       "    </tr>\n",
       "    <tr>\n",
       "      <th>2014-06-30</th>\n",
       "      <td>HEAT/HOT WATER</td>\n",
       "      <td>BROOKLYN</td>\n",
       "      <td>(40.64507250981882, -73.87864906383643)</td>\n",
       "    </tr>\n",
       "    <tr>\n",
       "      <th>2014-06-30</th>\n",
       "      <td>HEAT/HOT WATER</td>\n",
       "      <td>MANHATTAN</td>\n",
       "      <td>(40.86334391631684, -73.92915076102932)</td>\n",
       "    </tr>\n",
       "    <tr>\n",
       "      <th>2014-06-30</th>\n",
       "      <td>PAINT/PLASTER</td>\n",
       "      <td>BROOKLYN</td>\n",
       "      <td>(40.64393283892149, -73.95273031361069)</td>\n",
       "    </tr>\n",
       "  </tbody>\n",
       "</table>\n",
       "</div>"
      ],
      "text/plain": [
       "              Complaint_Type    Borough  \\\n",
       "Created_Date                              \n",
       "2014-06-30    HEAT/HOT WATER      BRONX   \n",
       "2014-06-30    HEAT/HOT WATER   BROOKLYN   \n",
       "2014-06-30    HEAT/HOT WATER   BROOKLYN   \n",
       "2014-06-30    HEAT/HOT WATER  MANHATTAN   \n",
       "2014-06-30     PAINT/PLASTER   BROOKLYN   \n",
       "\n",
       "                                             Location  \n",
       "Created_Date                                           \n",
       "2014-06-30       (40.87016285040958, -73.88879970718)  \n",
       "2014-06-30    (40.64314961982049, -73.95046073917715)  \n",
       "2014-06-30    (40.64507250981882, -73.87864906383643)  \n",
       "2014-06-30    (40.86334391631684, -73.92915076102932)  \n",
       "2014-06-30    (40.64393283892149, -73.95273031361069)  "
      ]
     },
     "execution_count": 3,
     "metadata": {},
     "output_type": "execute_result"
    }
   ],
   "source": [
    "df_from_new = pd.read_csv(\"NYC_2014_1.csv\", low_memory=False, index_col=['Created_Date'], parse_dates=['Created_Date'])\n",
    "df_from_new.head()"
   ]
  },
  {
   "cell_type": "code",
   "execution_count": 4,
   "metadata": {
    "collapsed": false
   },
   "outputs": [
    {
     "data": {
      "text/plain": [
       "181"
      ]
     },
     "execution_count": 4,
     "metadata": {},
     "output_type": "execute_result"
    }
   ],
   "source": [
    "len(pd.unique(df_from_new.index.ravel()))"
   ]
  },
  {
   "cell_type": "code",
   "execution_count": null,
   "metadata": {
    "collapsed": true
   },
   "outputs": [],
   "source": []
  }
 ],
 "metadata": {
  "kernelspec": {
   "display_name": "Python 2",
   "language": "python",
   "name": "python2"
  },
  "language_info": {
   "codemirror_mode": {
    "name": "ipython",
    "version": 2
   },
   "file_extension": ".py",
   "mimetype": "text/x-python",
   "name": "python",
   "nbconvert_exporter": "python",
   "pygments_lexer": "ipython2",
   "version": "2.7.11"
  }
 },
 "nbformat": 4,
 "nbformat_minor": 0
}
