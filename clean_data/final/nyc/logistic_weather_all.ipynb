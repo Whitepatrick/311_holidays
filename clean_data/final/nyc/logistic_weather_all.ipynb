{
 "cells": [
  {
   "cell_type": "code",
   "execution_count": 57,
   "metadata": {
    "collapsed": false
   },
   "outputs": [],
   "source": [
    "import numpy as np\n",
    "import pandas as pd \n",
    "import seaborn as sns\n",
    "from sklearn import metrics\n",
    "from sklearn.svm import SVR\n",
    "from sklearn.grid_search import GridSearchCV\n",
    "from sklearn.kernel_ridge import KernelRidge\n",
    "from sklearn.ensemble import RandomForestClassifier\n",
    "from sklearn.cross_validation import train_test_split\n",
    "from sklearn.linear_model import LogisticRegression\n",
    "from sklearn.linear_model import LinearRegression\n",
    "from sklearn.metrics import log_loss, f1_score\n",
    "from sklearn.svm import LinearSVC\n",
    "from sklearn import preprocessing\n",
    "import matplotlib.pyplot as plt \n",
    "import matplotlib.dates as dates\n",
    "import datetime\n",
    "from scipy import stats\n",
    "%matplotlib inline"
   ]
  },
  {
   "cell_type": "code",
   "execution_count": 58,
   "metadata": {
    "collapsed": true
   },
   "outputs": [],
   "source": [
    "df_2016 = pd.read_csv('2016_df.csv', parse_dates='Created_Date')\n",
    "df_2015 = pd.read_csv('2015_df.csv', parse_dates='Created_Date')\n",
    "df_2014 = pd.read_csv('2014_df.csv', parse_dates='Created_Date')"
   ]
  },
  {
   "cell_type": "code",
   "execution_count": 59,
   "metadata": {
    "collapsed": true
   },
   "outputs": [],
   "source": [
    "df_2014['day'] = df_2014.index\n",
    "df_2015['day'] = df_2015.index\n",
    "df_2016['day'] = df_2016.index"
   ]
  },
  {
   "cell_type": "code",
   "execution_count": 60,
   "metadata": {
    "collapsed": true
   },
   "outputs": [],
   "source": [
    "df_2014 = df_2014.set_index('Created_Date')\n",
    "df_2015 = df_2015.set_index('Created_Date')\n",
    "#df_2016 = df_2016.set_index('Created_Date')\n",
    "df_2016 = df_2016[df_2016['Created_Date'] != '2016-02-29']"
   ]
  },
  {
   "cell_type": "code",
   "execution_count": 61,
   "metadata": {
    "collapsed": true
   },
   "outputs": [],
   "source": [
    "df_2016 = df_2016.replace(to_replace=\"-\", value=0)"
   ]
  },
  {
   "cell_type": "code",
   "execution_count": 62,
   "metadata": {
    "collapsed": true
   },
   "outputs": [],
   "source": [
    "train_years = pd.concat([df_2014, df_2015])"
   ]
  },
  {
   "cell_type": "code",
   "execution_count": 63,
   "metadata": {
    "collapsed": true
   },
   "outputs": [],
   "source": [
    "df_weather = pd.get_dummies(train_years['Weather'])"
   ]
  },
  {
   "cell_type": "code",
   "execution_count": 64,
   "metadata": {
    "collapsed": true
   },
   "outputs": [],
   "source": [
    "train_years = pd.concat([train_years, df_weather],axis=1,join='inner')"
   ]
  },
  {
   "cell_type": "code",
   "execution_count": 65,
   "metadata": {
    "collapsed": true
   },
   "outputs": [],
   "source": [
    "train_years.drop('Weather', axis=1, inplace=True)"
   ]
  },
  {
   "cell_type": "code",
   "execution_count": 66,
   "metadata": {
    "collapsed": false
   },
   "outputs": [],
   "source": [
    "complaint_type = ['Building_Conditions', 'General_Request', \n",
    "                 'Living_Conditions', 'Parking_Enforcement', \n",
    "                 'Signal_Sign_Repair', 'Street_Sidewalk_Repair']\n",
    "\n",
    "weather_types = ['Building_Conditions', 'Max_TempF', 'Fog', 'Fog-Rain', 'Fog-Rain-Snow', \n",
    "                 'Fog-Rain-Thunderstorm', 'Fog-Snow',\n",
    "                 'Rain', 'Rain-Snow',\n",
    "                 'Rain-Snow-Thunderstorm', 'Rain-Thunderstorm',\n",
    "                 'Snow', 'Sunny']\n",
    "\n",
    "feature_cols = ['General_Request', \n",
    "                'Living_Conditions', 'Parking_Enforcement', \n",
    "                'Signal_Sign_Repair', 'Street_Sidewalk_Repair',\n",
    "                'Max_TempF', 'day',\n",
    "                'Fog', 'Fog-Rain',\n",
    "                'Fog-Rain-Snow', \n",
    "                'Fog-Rain-Thunderstorm', 'Fog-Snow',\n",
    "                'Rain', 'Rain-Snow',\n",
    "                'Rain-Snow-Thunderstorm', 'Rain-Thunderstorm',\n",
    "                'Snow', 'Sunny']\n",
    "\n",
    "X = train_years[feature_cols][:365]\n",
    "#y = train_years.Max_TempF\n",
    "y = df_2016.Max_TempF"
   ]
  },
  {
   "cell_type": "code",
   "execution_count": 67,
   "metadata": {
    "collapsed": false
   },
   "outputs": [],
   "source": [
    "X_train, X_test, y_train, y_test = train_test_split(X, y , test_size=0.2)"
   ]
  },
  {
   "cell_type": "code",
   "execution_count": 68,
   "metadata": {
    "collapsed": true
   },
   "outputs": [],
   "source": [
    "clf = LogisticRegression()"
   ]
  },
  {
   "cell_type": "code",
   "execution_count": 69,
   "metadata": {
    "collapsed": false
   },
   "outputs": [],
   "source": [
    "clf = clf.fit(X_train, y_train)"
   ]
  },
  {
   "cell_type": "code",
   "execution_count": 70,
   "metadata": {
    "collapsed": true
   },
   "outputs": [],
   "source": [
    "pred_train = clf.predict_proba(X_train)\n",
    "pred_test = clf.predict_proba(X_test)"
   ]
  },
  {
   "cell_type": "code",
   "execution_count": 71,
   "metadata": {
    "collapsed": false
   },
   "outputs": [
    {
     "name": "stdout",
     "output_type": "stream",
     "text": [
      "2.51328214051\n",
      "0.0\n"
     ]
    },
    {
     "name": "stderr",
     "output_type": "stream",
     "text": [
      "/usr/local/lib/python2.7/dist-packages/sklearn/metrics/classification.py:756: DeprecationWarning: The default `weighted` averaging is deprecated, and from version 0.18, use of precision, recall or F-score with multiclass or multilabel data or pos_label=None will result in an exception. Please set an explicit value for `average`, one of (None, 'micro', 'macro', 'weighted', 'samples'). In cross validation use, for instance, scoring=\"f1_weighted\" instead of scoring=\"f1\".\n",
      "  sample_weight=sample_weight)\n"
     ]
    }
   ],
   "source": [
    "print log_loss(y_train, pred_train)\n",
    "print f1_score(y_train, np.round(pred_train[:,1]))"
   ]
  },
  {
   "cell_type": "code",
   "execution_count": 72,
   "metadata": {
    "collapsed": false
   },
   "outputs": [
    {
     "data": {
      "text/plain": [
       "0.1095890410958904"
      ]
     },
     "execution_count": 72,
     "metadata": {},
     "output_type": "execute_result"
    }
   ],
   "source": [
    "clf.score(X_test, y_test)"
   ]
  },
  {
   "cell_type": "code",
   "execution_count": 73,
   "metadata": {
    "collapsed": false
   },
   "outputs": [
    {
     "name": "stdout",
     "output_type": "stream",
     "text": [
      "F1-score: 0.051911\n",
      "Accuracy score: 0.109589\n"
     ]
    },
    {
     "name": "stderr",
     "output_type": "stream",
     "text": [
      "/usr/local/lib/python2.7/dist-packages/sklearn/metrics/classification.py:756: DeprecationWarning: The default `weighted` averaging is deprecated, and from version 0.18, use of precision, recall or F-score with multiclass or multilabel data or pos_label=None will result in an exception. Please set an explicit value for `average`, one of (None, 'micro', 'macro', 'weighted', 'samples'). In cross validation use, for instance, scoring=\"f1_weighted\" instead of scoring=\"f1\".\n",
      "  sample_weight=sample_weight)\n"
     ]
    }
   ],
   "source": [
    "print('F1-score: %f'% f1_score(y_test, clf.predict(X_test)))\n",
    "print('Accuracy score: %f'% clf.score(X_test, y_test))"
   ]
  },
  {
   "cell_type": "code",
   "execution_count": null,
   "metadata": {
    "collapsed": true
   },
   "outputs": [],
   "source": []
  },
  {
   "cell_type": "code",
   "execution_count": null,
   "metadata": {
    "collapsed": true
   },
   "outputs": [],
   "source": []
  }
 ],
 "metadata": {
  "kernelspec": {
   "display_name": "Python 2",
   "language": "python",
   "name": "python2"
  },
  "language_info": {
   "codemirror_mode": {
    "name": "ipython",
    "version": 2
   },
   "file_extension": ".py",
   "mimetype": "text/x-python",
   "name": "python",
   "nbconvert_exporter": "python",
   "pygments_lexer": "ipython2",
   "version": "2.7.6"
  }
 },
 "nbformat": 4,
 "nbformat_minor": 0
}
