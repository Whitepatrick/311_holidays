{
 "cells": [
  {
   "cell_type": "code",
   "execution_count": 1,
   "metadata": {
    "collapsed": false
   },
   "outputs": [
    {
     "name": "stderr",
     "output_type": "stream",
     "text": [
      "/usr/local/lib/python2.7/dist-packages/matplotlib/__init__.py:872: UserWarning: axes.color_cycle is deprecated and replaced with axes.prop_cycle; please use the latter.\n",
      "  warnings.warn(self.msg_depr % (key, alt_key))\n"
     ]
    }
   ],
   "source": [
    "import numpy as np\n",
    "import pandas as pd \n",
    "import seaborn as sns\n",
    "from sklearn import metrics\n",
    "from sklearn.svm import SVR\n",
    "from sklearn.grid_search import GridSearchCV\n",
    "from sklearn.kernel_ridge import KernelRidge\n",
    "from sklearn.ensemble import RandomForestClassifier\n",
    "from sklearn.cross_validation import train_test_split\n",
    "from sklearn.linear_model import LogisticRegression\n",
    "from sklearn.linear_model import LinearRegression\n",
    "from sklearn.metrics import log_loss, f1_score\n",
    "from sklearn.naive_bayes import MultinomialNB\n",
    "from sklearn.svm import LinearSVC\n",
    "from sklearn import preprocessing\n",
    "import matplotlib.pyplot as plt \n",
    "import matplotlib.dates as dates\n",
    "import datetime\n",
    "from scipy import stats\n",
    "%matplotlib inline"
   ]
  },
  {
   "cell_type": "code",
   "execution_count": 2,
   "metadata": {
    "collapsed": true
   },
   "outputs": [],
   "source": [
    "df_2016 = pd.read_csv('2016_df.csv', parse_dates='Created_Date')\n",
    "df_2015 = pd.read_csv('2015_df.csv', parse_dates='Created_Date')\n",
    "df_2014 = pd.read_csv('2014_df.csv', parse_dates='Created_Date')"
   ]
  },
  {
   "cell_type": "code",
   "execution_count": 3,
   "metadata": {
    "collapsed": true
   },
   "outputs": [],
   "source": [
    "df_2014['day'] = df_2014.index\n",
    "df_2015['day'] = df_2015.index\n",
    "df_2016['day'] = df_2016.index"
   ]
  },
  {
   "cell_type": "code",
   "execution_count": 4,
   "metadata": {
    "collapsed": true
   },
   "outputs": [],
   "source": [
    "df_2014 = df_2014.set_index('Created_Date')\n",
    "df_2015 = df_2015.set_index('Created_Date')\n",
    "df_2016 = df_2016.set_index('Created_Date')"
   ]
  },
  {
   "cell_type": "code",
   "execution_count": 5,
   "metadata": {
    "collapsed": true
   },
   "outputs": [],
   "source": [
    "df_2016 = df_2016.replace(to_replace=\"-\", value=0)"
   ]
  },
  {
   "cell_type": "code",
   "execution_count": 6,
   "metadata": {
    "collapsed": true
   },
   "outputs": [],
   "source": [
    "train_years = pd.concat([df_2014, df_2015])"
   ]
  },
  {
   "cell_type": "code",
   "execution_count": 7,
   "metadata": {
    "collapsed": true
   },
   "outputs": [],
   "source": [
    "df_weather = pd.get_dummies(train_years['Weather'])"
   ]
  },
  {
   "cell_type": "code",
   "execution_count": 8,
   "metadata": {
    "collapsed": true
   },
   "outputs": [],
   "source": [
    "train_years = pd.concat([train_years, df_weather],axis=1,join='inner')"
   ]
  },
  {
   "cell_type": "code",
   "execution_count": 9,
   "metadata": {
    "collapsed": true
   },
   "outputs": [],
   "source": [
    "train_years.drop('Weather', axis=1, inplace=True)"
   ]
  },
  {
   "cell_type": "code",
   "execution_count": 10,
   "metadata": {
    "collapsed": true
   },
   "outputs": [],
   "source": [
    "coplaint_type = ['General_Request', \n",
    "                 'Living_Conditions', 'Parking_Enforcement', \n",
    "                 'Signal_Sign_Repair', 'Street_Sidewalk_Repair']\n",
    "\n",
    "weather_types = ['Max_TempF', 'Fog', 'Fog-Rain', 'Fog-Rain-Snow', \n",
    "                 'Fog-Rain-Thunderstorm', 'Fog-Snow',\n",
    "                 'Rain', 'Rain-Snow',\n",
    "                 'Rain-Snow-Thunderstorm', 'Rain-Thunderstorm',\n",
    "                 'Snow', 'Sunny']\n",
    "\n",
    "feature_cols = ['General_Request', \n",
    "                'Living_Conditions', 'Parking_Enforcement', \n",
    "                'Signal_Sign_Repair', 'Street_Sidewalk_Repair',\n",
    "                'Max_TempF', 'day',\n",
    "                'Fog', 'Fog-Rain',\n",
    "                'Fog-Rain-Snow', \n",
    "                'Fog-Rain-Thunderstorm', 'Fog-Snow',\n",
    "                'Rain', 'Rain-Snow',\n",
    "                'Rain-Snow-Thunderstorm', 'Rain-Thunderstorm',\n",
    "                'Snow', 'Sunny']\n",
    "\n",
    "X = train_years[weather_types]\n",
    "y = train_years['Building_Conditions']"
   ]
  },
  {
   "cell_type": "code",
   "execution_count": 77,
   "metadata": {
    "collapsed": true
   },
   "outputs": [],
   "source": []
  },
  {
   "cell_type": "code",
   "execution_count": 11,
   "metadata": {
    "collapsed": true
   },
   "outputs": [],
   "source": [
    "X_train, X_test, y_train, y_test = train_test_split(X, y , test_size=0.2)"
   ]
  },
  {
   "cell_type": "code",
   "execution_count": 12,
   "metadata": {
    "collapsed": false
   },
   "outputs": [],
   "source": [
    "y_test_2016 = df_2016.Max_TempF"
   ]
  },
  {
   "cell_type": "code",
   "execution_count": 13,
   "metadata": {
    "collapsed": true
   },
   "outputs": [],
   "source": [
    "clf = MultinomialNB()"
   ]
  },
  {
   "cell_type": "code",
   "execution_count": 14,
   "metadata": {
    "collapsed": false
   },
   "outputs": [
    {
     "data": {
      "text/plain": [
       "MultinomialNB(alpha=1.0, class_prior=None, fit_prior=True)"
      ]
     },
     "execution_count": 14,
     "metadata": {},
     "output_type": "execute_result"
    }
   ],
   "source": [
    "clf.fit(X,y)"
   ]
  },
  {
   "cell_type": "code",
   "execution_count": 15,
   "metadata": {
    "collapsed": false
   },
   "outputs": [
    {
     "data": {
      "text/plain": [
       "array([ 1219.,  1219.,  1512.,  1219.,  1219.,  1219.,  1219.,  1219.,\n",
       "        1219.,  1512.,  1219.,  1219.,  1219.,  1347.,  1384.,  1384.,\n",
       "        1219.,  1219.,  1219.,  1219.,  1219.,  1219.,  1219.,  1219.,\n",
       "        1219.,  1219.,  1219.,  1219.,  1219.,  1219.,  1219.,  1219.,\n",
       "        1384.,  1219.,  1219.,  1512.,  1219.,  1219.,  1219.,  1219.,\n",
       "        1219.,  1219.,  1219.,  1219.,  1512.,  1219.,  1219.,  1219.,\n",
       "        1219.,  1495.,  1347.,  1219.,  1219.,  1219.,  1347.,  1219.,\n",
       "        1219.,  1219.,  1219.,  1219.,  1512.,  1219.,  1219.,  1219.,\n",
       "        1219.,  1512.,  1219.,  1347.,  1512.,  1219.,  1347.,  1219.,\n",
       "        1219.,  1347.,  1219.,  1219.,  1219.,  1347.,  1347.,  1219.,\n",
       "        1219.,  1219.,  1219.,  1219.,  1219.,  1219.,  1347.,  1347.,\n",
       "        1219.,  1512.,  1219.,  1347.,  1347.,  1347.,  1347.,  1219.,\n",
       "        1347.,  1219.,  1219.,  1219.,  1347.,  1219.,  1219.,  1384.,\n",
       "        1219.,  1512.,  1219.,  1219.,  1219.,  1219.,  1219.,  1347.,\n",
       "        1219.,  1219.,  1347.,  1347.,  1219.,  1219.,  1347.,  1347.,\n",
       "        1219.,  1347.,  1347.,  1219.,  1219.,  1219.,  1219.,  1347.,\n",
       "        1219.,  1219.,  1347.,  1219.,  1219.,  1219.,  1347.,  1347.,\n",
       "        1347.,  1219.,  1219.,  1219.,  1219.,   512.,   512.,  1347.,\n",
       "        1219.,   512.,  1219.,  1219.,  1219.,  1347.,  1219.,  1219.,\n",
       "        1219.,  1347.,  1219.,  1347.,  1219.,  1219.,   512.,   512.,\n",
       "        1219.,  1347.,  1347.,  1219.,  1219.,  1219.,  1219.,  1219.,\n",
       "         512.,  1347.,  1219.,  1219.,  1219.,  1219.,  1219.,  1219.,\n",
       "        1347.,  1219.,   512.,  1219.,  1219.,  1219.,   512.,   512.,\n",
       "        1347.,  1219.,  1219.,  1219.,   512.,  1219.,   512.,   512.,\n",
       "        1219.,  1347.,   512.,   512.,  1347.,  1219.,  1219.,  1219.,\n",
       "        1347.,  1219.,  1219.,   512.,  1347.,  1219.,  1347.,  1347.,\n",
       "         512.,  1219.,  1219.,  1219.,  1347.,  1347.,  1347.,  1219.,\n",
       "         512.,  1347.,   512.,  1219.,   512.,   512.,  1219.,  1347.,\n",
       "        1347.,  1219.,  1219.,  1219.,   512.,  1219.,  1219.,  1219.,\n",
       "         512.,  1347.,  1219.,  1219.,   512.,  1219.,   512.,  1219.,\n",
       "        1219.,  1219.,   512.,  1347.,   512.,   512.,   512.,   512.,\n",
       "         512.,  1219.,  1219.,  1219.,  1219.,   512.,  1219.,  1347.,\n",
       "        1219.,  1219.,  1347.,  1219.,  1219.,  1219.,  1219.,  1347.,\n",
       "        1347.,  1219.,  1219.,  1347.,  1219.,  1219.,  1219.,  1347.,\n",
       "        1347.,  1347.,  1219.,  1219.,  1347.,  1219.,  1219.,  1347.,\n",
       "        1347.,  1219.,  1219.,  1347.,  1219.,  1347.,  1219.,  1347.,\n",
       "        1347.,  1219.,  1219.,  1219.,  1219.,  1347.,   512.,  1347.,\n",
       "        1219.,  1219.,  1219.,  1219.,  1219.,  1347.,  1384.,  1347.,\n",
       "        1347.,  1347.,  1219.,  1219.,  1219.,  1347.,  1347.,  1219.,\n",
       "        1219.,  1219.,  1384.,  1219.,  1347.,  1347.,  1219.,  1347.,\n",
       "        1347.,  1219.,  1219.,  1219.,  1219.,  1219.,  1219.,  1347.,\n",
       "        1219.,  1512.,  1512.,  1219.,  1219.,  1219.,  1347.,  1347.,\n",
       "        1347.,  1219.,  1347.,  1347.,  1347.,  1219.,  1347.,  1512.,\n",
       "        1219.,  1219.,  1219.,  1219.,  1219.,  1347.,  1347.,  1219.,\n",
       "        1219.,  1219.,  1219.,  1347.,  1347.,  1219.,  1219.,  1219.,\n",
       "        1219.,  1347.,  1219.,  1219.,  1219.,  1219.,  1219.,  1347.,\n",
       "        1219.,  1219.,  1219.,  1219.,  1219.,  1219.,  1219.,  1219.,\n",
       "        1512.,  1219.,  1219.,  1219.,  1219.,  1219.,  1219.,  1219.,\n",
       "        1219.,  1219.,  1219.,  1219.,  1219.,  1219.,  1219.,  1219.,\n",
       "        1219.,  1219.,  1219.,  1219.,  1219.,  1219.,  1219.,  1219.,\n",
       "        1219.,  1219.,  1219.,  1219.,  1512.,  1219.,  1219.,  1219.,\n",
       "        1219.,  1219.,  1219.,  1219.,  1219.,  1219.,  1219.,  1219.,\n",
       "        1512.,  1512.,  1219.,  1219.,  1219.,  1219.,  1219.,  1219.,\n",
       "        1613.,  1219.,  1512.,  1512.,  1219.,  1219.,  1219.,  1219.,\n",
       "        1347.,  1347.,  1219.,  1219.,  1219.,  1219.,  1219.,  1219.,\n",
       "        1347.,  1219.,  1219.,  1219.,  1219.,  1219.,  1219.,  1219.,\n",
       "        1347.,  1219.,  1347.,  1219.,  1219.,  1512.,  1347.,  1219.,\n",
       "        1219.,  1219.,  1347.,  1219.,  1219.,  1347.,  1347.,  1347.,\n",
       "        1219.,  1219.,  1219.,  1219.,  1347.,  1219.,  1219.,  1219.,\n",
       "        1219.,  1219.,  1219.,   512.,   512.,  1219.,  1219.,  1219.,\n",
       "        1219.,  1219.,  1219.,  1219.,  1219.,  1219.,  1219.,  1219.,\n",
       "        1219.,  1219.,  1347.,  1219.,  1219.,  1219.,  1219.,  1219.,\n",
       "         512.,  1219.,  1219.,  1219.,   512.,  1219.,  1219.,  1347.,\n",
       "        1219.,  1219.,  1347.,  1219.,  1219.,  1219.,  1219.,  1219.,\n",
       "        1219.,  1219.,  1219.,   512.,   512.,  1347.,  1347.,  1219.,\n",
       "        1347.,  1347.,  1219.,  1347.,  1347.,  1219.,  1347.,   512.,\n",
       "        1347.,  1347.,   512.,  1347.,  1219.,  1347.,  1347.,  1347.,\n",
       "        1347.,   512.,   512.,   512.,  1347.,  1347.,  1347.,  1347.,\n",
       "        1219.,  1347.,   512.,  1347.,  1219.,  1347.,  1219.,  1219.,\n",
       "        1347.,  1347.,   512.,   512.,   512.,   512.,  1219.,  1347.,\n",
       "         512.,  1219.,  1219.,   512.,   512.,   512.,   512.,   512.,\n",
       "         512.,   512.,  1219.,  1347.,   512.,   512.,   512.,   512.,\n",
       "         512.,   512.,   512.,   512.,   512.,   512.,   512.,   512.,\n",
       "        1219.,   512.,  1219.,  1347.,   512.,   512.,   512.,   512.,\n",
       "         512.,   512.,   512.,   512.,   512.,   512.,   512.,  1219.,\n",
       "        1219.,   512.,  1219.,  1219.,  1219.,  1219.,  1347.,   512.,\n",
       "         512.,   512.,   512.,   512.,  1219.,  1219.,   512.,   512.,\n",
       "         512.,   512.,  1347.,  1347.,  1347.,  1219.,  1219.,  1219.,\n",
       "        1219.,  1219.,  1219.,  1219.,  1219.,  1219.,  1219.,  1219.,\n",
       "        1219.,  1219.,  1219.,  1347.,  1347.,  1347.,  1347.,  1347.,\n",
       "        1347.,  1219.,  1219.,  1219.,  1219.,  1219.,   512.,  1219.,\n",
       "        1219.,  1219.,  1347.,  1219.,  1219.,  1219.,  1219.,  1219.,\n",
       "        1219.,  1219.,  1219.,  1219.,  1219.,  1219.,  1347.,  1219.,\n",
       "        1219.,  1347.,  1347.,  1219.,  1219.,  1219.,  1219.,  1219.,\n",
       "        1219.,  1219.,  1219.,  1219.,  1219.,  1219.,  1347.,  1347.,\n",
       "        1347.,  1219.,  1219.,  1219.,  1219.,  1219.,  1219.,  1347.,\n",
       "        1219.,  1219.,  1219.,  1219.,  1219.,  1219.,  1219.,  1384.,\n",
       "        1347.,  1347.,  1219.,  1347.,  1219.,  1219.,  1219.,  1219.,\n",
       "        1219.,  1219.,  1219.,  1219.,  1219.,  1384.,  1219.,  1219.,\n",
       "        1219.,  1347.,  1347.,  1347.,  1347.,  1219.,  1219.,  1219.,\n",
       "        1347.,  1219.,  1219.,  1219.,  1347.,  1219.,  1512.,  1512.,\n",
       "        1347.,  1347.])"
      ]
     },
     "execution_count": 15,
     "metadata": {},
     "output_type": "execute_result"
    }
   ],
   "source": [
    "clf.predict(X)"
   ]
  },
  {
   "cell_type": "code",
   "execution_count": 16,
   "metadata": {
    "collapsed": true
   },
   "outputs": [],
   "source": [
    "df_pred = pd.DataFrame({'pred':clf.predict(X_test),'actual':y_test})"
   ]
  },
  {
   "cell_type": "code",
   "execution_count": 17,
   "metadata": {
    "collapsed": true
   },
   "outputs": [],
   "source": [
    "df_pred.sort_index(axis=0, inplace=True)"
   ]
  },
  {
   "cell_type": "code",
   "execution_count": 18,
   "metadata": {
    "collapsed": false
   },
   "outputs": [
    {
     "data": {
      "text/plain": [
       "<matplotlib.text.Text at 0x7fc7cec5c850>"
      ]
     },
     "execution_count": 18,
     "metadata": {},
     "output_type": "execute_result"
    },
    {
     "data": {
      "image/png": "[encoded data removed]",
      "text/plain": [
       "<matplotlib.figure.Figure at 0x7fc7fc27cd90>"
      ]
     },
     "metadata": {},
     "output_type": "display_data"
    }
   ],
   "source": [
    "df_pred[pd.to_datetime(df_pred.index).year==2014].plot(kind='line', figsize=(12,6),alpha=.8)\n",
    "plt.title('2014')\n",
    "plt.xlabel('Dates')\n",
    "plt.ylabel('Complaints about Building Conditions')"
   ]
  },
  {
   "cell_type": "code",
   "execution_count": null,
   "metadata": {
    "collapsed": true
   },
   "outputs": [],
   "source": []
  }
 ],
 "metadata": {
  "kernelspec": {
   "display_name": "Python 2",
   "language": "python",
   "name": "python2"
  },
  "language_info": {
   "codemirror_mode": {
    "name": "ipython",
    "version": 2
   },
   "file_extension": ".py",
   "mimetype": "text/x-python",
   "name": "python",
   "nbconvert_exporter": "python",
   "pygments_lexer": "ipython2",
   "version": "2.7.9"
  }
 },
 "nbformat": 4,
 "nbformat_minor": 0
}
