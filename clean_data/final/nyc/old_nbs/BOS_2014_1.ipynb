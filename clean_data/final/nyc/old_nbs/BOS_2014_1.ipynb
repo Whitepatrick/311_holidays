{
 "cells": [
  {
   "cell_type": "code",
   "execution_count": 7,
   "metadata": {
    "collapsed": true
   },
   "outputs": [],
   "source": [
    "import pandas as pd\n",
    "import numpy as np"
   ]
  },
  {
   "cell_type": "code",
   "execution_count": 8,
   "metadata": {
    "collapsed": false
   },
   "outputs": [],
   "source": [
    "keepers = reason_keepers = ['OPEN_DT', 'CASE_TITLE', 'neighborhood', 'Geocoded_Location']"
   ]
  },
  {
   "cell_type": "code",
   "execution_count": 9,
   "metadata": {
    "collapsed": false
   },
   "outputs": [],
   "source": [
    "#df_raw = pd.read_csv('../../data_311/boston_311/bos_20140101_20140630.csv', low_memory=False, index_col=['OPEN_DT'], parse_dates=['OPEN_DT'])\n",
    "df = pd.read_csv('../../data_311/boston_311/bos_20140101_20140630.csv', low_memory=False, usecols=keepers, index_col=['OPEN_DT'], parse_dates=['OPEN_DT'])"
   ]
  },
  {
   "cell_type": "code",
   "execution_count": 10,
   "metadata": {
    "collapsed": false
   },
   "outputs": [
    {
     "data": {
      "text/html": [
       "<div>\n",
       "<table border=\"1\" class=\"dataframe\">\n",
       "  <thead>\n",
       "    <tr style=\"text-align: right;\">\n",
       "      <th></th>\n",
       "      <th>CASE_TITLE</th>\n",
       "      <th>neighborhood</th>\n",
       "      <th>Geocoded_Location</th>\n",
       "    </tr>\n",
       "    <tr>\n",
       "      <th>OPEN_DT</th>\n",
       "      <th></th>\n",
       "      <th></th>\n",
       "      <th></th>\n",
       "    </tr>\n",
       "  </thead>\n",
       "  <tbody>\n",
       "    <tr>\n",
       "      <th>2014-01-01 00:25:39</th>\n",
       "      <td>Knockdown Replacement</td>\n",
       "      <td>Charlestown</td>\n",
       "      <td>(42.3784, -71.0529)</td>\n",
       "    </tr>\n",
       "    <tr>\n",
       "      <th>2014-01-01 00:51:15</th>\n",
       "      <td>Sign Repair</td>\n",
       "      <td>Roslindale</td>\n",
       "      <td>(42.2849, -71.1208)</td>\n",
       "    </tr>\n",
       "    <tr>\n",
       "      <th>2014-01-01 03:35:14</th>\n",
       "      <td>Generic Noise Disturbance</td>\n",
       "      <td>Downtown / Financial District</td>\n",
       "      <td>(42.3672, -71.0529)</td>\n",
       "    </tr>\n",
       "    <tr>\n",
       "      <th>2014-01-01 04:57:11</th>\n",
       "      <td>Parking Enforcement</td>\n",
       "      <td>East Boston</td>\n",
       "      <td>(42.3784, -71.039)</td>\n",
       "    </tr>\n",
       "    <tr>\n",
       "      <th>2014-01-01 06:13:50</th>\n",
       "      <td>Traffic Signal Repair</td>\n",
       "      <td>Greater Mattapan</td>\n",
       "      <td>(42.3035, -71.0851)</td>\n",
       "    </tr>\n",
       "  </tbody>\n",
       "</table>\n",
       "</div>"
      ],
      "text/plain": [
       "                                    CASE_TITLE                   neighborhood  \\\n",
       "OPEN_DT                                                                         \n",
       "2014-01-01 00:25:39      Knockdown Replacement                    Charlestown   \n",
       "2014-01-01 00:51:15                Sign Repair                     Roslindale   \n",
       "2014-01-01 03:35:14  Generic Noise Disturbance  Downtown / Financial District   \n",
       "2014-01-01 04:57:11        Parking Enforcement                    East Boston   \n",
       "2014-01-01 06:13:50      Traffic Signal Repair               Greater Mattapan   \n",
       "\n",
       "                       Geocoded_Location  \n",
       "OPEN_DT                                   \n",
       "2014-01-01 00:25:39  (42.3784, -71.0529)  \n",
       "2014-01-01 00:51:15  (42.2849, -71.1208)  \n",
       "2014-01-01 03:35:14  (42.3672, -71.0529)  \n",
       "2014-01-01 04:57:11   (42.3784, -71.039)  \n",
       "2014-01-01 06:13:50  (42.3035, -71.0851)  "
      ]
     },
     "execution_count": 10,
     "metadata": {},
     "output_type": "execute_result"
    }
   ],
   "source": [
    "df.head()"
   ]
  },
  {
   "cell_type": "code",
   "execution_count": 11,
   "metadata": {
    "collapsed": false
   },
   "outputs": [],
   "source": [
    "df.to_csv(\"BOS_2014_1.csv\", date_format='%Y-%m-%d')"
   ]
  },
  {
   "cell_type": "code",
   "execution_count": 13,
   "metadata": {
    "collapsed": false
   },
   "outputs": [
    {
     "data": {
      "text/html": [
       "<div>\n",
       "<table border=\"1\" class=\"dataframe\">\n",
       "  <thead>\n",
       "    <tr style=\"text-align: right;\">\n",
       "      <th></th>\n",
       "      <th>CASE_TITLE</th>\n",
       "      <th>neighborhood</th>\n",
       "      <th>Geocoded_Location</th>\n",
       "    </tr>\n",
       "    <tr>\n",
       "      <th>OPEN_DT</th>\n",
       "      <th></th>\n",
       "      <th></th>\n",
       "      <th></th>\n",
       "    </tr>\n",
       "  </thead>\n",
       "  <tbody>\n",
       "    <tr>\n",
       "      <th>2014-01-01</th>\n",
       "      <td>Knockdown Replacement</td>\n",
       "      <td>Charlestown</td>\n",
       "      <td>(42.3784, -71.0529)</td>\n",
       "    </tr>\n",
       "    <tr>\n",
       "      <th>2014-01-01</th>\n",
       "      <td>Sign Repair</td>\n",
       "      <td>Roslindale</td>\n",
       "      <td>(42.2849, -71.1208)</td>\n",
       "    </tr>\n",
       "    <tr>\n",
       "      <th>2014-01-01</th>\n",
       "      <td>Generic Noise Disturbance</td>\n",
       "      <td>Downtown / Financial District</td>\n",
       "      <td>(42.3672, -71.0529)</td>\n",
       "    </tr>\n",
       "    <tr>\n",
       "      <th>2014-01-01</th>\n",
       "      <td>Parking Enforcement</td>\n",
       "      <td>East Boston</td>\n",
       "      <td>(42.3784, -71.039)</td>\n",
       "    </tr>\n",
       "    <tr>\n",
       "      <th>2014-01-01</th>\n",
       "      <td>Traffic Signal Repair</td>\n",
       "      <td>Greater Mattapan</td>\n",
       "      <td>(42.3035, -71.0851)</td>\n",
       "    </tr>\n",
       "  </tbody>\n",
       "</table>\n",
       "</div>"
      ],
      "text/plain": [
       "                           CASE_TITLE                   neighborhood  \\\n",
       "OPEN_DT                                                                \n",
       "2014-01-01      Knockdown Replacement                    Charlestown   \n",
       "2014-01-01                Sign Repair                     Roslindale   \n",
       "2014-01-01  Generic Noise Disturbance  Downtown / Financial District   \n",
       "2014-01-01        Parking Enforcement                    East Boston   \n",
       "2014-01-01      Traffic Signal Repair               Greater Mattapan   \n",
       "\n",
       "              Geocoded_Location  \n",
       "OPEN_DT                          \n",
       "2014-01-01  (42.3784, -71.0529)  \n",
       "2014-01-01  (42.2849, -71.1208)  \n",
       "2014-01-01  (42.3672, -71.0529)  \n",
       "2014-01-01   (42.3784, -71.039)  \n",
       "2014-01-01  (42.3035, -71.0851)  "
      ]
     },
     "execution_count": 13,
     "metadata": {},
     "output_type": "execute_result"
    }
   ],
   "source": [
    "df_from_new = pd.read_csv(\"BOS_2014_1.csv\", low_memory=False, index_col=['OPEN_DT'], parse_dates=['OPEN_DT'])\n",
    "df_from_new.head()"
   ]
  },
  {
   "cell_type": "code",
   "execution_count": 14,
   "metadata": {
    "collapsed": false
   },
   "outputs": [
    {
     "data": {
      "text/plain": [
       "CASE_TITLE             86\n",
       "neighborhood         3764\n",
       "Geocoded_Location       0\n",
       "dtype: int64"
      ]
     },
     "execution_count": 14,
     "metadata": {},
     "output_type": "execute_result"
    }
   ],
   "source": [
    "df.isnull().sum()"
   ]
  },
  {
   "cell_type": "code",
   "execution_count": null,
   "metadata": {
    "collapsed": true
   },
   "outputs": [],
   "source": []
  }
 ],
 "metadata": {
  "kernelspec": {
   "display_name": "Python 2",
   "language": "python",
   "name": "python2"
  },
  "language_info": {
   "codemirror_mode": {
    "name": "ipython",
    "version": 2
   },
   "file_extension": ".py",
   "mimetype": "text/x-python",
   "name": "python",
   "nbconvert_exporter": "python",
   "pygments_lexer": "ipython2",
   "version": "2.7.11"
  }
 },
 "nbformat": 4,
 "nbformat_minor": 0
}
