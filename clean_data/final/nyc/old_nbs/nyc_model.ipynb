{
 "cells": [
  {
   "cell_type": "code",
   "execution_count": 2,
   "metadata": {
    "collapsed": true
   },
   "outputs": [],
   "source": [
    "import numpy as np\n",
    "import pandas as pd \n",
    "import seaborn\n",
    "import matplotlib.pyplot as plt \n",
    "import matplotlib.dates as dates\n",
    "%matplotlib inline"
   ]
  },
  {
   "cell_type": "code",
   "execution_count": 3,
   "metadata": {
    "collapsed": false
   },
   "outputs": [],
   "source": [
    "#Created_Date\tComplaint_Type\tBorough\tLocation\n",
    "df = pd.read_csv('NYC.csv', usecols=['Created_Date', 'Complaint_Type', 'Borough', 'Location'], parse_dates='Created_Date')"
   ]
  },
  {
   "cell_type": "code",
   "execution_count": 4,
   "metadata": {
    "collapsed": false
   },
   "outputs": [
    {
     "data": {
      "text/html": [
       "<div>\n",
       "<table border=\"1\" class=\"dataframe\">\n",
       "  <thead>\n",
       "    <tr style=\"text-align: right;\">\n",
       "      <th></th>\n",
       "      <th>Created_Date</th>\n",
       "    </tr>\n",
       "    <tr>\n",
       "      <th>Complaint_Type</th>\n",
       "      <th></th>\n",
       "    </tr>\n",
       "  </thead>\n",
       "  <tbody>\n",
       "    <tr>\n",
       "      <th>Building Conditions</th>\n",
       "      <td>1242384</td>\n",
       "    </tr>\n",
       "    <tr>\n",
       "      <th>General Request or Complaint</th>\n",
       "      <td>528935</td>\n",
       "    </tr>\n",
       "    <tr>\n",
       "      <th>Living Conditions</th>\n",
       "      <td>457328</td>\n",
       "    </tr>\n",
       "    <tr>\n",
       "      <th>Parking Enforcement</th>\n",
       "      <td>454202</td>\n",
       "    </tr>\n",
       "    <tr>\n",
       "      <th>Signal/Sign Repair</th>\n",
       "      <td>295603</td>\n",
       "    </tr>\n",
       "    <tr>\n",
       "      <th>Street/Sidewalk Maintenance</th>\n",
       "      <td>657684</td>\n",
       "    </tr>\n",
       "  </tbody>\n",
       "</table>\n",
       "</div>"
      ],
      "text/plain": [
       "                              Created_Date\n",
       "Complaint_Type                            \n",
       "Building Conditions                1242384\n",
       "General Request or Complaint        528935\n",
       "Living Conditions                   457328\n",
       "Parking Enforcement                 454202\n",
       "Signal/Sign Repair                  295603\n",
       "Street/Sidewalk Maintenance         657684"
      ]
     },
     "execution_count": 4,
     "metadata": {},
     "output_type": "execute_result"
    }
   ],
   "source": [
    "df[['Created_Date','Complaint_Type']].groupby(['Complaint_Type']).agg('count')"
   ]
  },
  {
   "cell_type": "code",
   "execution_count": 16,
   "metadata": {
    "collapsed": false
   },
   "outputs": [],
   "source": [
    "ser = pd.Series(df['CASE_TITLE'])"
   ]
  },
  {
   "cell_type": "code",
   "execution_count": 17,
   "metadata": {
    "collapsed": false
   },
   "outputs": [
    {
     "data": {
      "text/plain": [
       "Street/Sidewalk Maintenance     132470\n",
       "General Request or Complaint     65457\n",
       "Building Conditions              36009\n",
       "Living Conditions                23210\n",
       "Signal/Sign Repair               21021\n",
       "Parking Enforcement              15291\n",
       "Name: CASE_TITLE, dtype: int64"
      ]
     },
     "execution_count": 17,
     "metadata": {},
     "output_type": "execute_result"
    }
   ],
   "source": [
    "ser.value_counts()[0:31]"
   ]
  },
  {
   "cell_type": "code",
   "execution_count": null,
   "metadata": {
    "collapsed": true
   },
   "outputs": [],
   "source": []
  }
 ],
 "metadata": {
  "kernelspec": {
   "display_name": "Python 2",
   "language": "python",
   "name": "python2"
  },
  "language_info": {
   "codemirror_mode": {
    "name": "ipython",
    "version": 2
   },
   "file_extension": ".py",
   "mimetype": "text/x-python",
   "name": "python",
   "nbconvert_exporter": "python",
   "pygments_lexer": "ipython2",
   "version": "2.7.11"
  }
 },
 "nbformat": 4,
 "nbformat_minor": 0
}
