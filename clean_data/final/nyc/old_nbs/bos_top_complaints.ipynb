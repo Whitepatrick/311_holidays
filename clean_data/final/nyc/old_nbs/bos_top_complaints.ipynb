{
 "cells": [
  {
   "cell_type": "code",
   "execution_count": 13,
   "metadata": {
    "collapsed": true
   },
   "outputs": [],
   "source": [
    "%matplotlib inline\n",
    "\n",
    "import pandas as pd\n",
    "import numpy as np\n",
    "import scipy.stats as stats\n",
    "import matplotlib.pyplot as plt\n",
    "import sklearn"
   ]
  },
  {
   "cell_type": "code",
   "execution_count": 14,
   "metadata": {
    "collapsed": false
   },
   "outputs": [],
   "source": [
    "df1 = pd.read_csv('BOS_2014_1.csv')\n",
    "df2 = pd.read_csv('BOS_2014_2.csv')\n",
    "df3 = pd.read_csv('BOS_2015_1.csv')\n",
    "df4 = pd.read_csv('BOS_2015_2.csv')"
   ]
  },
  {
   "cell_type": "code",
   "execution_count": 15,
   "metadata": {
    "collapsed": true
   },
   "outputs": [],
   "source": [
    "df_2014 = df1.append(df2, ignore_index=True)\n",
    "df_2015 = df3.append(df4, ignore_index=True)"
   ]
  },
  {
   "cell_type": "code",
   "execution_count": 16,
   "metadata": {
    "collapsed": true
   },
   "outputs": [],
   "source": [
    "ser1 = pd.Series(df_2014['CASE_TITLE'])\n",
    "ser2 = pd.Series(df_2015['CASE_TITLE'])"
   ]
  },
  {
   "cell_type": "code",
   "execution_count": 26,
   "metadata": {
    "collapsed": false
   },
   "outputs": [
    {
     "data": {
      "text/plain": [
       "Schedule a Bulk Item Pickup         12271\n",
       "Requests for Street Cleaning        11170\n",
       "Pothole Repair (Internal)           10480\n",
       "Request for Pothole Repair           9035\n",
       "Street Light Outages                 5541\n",
       "Schedule Bulk Item Pickup            5357\n",
       "Sidewalk Repair (Make Safe)          5043\n",
       "Unsatisfactory Living Conditions     3751\n",
       "Traffic Signal Repair                3336\n",
       "Request for Recycling Cart           3176\n",
       "Graffiti Removal                     3086\n",
       "Tree Maintenance Requests            3077\n",
       "Request for Snow Plowing             2645\n",
       "Sticker Request                      2344\n",
       "Sign Repair                          2239\n",
       "Rodent Activity                      2149\n",
       "Animal Generic Request               2048\n",
       "Pick up Dead Animal                  1907\n",
       "Abandoned Vehicles                   1889\n",
       "New Tree Requests                    1832\n",
       "Sidewalk Repair                      1721\n",
       "Building Inspection Request          1517\n",
       "Parking Enforcement                  1489\n",
       "Equipment Repair                     1431\n",
       "Empty Litter Basket                  1302\n",
       "Heat - Excessive  Insufficient       1243\n",
       "Other: Complaint                     1182\n",
       "Name: CASE_TITLE, dtype: int64"
      ]
     },
     "execution_count": 26,
     "metadata": {},
     "output_type": "execute_result"
    }
   ],
   "source": [
    "ser1.value_counts()[0:27]"
   ]
  },
  {
   "cell_type": "code",
   "execution_count": 27,
   "metadata": {
    "collapsed": false
   },
   "outputs": [
    {
     "data": {
      "text/plain": [
       "Request for Snow Plowing            30322\n",
       "Requests for Street Cleaning        12905\n",
       "Schedule a Bulk Item Pickup         12172\n",
       "Request for Pothole Repair           8416\n",
       "Parking Enforcement                  8266\n",
       "Pothole Repair (Internal)            5393\n",
       "Schedule Bulk Item Pickup            5335\n",
       "CE Collection                        4897\n",
       "Building Inspection Request          4893\n",
       "Sign Repair                          4770\n",
       "Sidewalk Repair (Make Safe)          3988\n",
       "Tree Maintenance Requests            3969\n",
       "PRINTED                              3563\n",
       "Graffiti Removal                     3247\n",
       "Request for Recycling Cart           2805\n",
       "Empty Litter Basket                  2747\n",
       "Abandoned Vehicles                   2601\n",
       "Unsatisfactory Living Conditions     2589\n",
       "Animal Generic Request               2573\n",
       "Front Desk Interactions              2448\n",
       "Sticker Request                      2444\n",
       "Traffic Signal Inspection            2243\n",
       "Pick up Dead Animal                  2219\n",
       "Street Light Outages                 2152\n",
       "Rodent Activity                      2150\n",
       "Traffic Signal Repair                2080\n",
       "Equipment Repair                     1560\n",
       "Name: CASE_TITLE, dtype: int64"
      ]
     },
     "execution_count": 27,
     "metadata": {},
     "output_type": "execute_result"
    }
   ],
   "source": [
    "ser2.value_counts()[0:27]"
   ]
  },
  {
   "cell_type": "code",
   "execution_count": 25,
   "metadata": {
    "collapsed": false
   },
   "outputs": [
    {
     "data": {
      "text/plain": [
       "30322"
      ]
     },
     "execution_count": 25,
     "metadata": {},
     "output_type": "execute_result"
    }
   ],
   "source": [
    "ser2.value_counts()['Request for Snow Plowing']"
   ]
  },
  {
   "cell_type": "markdown",
   "metadata": {},
   "source": [
    "# Boston 311 Complaints\n",
    "## Top 25  Complaints 2014 - 2015\n",
    "### Complaint Type (Position 2014,Position 2015)  \n",
    "Schedule Bulk Item Pickup (0,3)\n",
    "Requests for Street Cleaning (1,1)  \n",
    "Pothole Repair (Internal) (2,5)\n",
    "Request for Pothole Repair (3,3)\n",
    "Street Light Outages (4,23)\n",
    "Sidewalk Repair (Make Safe) (5,10)\n",
    "Unsatisfactory Living Conditions (6,17)\n",
    "Traffic Signal Repair (7,21)\n",
    "Request for Recycling Cart (8,14)\n",
    "Graffiti Removal (9,13)\n",
    "Tree Maintenance Requests (10,11)\n",
    "Request for Snow Plowing (12,1)\n",
    "\n",
    "\n",
    "\n",
    "\n"
   ]
  },
  {
   "cell_type": "code",
   "execution_count": null,
   "metadata": {
    "collapsed": true
   },
   "outputs": [],
   "source": []
  }
 ],
 "metadata": {
  "kernelspec": {
   "display_name": "Python 2",
   "language": "python",
   "name": "python2"
  },
  "language_info": {
   "codemirror_mode": {
    "name": "ipython",
    "version": 2
   },
   "file_extension": ".py",
   "mimetype": "text/x-python",
   "name": "python",
   "nbconvert_exporter": "python",
   "pygments_lexer": "ipython2",
   "version": "2.7.9"
  }
 },
 "nbformat": 4,
 "nbformat_minor": 0
}
