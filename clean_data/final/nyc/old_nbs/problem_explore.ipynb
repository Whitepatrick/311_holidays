{
 "cells": [
  {
   "cell_type": "markdown",
   "metadata": {},
   "source": [
    "### How can I replace the 0 values in df_2014 with 1 or the ```df_holiday['Holday']``` value for the index matching the holiday's date?"
   ]
  },
  {
   "cell_type": "code",
   "execution_count": 3,
   "metadata": {
    "collapsed": false
   },
   "outputs": [],
   "source": [
    "import numpy as np\n",
    "import pandas as pd \n",
    "import seaborn\n",
    "from sklearn import metrics\n",
    "from sklearn.linear_model import LogisticRegression\n",
    "from sklearn.linear_model import LinearRegression\n",
    "from sklearn import preprocessing\n",
    "import matplotlib.pyplot as plt \n",
    "import matplotlib.dates as dates\n",
    "import datetime\n",
    "from scipy import stats\n",
    "%matplotlib inline"
   ]
  },
  {
   "cell_type": "markdown",
   "metadata": {},
   "source": [
    "**Grab data from master NYC file, sort and group to show complaint amount by type for each day**"
   ]
  },
  {
   "cell_type": "code",
   "execution_count": 4,
   "metadata": {
    "collapsed": false
   },
   "outputs": [],
   "source": [
    "cols = ['Created_Date', 'Complaint_Type']\n",
    "df = pd.read_csv('NYC.csv', parse_dates=['Created_Date'], usecols=cols, index_col='Created_Date')\n",
    "df = pd.get_dummies(df.Complaint_Type)\n",
    "df = df.reset_index()\n",
    "df = df.groupby(df['Created_Date']).sum()\n",
    "df.reset_index().head()\n",
    "df = df.sort_index()"
   ]
  },
  {
   "cell_type": "markdown",
   "metadata": {},
   "source": [
    "**Read in weather data for the years being analyzed and index by date**"
   ]
  },
  {
   "cell_type": "code",
   "execution_count": 5,
   "metadata": {
    "collapsed": false
   },
   "outputs": [],
   "source": [
    "keepers = ['EST', 'Max TemperatureF', 'Events']\n",
    "df_weather_2014 = pd.read_csv('clean_2014_weather.csv', usecols=keepers, parse_dates='EST')\n",
    "df_weather_2015 = pd.read_csv('clean_2015_weather.csv', usecols=keepers, parse_dates='EST')\n",
    "df_weather_2014 = df_weather_2014.set_index('EST')\n",
    "df_weather_2015 = df_weather_2015.set_index('EST')"
   ]
  },
  {
   "cell_type": "markdown",
   "metadata": {},
   "source": [
    "**Join the weather event to the year's dataframe, initialize 'Holiday' column with 0 vals**"
   ]
  },
  {
   "cell_type": "code",
   "execution_count": 6,
   "metadata": {
    "collapsed": false
   },
   "outputs": [],
   "source": [
    "df_2014_final = df[:365].join(df_weather_2014)\n",
    "df_2015_final = df[365:].join(df_weather_2015)\n",
    "#df_2014['Holiday'] = 0\n",
    "#df_2015['Holiday'] = 0"
   ]
  },
  {
   "cell_type": "markdown",
   "metadata": {},
   "source": [
    "**Rename columns to better fit my screen**"
   ]
  },
  {
   "cell_type": "code",
   "execution_count": 8,
   "metadata": {
    "collapsed": false
   },
   "outputs": [],
   "source": [
    "feature_columns = ['Building_Conditions', 'General_Request', 'Living_Conditions',\n",
    "                         'Parking_Enforcement', 'Signal_Sign_Repair', 'Street_Sidewalk_Repair',\n",
    "                         'Max_TempF', 'Weather']\n",
    "df_2014_final.columns = feature_columns\n",
    "df_2015_final.columns = feature_columns"
   ]
  },
  {
   "cell_type": "code",
   "execution_count": 70,
   "metadata": {
    "collapsed": false
   },
   "outputs": [],
   "source": [
    "#df_holidays2 = df_holidays.set_index('2014_date')\n",
    "#df_holidays3 = df_holidays.set_index('2015_date')"
   ]
  },
  {
   "cell_type": "code",
   "execution_count": 71,
   "metadata": {
    "collapsed": false
   },
   "outputs": [],
   "source": [
    "#df_2014.join(df_holidays2, lsuffix='_')\n",
    "#df_2015.join(df_holidays3, lsuffix='_')"
   ]
  },
  {
   "cell_type": "code",
   "execution_count": 72,
   "metadata": {
    "collapsed": true
   },
   "outputs": [],
   "source": [
    "#df_2014_final = df_2014.join(df_holidays2, lsuffix='_')\n",
    "#df_2015_final = df_2015.join(df_holidays3, lsuffix='_')"
   ]
  },
  {
   "cell_type": "code",
   "execution_count": 73,
   "metadata": {
    "collapsed": false
   },
   "outputs": [],
   "source": [
    "#df_2014_final = df_2014_final.drop('Holiday_', axis=1).fillna(0)\n",
    "#df_2014_final = df_2014_final.drop('2015_date', axis=1).fillna(0)\n",
    "#df_2015_final = df_2015_final.drop('Holiday_', axis=1).fillna(0)\n",
    "#df_2015_final = df_2015_final.drop('2014_date', axis=1).fillna(0)"
   ]
  },
  {
   "cell_type": "code",
   "execution_count": 74,
   "metadata": {
    "collapsed": true
   },
   "outputs": [],
   "source": [
    "#df_2014_final['Holiday'] = (df_2014_final['Holiday'] != 0).astype(int)\n",
    "#df_2015_final['Holiday'] = (df_2015_final['Holiday'] != 0).astype(int)"
   ]
  },
  {
   "cell_type": "code",
   "execution_count": 95,
   "metadata": {
    "collapsed": true
   },
   "outputs": [],
   "source": [
    "#encode = preprocessing.LabelEncoder()"
   ]
  },
  {
   "cell_type": "code",
   "execution_count": 96,
   "metadata": {
    "collapsed": false
   },
   "outputs": [
    {
     "data": {
      "text/plain": [
       "LabelEncoder()"
      ]
     },
     "execution_count": 96,
     "metadata": {},
     "output_type": "execute_result"
    }
   ],
   "source": [
    "#encode.fit(df_2014_final['Weather'])"
   ]
  },
  {
   "cell_type": "code",
   "execution_count": 97,
   "metadata": {
    "collapsed": false
   },
   "outputs": [],
   "source": [
    "#df_2014_final['Weather'] = encode.transform(df_2014_final['Weather'])"
   ]
  },
  {
   "cell_type": "code",
   "execution_count": 98,
   "metadata": {
    "collapsed": false
   },
   "outputs": [
    {
     "data": {
      "text/plain": [
       "LabelEncoder()"
      ]
     },
     "execution_count": 98,
     "metadata": {},
     "output_type": "execute_result"
    }
   ],
   "source": [
    "#encode.fit(df_2015_final['Weather'])"
   ]
  },
  {
   "cell_type": "code",
   "execution_count": 99,
   "metadata": {
    "collapsed": true
   },
   "outputs": [],
   "source": [
    "#df_2015_final['Weather'] = encode.transform(df_2015_final['Weather'])"
   ]
  },
  {
   "cell_type": "code",
   "execution_count": 10,
   "metadata": {
    "collapsed": false
   },
   "outputs": [],
   "source": [
    "df_weather_2016 = pd.read_csv('nyc_2016_weather.csv', parse_dates='Created_Date')"
   ]
  },
  {
   "cell_type": "code",
   "execution_count": 11,
   "metadata": {
    "collapsed": false
   },
   "outputs": [
    {
     "data": {
      "text/html": [
       "<div>\n",
       "<table border=\"1\" class=\"dataframe\">\n",
       "  <thead>\n",
       "    <tr style=\"text-align: right;\">\n",
       "      <th></th>\n",
       "      <th>Created_Date</th>\n",
       "      <th>Max TempF</th>\n",
       "    </tr>\n",
       "  </thead>\n",
       "  <tbody>\n",
       "    <tr>\n",
       "      <th>0</th>\n",
       "      <td>Fri\\n1/1/2016</td>\n",
       "      <td>42°</td>\n",
       "    </tr>\n",
       "    <tr>\n",
       "      <th>1</th>\n",
       "      <td>Sat\\n1/2/2016</td>\n",
       "      <td>40°</td>\n",
       "    </tr>\n",
       "    <tr>\n",
       "      <th>2</th>\n",
       "      <td>Sun\\n1/3/2016</td>\n",
       "      <td>45°</td>\n",
       "    </tr>\n",
       "    <tr>\n",
       "      <th>3</th>\n",
       "      <td>Mon\\n1/4/2016</td>\n",
       "      <td>36°</td>\n",
       "    </tr>\n",
       "    <tr>\n",
       "      <th>4</th>\n",
       "      <td>Tue\\n1/5/2016</td>\n",
       "      <td>29°</td>\n",
       "    </tr>\n",
       "  </tbody>\n",
       "</table>\n",
       "</div>"
      ],
      "text/plain": [
       "    Created_Date Max TempF\n",
       "0  Fri\\n1/1/2016       42°\n",
       "1  Sat\\n1/2/2016       40°\n",
       "2  Sun\\n1/3/2016       45°\n",
       "3  Mon\\n1/4/2016       36°\n",
       "4  Tue\\n1/5/2016       29°"
      ]
     },
     "execution_count": 11,
     "metadata": {},
     "output_type": "execute_result"
    }
   ],
   "source": [
    "df_weather_2016.head()"
   ]
  },
  {
   "cell_type": "code",
   "execution_count": 12,
   "metadata": {
    "collapsed": true
   },
   "outputs": [],
   "source": [
    "df_weather_2016['Created_Date'] = pd.to_datetime(df_weather_2016['Created_Date'])"
   ]
  },
  {
   "cell_type": "code",
   "execution_count": 37,
   "metadata": {
    "collapsed": false
   },
   "outputs": [],
   "source": [
    "#df_weather_2016 = df_weather_2016.set_index('Created_Date')"
   ]
  },
  {
   "cell_type": "code",
   "execution_count": 38,
   "metadata": {
    "collapsed": false
   },
   "outputs": [],
   "source": [
    "#year_array = np.arange('2016-01', '2017-01', dtype='datetime64[D]')"
   ]
  },
  {
   "cell_type": "code",
   "execution_count": 13,
   "metadata": {
    "collapsed": false
   },
   "outputs": [],
   "source": [
    "df_weather_2016['Buiding_Conditions'] = 0\n",
    "df_weather_2016['General_Request'] = 0\n",
    "df_weather_2016['Living_Conditions'] = 0\n",
    "df_weather_2016['Parking_Enforcement'] = 0\n",
    "df_weather_2016['Signal_Sign_Repair'] = 0\n",
    "df_weather_2016['Street_Sidewalk_Repair'] = 0\n",
    "df_weather_2016['Max_TempF_'] = df_weather_2016['Max TempF']\n",
    "df_weather_2016['Weather'] = 0"
   ]
  },
  {
   "cell_type": "code",
   "execution_count": 14,
   "metadata": {
    "collapsed": false
   },
   "outputs": [],
   "source": [
    "df_weather_2016.drop('Max TempF', axis=1, inplace=True)"
   ]
  },
  {
   "cell_type": "code",
   "execution_count": 15,
   "metadata": {
    "collapsed": false
   },
   "outputs": [],
   "source": [
    "df_2016 = df_weather_2016.rename(columns={'Max_TempF_': 'Max_TempF'})"
   ]
  },
  {
   "cell_type": "code",
   "execution_count": 18,
   "metadata": {
    "collapsed": true
   },
   "outputs": [],
   "source": [
    "df_2016['Max_TempF'] = df_2016['Max_TempF'].str.replace('°', '')"
   ]
  },
  {
   "cell_type": "code",
   "execution_count": 21,
   "metadata": {
    "collapsed": false
   },
   "outputs": [
    {
     "data": {
      "text/html": [
       "<div>\n",
       "<table border=\"1\" class=\"dataframe\">\n",
       "  <thead>\n",
       "    <tr style=\"text-align: right;\">\n",
       "      <th></th>\n",
       "      <th>Building_Conditions</th>\n",
       "      <th>General_Request</th>\n",
       "      <th>Living_Conditions</th>\n",
       "      <th>Parking_Enforcement</th>\n",
       "      <th>Signal_Sign_Repair</th>\n",
       "      <th>Street_Sidewalk_Repair</th>\n",
       "      <th>Max_TempF</th>\n",
       "      <th>Weather</th>\n",
       "    </tr>\n",
       "    <tr>\n",
       "      <th>Created_Date</th>\n",
       "      <th></th>\n",
       "      <th></th>\n",
       "      <th></th>\n",
       "      <th></th>\n",
       "      <th></th>\n",
       "      <th></th>\n",
       "      <th></th>\n",
       "      <th></th>\n",
       "    </tr>\n",
       "  </thead>\n",
       "  <tbody>\n",
       "    <tr>\n",
       "      <th>2014-01-01</th>\n",
       "      <td>1512</td>\n",
       "      <td>388</td>\n",
       "      <td>155</td>\n",
       "      <td>336</td>\n",
       "      <td>139</td>\n",
       "      <td>303</td>\n",
       "      <td>34</td>\n",
       "      <td>Sunny</td>\n",
       "    </tr>\n",
       "    <tr>\n",
       "      <th>2014-01-02</th>\n",
       "      <td>3236</td>\n",
       "      <td>921</td>\n",
       "      <td>263</td>\n",
       "      <td>360</td>\n",
       "      <td>315</td>\n",
       "      <td>320</td>\n",
       "      <td>33</td>\n",
       "      <td>Snow</td>\n",
       "    </tr>\n",
       "    <tr>\n",
       "      <th>2014-01-03</th>\n",
       "      <td>3712</td>\n",
       "      <td>624</td>\n",
       "      <td>235</td>\n",
       "      <td>306</td>\n",
       "      <td>240</td>\n",
       "      <td>516</td>\n",
       "      <td>19</td>\n",
       "      <td>Fog-Snow</td>\n",
       "    </tr>\n",
       "    <tr>\n",
       "      <th>2014-01-04</th>\n",
       "      <td>4347</td>\n",
       "      <td>489</td>\n",
       "      <td>154</td>\n",
       "      <td>375</td>\n",
       "      <td>130</td>\n",
       "      <td>1188</td>\n",
       "      <td>31</td>\n",
       "      <td>Sunny</td>\n",
       "    </tr>\n",
       "    <tr>\n",
       "      <th>2014-01-05</th>\n",
       "      <td>2529</td>\n",
       "      <td>500</td>\n",
       "      <td>169</td>\n",
       "      <td>361</td>\n",
       "      <td>206</td>\n",
       "      <td>1022</td>\n",
       "      <td>49</td>\n",
       "      <td>Fog-Rain</td>\n",
       "    </tr>\n",
       "  </tbody>\n",
       "</table>\n",
       "</div>"
      ],
      "text/plain": [
       "              Building_Conditions  General_Request  Living_Conditions  \\\n",
       "Created_Date                                                            \n",
       "2014-01-01                   1512              388                155   \n",
       "2014-01-02                   3236              921                263   \n",
       "2014-01-03                   3712              624                235   \n",
       "2014-01-04                   4347              489                154   \n",
       "2014-01-05                   2529              500                169   \n",
       "\n",
       "              Parking_Enforcement  Signal_Sign_Repair  Street_Sidewalk_Repair  \\\n",
       "Created_Date                                                                    \n",
       "2014-01-01                    336                 139                     303   \n",
       "2014-01-02                    360                 315                     320   \n",
       "2014-01-03                    306                 240                     516   \n",
       "2014-01-04                    375                 130                    1188   \n",
       "2014-01-05                    361                 206                    1022   \n",
       "\n",
       "              Max_TempF   Weather  \n",
       "Created_Date                       \n",
       "2014-01-01           34     Sunny  \n",
       "2014-01-02           33      Snow  \n",
       "2014-01-03           19  Fog-Snow  \n",
       "2014-01-04           31     Sunny  \n",
       "2014-01-05           49  Fog-Rain  "
      ]
     },
     "execution_count": 21,
     "metadata": {},
     "output_type": "execute_result"
    }
   ],
   "source": [
    "df_2014_final.head()"
   ]
  },
  {
   "cell_type": "code",
   "execution_count": 23,
   "metadata": {
    "collapsed": true
   },
   "outputs": [],
   "source": [
    "df_2016.to_csv('2016_df.csv', index = False)\n",
    "df_2015_final.to_csv('2015_df.csv')\n",
    "df_2014_final.to_csv('2014_df.csv')"
   ]
  },
  {
   "cell_type": "code",
   "execution_count": 53,
   "metadata": {
    "collapsed": true
   },
   "outputs": [],
   "source": [
    "#df_2014 = df[:365].join(df_weather_2014)\n",
    "#df_2015 = df[365:].join(df_weather_2015)\n",
    "#df_2016 = df_2016.join(df_weather_2016)"
   ]
  },
  {
   "cell_type": "code",
   "execution_count": 106,
   "metadata": {
    "collapsed": false
   },
   "outputs": [
    {
     "data": {
      "text/html": [
       "<div>\n",
       "<table border=\"1\" class=\"dataframe\">\n",
       "  <thead>\n",
       "    <tr style=\"text-align: right;\">\n",
       "      <th></th>\n",
       "      <th>Created_Date</th>\n",
       "      <th>Buiding_Conditions</th>\n",
       "      <th>General_Request</th>\n",
       "      <th>Living_Conditions</th>\n",
       "      <th>Parking_Enforcement</th>\n",
       "      <th>Signal_Sign_Repair</th>\n",
       "      <th>Street_Sidewalk_Repair</th>\n",
       "      <th>Max_TempF</th>\n",
       "      <th>Weather</th>\n",
       "    </tr>\n",
       "  </thead>\n",
       "  <tbody>\n",
       "    <tr>\n",
       "      <th>0</th>\n",
       "      <td>2016-01-01</td>\n",
       "      <td>-</td>\n",
       "      <td>-</td>\n",
       "      <td>-</td>\n",
       "      <td>-</td>\n",
       "      <td>-</td>\n",
       "      <td>-</td>\n",
       "      <td>42°</td>\n",
       "      <td>-</td>\n",
       "    </tr>\n",
       "    <tr>\n",
       "      <th>1</th>\n",
       "      <td>2016-01-02</td>\n",
       "      <td>-</td>\n",
       "      <td>-</td>\n",
       "      <td>-</td>\n",
       "      <td>-</td>\n",
       "      <td>-</td>\n",
       "      <td>-</td>\n",
       "      <td>40°</td>\n",
       "      <td>-</td>\n",
       "    </tr>\n",
       "    <tr>\n",
       "      <th>2</th>\n",
       "      <td>2016-01-03</td>\n",
       "      <td>-</td>\n",
       "      <td>-</td>\n",
       "      <td>-</td>\n",
       "      <td>-</td>\n",
       "      <td>-</td>\n",
       "      <td>-</td>\n",
       "      <td>45°</td>\n",
       "      <td>-</td>\n",
       "    </tr>\n",
       "    <tr>\n",
       "      <th>3</th>\n",
       "      <td>2016-01-04</td>\n",
       "      <td>-</td>\n",
       "      <td>-</td>\n",
       "      <td>-</td>\n",
       "      <td>-</td>\n",
       "      <td>-</td>\n",
       "      <td>-</td>\n",
       "      <td>36°</td>\n",
       "      <td>-</td>\n",
       "    </tr>\n",
       "    <tr>\n",
       "      <th>4</th>\n",
       "      <td>2016-01-05</td>\n",
       "      <td>-</td>\n",
       "      <td>-</td>\n",
       "      <td>-</td>\n",
       "      <td>-</td>\n",
       "      <td>-</td>\n",
       "      <td>-</td>\n",
       "      <td>29°</td>\n",
       "      <td>-</td>\n",
       "    </tr>\n",
       "  </tbody>\n",
       "</table>\n",
       "</div>"
      ],
      "text/plain": [
       "  Created_Date Buiding_Conditions General_Request Living_Conditions  \\\n",
       "0   2016-01-01                  -               -                 -   \n",
       "1   2016-01-02                  -               -                 -   \n",
       "2   2016-01-03                  -               -                 -   \n",
       "3   2016-01-04                  -               -                 -   \n",
       "4   2016-01-05                  -               -                 -   \n",
       "\n",
       "  Parking_Enforcement Signal_Sign_Repair Street_Sidewalk_Repair Max_TempF  \\\n",
       "0                   -                  -                      -       42°   \n",
       "1                   -                  -                      -       40°   \n",
       "2                   -                  -                      -       45°   \n",
       "3                   -                  -                      -       36°   \n",
       "4                   -                  -                      -       29°   \n",
       "\n",
       "  Weather  \n",
       "0       -  \n",
       "1       -  \n",
       "2       -  \n",
       "3       -  \n",
       "4       -  "
      ]
     },
     "execution_count": 106,
     "metadata": {},
     "output_type": "execute_result"
    }
   ],
   "source": [
    "df_2016.head()"
   ]
  },
  {
   "cell_type": "code",
   "execution_count": 107,
   "metadata": {
    "collapsed": false
   },
   "outputs": [],
   "source": [
    "df_2014_final.columns = ['Building_Conditions', 'General_Request', 'Living_Conditions', 'Parking_Enforcement', 'Signal_Sign_Repair', 'Street_Sidewalk_Repair', 'Max_TempF', 'Weather']\n",
    "df_2015_final.columns = ['Building_Conditions', 'General_Request', 'Living_Conditions', 'Parking_Enforcement', 'Signal_Sign_Repair', 'Street_Sidewalk_Repair', 'Max_TempF', 'Weather']\n",
    "df_2016.columns = ['Created_Date', 'Building_Conditions', 'General_Request', 'Living_Conditions', 'Parking_Enforcement', 'Signal_Sign_Repair', 'Street_Sidewalk_Repair', 'Max_TempF', 'Weather']"
   ]
  },
  {
   "cell_type": "code",
   "execution_count": 108,
   "metadata": {
    "collapsed": true
   },
   "outputs": [],
   "source": [
    "encode = preprocessing.LabelEncoder()"
   ]
  },
  {
   "cell_type": "code",
   "execution_count": 109,
   "metadata": {
    "collapsed": false
   },
   "outputs": [
    {
     "data": {
      "text/plain": [
       "LabelEncoder()"
      ]
     },
     "execution_count": 109,
     "metadata": {},
     "output_type": "execute_result"
    }
   ],
   "source": [
    "encode.fit(df_2014_final['Weather'])"
   ]
  },
  {
   "cell_type": "code",
   "execution_count": 110,
   "metadata": {
    "collapsed": true
   },
   "outputs": [],
   "source": [
    "df_2014_final['Weather'] = encode.transform(df_2014_final['Weather'])"
   ]
  },
  {
   "cell_type": "code",
   "execution_count": 111,
   "metadata": {
    "collapsed": false
   },
   "outputs": [
    {
     "data": {
      "text/plain": [
       "LabelEncoder()"
      ]
     },
     "execution_count": 111,
     "metadata": {},
     "output_type": "execute_result"
    }
   ],
   "source": [
    "encode.fit(df_2015_final['Weather'])"
   ]
  },
  {
   "cell_type": "code",
   "execution_count": 112,
   "metadata": {
    "collapsed": true
   },
   "outputs": [],
   "source": [
    "df_2015_final['Weather'] = encode.transform(df_2015_final['Weather'])"
   ]
  },
  {
   "cell_type": "code",
   "execution_count": 113,
   "metadata": {
    "collapsed": true
   },
   "outputs": [],
   "source": [
    "df_2016['Max_TempF'] = df_2016['Max_TempF'].str.replace('°', '')\n",
    "#df_2016.Max_TempF = pd.to_numeric(df_2016.Max_TempF)"
   ]
  },
  {
   "cell_type": "code",
   "execution_count": 114,
   "metadata": {
    "collapsed": false
   },
   "outputs": [
    {
     "data": {
      "text/html": [
       "<div>\n",
       "<table border=\"1\" class=\"dataframe\">\n",
       "  <thead>\n",
       "    <tr style=\"text-align: right;\">\n",
       "      <th></th>\n",
       "      <th>Building_Conditions</th>\n",
       "      <th>General_Request</th>\n",
       "      <th>Living_Conditions</th>\n",
       "      <th>Parking_Enforcement</th>\n",
       "      <th>Signal_Sign_Repair</th>\n",
       "      <th>Street_Sidewalk_Repair</th>\n",
       "      <th>Max_TempF</th>\n",
       "      <th>Weather</th>\n",
       "    </tr>\n",
       "    <tr>\n",
       "      <th>Created_Date</th>\n",
       "      <th></th>\n",
       "      <th></th>\n",
       "      <th></th>\n",
       "      <th></th>\n",
       "      <th></th>\n",
       "      <th></th>\n",
       "      <th></th>\n",
       "      <th></th>\n",
       "    </tr>\n",
       "  </thead>\n",
       "  <tbody>\n",
       "    <tr>\n",
       "      <th>2014-12-27</th>\n",
       "      <td>1032</td>\n",
       "      <td>384</td>\n",
       "      <td>328</td>\n",
       "      <td>512</td>\n",
       "      <td>138</td>\n",
       "      <td>305</td>\n",
       "      <td>54</td>\n",
       "      <td>10</td>\n",
       "    </tr>\n",
       "    <tr>\n",
       "      <th>2014-12-28</th>\n",
       "      <td>1104</td>\n",
       "      <td>376</td>\n",
       "      <td>404</td>\n",
       "      <td>413</td>\n",
       "      <td>136</td>\n",
       "      <td>368</td>\n",
       "      <td>54</td>\n",
       "      <td>5</td>\n",
       "    </tr>\n",
       "    <tr>\n",
       "      <th>2014-12-29</th>\n",
       "      <td>2271</td>\n",
       "      <td>699</td>\n",
       "      <td>739</td>\n",
       "      <td>636</td>\n",
       "      <td>737</td>\n",
       "      <td>617</td>\n",
       "      <td>46</td>\n",
       "      <td>10</td>\n",
       "    </tr>\n",
       "    <tr>\n",
       "      <th>2014-12-30</th>\n",
       "      <td>2455</td>\n",
       "      <td>665</td>\n",
       "      <td>652</td>\n",
       "      <td>637</td>\n",
       "      <td>375</td>\n",
       "      <td>589</td>\n",
       "      <td>36</td>\n",
       "      <td>10</td>\n",
       "    </tr>\n",
       "    <tr>\n",
       "      <th>2014-12-31</th>\n",
       "      <td>1842</td>\n",
       "      <td>60</td>\n",
       "      <td>185</td>\n",
       "      <td>0</td>\n",
       "      <td>0</td>\n",
       "      <td>0</td>\n",
       "      <td>34</td>\n",
       "      <td>10</td>\n",
       "    </tr>\n",
       "  </tbody>\n",
       "</table>\n",
       "</div>"
      ],
      "text/plain": [
       "              Building_Conditions  General_Request  Living_Conditions  \\\n",
       "Created_Date                                                            \n",
       "2014-12-27                   1032              384                328   \n",
       "2014-12-28                   1104              376                404   \n",
       "2014-12-29                   2271              699                739   \n",
       "2014-12-30                   2455              665                652   \n",
       "2014-12-31                   1842               60                185   \n",
       "\n",
       "              Parking_Enforcement  Signal_Sign_Repair  Street_Sidewalk_Repair  \\\n",
       "Created_Date                                                                    \n",
       "2014-12-27                    512                 138                     305   \n",
       "2014-12-28                    413                 136                     368   \n",
       "2014-12-29                    636                 737                     617   \n",
       "2014-12-30                    637                 375                     589   \n",
       "2014-12-31                      0                   0                       0   \n",
       "\n",
       "              Max_TempF  Weather  \n",
       "Created_Date                      \n",
       "2014-12-27           54       10  \n",
       "2014-12-28           54        5  \n",
       "2014-12-29           46       10  \n",
       "2014-12-30           36       10  \n",
       "2014-12-31           34       10  "
      ]
     },
     "execution_count": 114,
     "metadata": {},
     "output_type": "execute_result"
    }
   ],
   "source": [
    "df_2014_final.tail()"
   ]
  },
  {
   "cell_type": "code",
   "execution_count": null,
   "metadata": {
    "collapsed": true
   },
   "outputs": [],
   "source": []
  },
  {
   "cell_type": "code",
   "execution_count": null,
   "metadata": {
    "collapsed": true
   },
   "outputs": [],
   "source": []
  },
  {
   "cell_type": "code",
   "execution_count": null,
   "metadata": {
    "collapsed": true
   },
   "outputs": [],
   "source": []
  },
  {
   "cell_type": "code",
   "execution_count": null,
   "metadata": {
    "collapsed": true
   },
   "outputs": [],
   "source": []
  },
  {
   "cell_type": "code",
   "execution_count": null,
   "metadata": {
    "collapsed": true
   },
   "outputs": [],
   "source": []
  },
  {
   "cell_type": "code",
   "execution_count": null,
   "metadata": {
    "collapsed": true
   },
   "outputs": [],
   "source": []
  },
  {
   "cell_type": "code",
   "execution_count": null,
   "metadata": {
    "collapsed": true
   },
   "outputs": [],
   "source": []
  },
  {
   "cell_type": "code",
   "execution_count": 372,
   "metadata": {
    "collapsed": true
   },
   "outputs": [],
   "source": [
    "X_2014 = df_2014_final.reset_index(drop=True)\n",
    "y_2014 = df_2014_final['Weather']\n",
    "X_2015 = df_2015_final.reset_index(drop=True)\n",
    "y_2015 = df_2015_final['Weather']"
   ]
  },
  {
   "cell_type": "code",
   "execution_count": 373,
   "metadata": {
    "collapsed": false
   },
   "outputs": [],
   "source": [
    "X_train = X_2014\n",
    "X_test = X_2015"
   ]
  },
  {
   "cell_type": "code",
   "execution_count": 374,
   "metadata": {
    "collapsed": false
   },
   "outputs": [],
   "source": [
    "y_train = y_2014.values\n",
    "y_test = y_2015.values"
   ]
  },
  {
   "cell_type": "code",
   "execution_count": 375,
   "metadata": {
    "collapsed": true
   },
   "outputs": [],
   "source": [
    "lr = LinearRegression()"
   ]
  },
  {
   "cell_type": "code",
   "execution_count": 376,
   "metadata": {
    "collapsed": false
   },
   "outputs": [
    {
     "data": {
      "text/plain": [
       "LinearRegression(copy_X=True, fit_intercept=True, n_jobs=1, normalize=False)"
      ]
     },
     "execution_count": 376,
     "metadata": {},
     "output_type": "execute_result"
    }
   ],
   "source": [
    "lr.fit(X_train, y_train)"
   ]
  }
 ],
 "metadata": {
  "kernelspec": {
   "display_name": "Python 2",
   "language": "python",
   "name": "python2"
  },
  "language_info": {
   "codemirror_mode": {
    "name": "ipython",
    "version": 2
   },
   "file_extension": ".py",
   "mimetype": "text/x-python",
   "name": "python",
   "nbconvert_exporter": "python",
   "pygments_lexer": "ipython2",
   "version": "2.7.9"
  }
 },
 "nbformat": 4,
 "nbformat_minor": 0
}
