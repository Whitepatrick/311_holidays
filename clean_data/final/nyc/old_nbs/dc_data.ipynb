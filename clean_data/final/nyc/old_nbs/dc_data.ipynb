{
 "cells": [
  {
   "cell_type": "code",
   "execution_count": 1,
   "metadata": {
    "collapsed": true
   },
   "outputs": [],
   "source": [
    "import pandas as pd\n",
    "import numpy as np"
   ]
  },
  {
   "cell_type": "code",
   "execution_count": 2,
   "metadata": {
    "collapsed": false
   },
   "outputs": [],
   "source": [
    "keepers = ['SERVICECODEDESCRIPTION', 'SERVICEORDERDATE', 'LATITUDE', 'LONGITUDE', 'ZIPCODE']"
   ]
  },
  {
   "cell_type": "code",
   "execution_count": 3,
   "metadata": {
    "collapsed": false
   },
   "outputs": [],
   "source": [
    "#df_raw = pd.read_csv('../../data_311/dc_311/dc_20150101_20150126.csv', low_memory=False, usecols=keepers, index_col=['SERVICEORDERDATE'], parse_dates=['SERVICEORDERDATE'])\n",
    "df1 = pd.read_csv('../../data_311/dc_311/dc_20150101_20150126.csv', low_memory=False, usecols=keepers, index_col=['SERVICEORDERDATE'], parse_dates=['SERVICEORDERDATE'])\n",
    "df2 = pd.read_csv('../../data_311/dc_311/dc_20150126_20150223.csv', low_memory=False, usecols=keepers, index_col=['SERVICEORDERDATE'], parse_dates=['SERVICEORDERDATE'])\n",
    "df3 = pd.read_csv('../../data_311/dc_311/dc_20150223_20150316.csv', low_memory=False, usecols=keepers, index_col=['SERVICEORDERDATE'], parse_dates=['SERVICEORDERDATE'])\n",
    "df4 = pd.read_csv('../../data_311/dc_311/dc_20150316_20150402.csv', low_memory=False, usecols=keepers, index_col=['SERVICEORDERDATE'], parse_dates=['SERVICEORDERDATE'])\n",
    "df5 = pd.read_csv('../../data_311/dc_311/dc_20150402_20150423.csv', low_memory=False, usecols=keepers, index_col=['SERVICEORDERDATE'], parse_dates=['SERVICEORDERDATE'])\n",
    "df6 = pd.read_csv('../../data_311/dc_311/dc_20150423_20150513.csv', low_memory=False, usecols=keepers, index_col=['SERVICEORDERDATE'], parse_dates=['SERVICEORDERDATE'])\n",
    "df7 = pd.read_csv('../../data_311/dc_311/dc_20150513_20150604.csv', low_memory=False, usecols=keepers, index_col=['SERVICEORDERDATE'], parse_dates=['SERVICEORDERDATE'])"
   ]
  },
  {
   "cell_type": "code",
   "execution_count": 4,
   "metadata": {
    "collapsed": false
   },
   "outputs": [],
   "source": [
    "df8 = pd.read_csv('../../data_311/dc_311/dc_20150604_20150624.csv', low_memory=False, usecols=keepers, index_col=['SERVICEORDERDATE'], parse_dates=['SERVICEORDERDATE'])\n",
    "df9 = pd.read_csv('../../data_311/dc_311/dc_20150624_20150715.csv', low_memory=False, usecols=keepers, index_col=['SERVICEORDERDATE'], parse_dates=['SERVICEORDERDATE'])\n",
    "df10 = pd.read_csv('../../data_311/dc_311/dc_20150715_20150801.csv', low_memory=False, usecols=keepers, index_col=['SERVICEORDERDATE'], parse_dates=['SERVICEORDERDATE'])\n",
    "df11 = pd.read_csv('../../data_311/dc_311/dc_20150801_20150814.csv', low_memory=False, usecols=keepers, index_col=['SERVICEORDERDATE'], parse_dates=['SERVICEORDERDATE'])\n",
    "df12 = pd.read_csv('../../data_311/dc_311/dc_20150814_20150829.csv', low_memory=False, usecols=keepers, index_col=['SERVICEORDERDATE'], parse_dates=['SERVICEORDERDATE'])\n",
    "df13 = pd.read_csv('../../data_311/dc_311/dc_20150829_20150917.csv', low_memory=False, usecols=keepers, index_col=['SERVICEORDERDATE'], parse_dates=['SERVICEORDERDATE'])\n",
    "df14 = pd.read_csv('../../data_311/dc_311/dc_20150917_20151010.csv', low_memory=False, usecols=keepers, index_col=['SERVICEORDERDATE'], parse_dates=['SERVICEORDERDATE'])"
   ]
  },
  {
   "cell_type": "code",
   "execution_count": 5,
   "metadata": {
    "collapsed": false
   },
   "outputs": [],
   "source": [
    "df15 = pd.read_csv('../../data_311/dc_311/dc_20151010_20151105.csv', low_memory=False, usecols=keepers, index_col=['SERVICEORDERDATE'], parse_dates=['SERVICEORDERDATE'])\n",
    "df16 = pd.read_csv('../../data_311/dc_311/dc_20151105_20151204.csv', low_memory=False, usecols=keepers, index_col=['SERVICEORDERDATE'], parse_dates=['SERVICEORDERDATE'])\n",
    "df17 = pd.read_csv('../../data_311/dc_311/dc_20151204_20151231.csv', low_memory=False, usecols=keepers, index_col=['SERVICEORDERDATE'], parse_dates=['SERVICEORDERDATE'])\n",
    "df18 = pd.read_csv('../../data_311/dc_311/dc_20151231_20151231.csv', low_memory=False, usecols=keepers, index_col=['SERVICEORDERDATE'], parse_dates=['SERVICEORDERDATE'])"
   ]
  },
  {
   "cell_type": "code",
   "execution_count": 6,
   "metadata": {
    "collapsed": false
   },
   "outputs": [
    {
     "data": {
      "text/plain": [
       "Index([u'SERVICECODEDESCRIPTION', u'LATITUDE', u'LONGITUDE', u'ZIPCODE'], dtype='object')"
      ]
     },
     "execution_count": 6,
     "metadata": {},
     "output_type": "execute_result"
    }
   ],
   "source": [
    "df1.keys()"
   ]
  },
  {
   "cell_type": "code",
   "execution_count": 7,
   "metadata": {
    "collapsed": true
   },
   "outputs": [],
   "source": [
    "ser = pd.Series(df1['SERVICECODEDESCRIPTION'])"
   ]
  },
  {
   "cell_type": "code",
   "execution_count": 8,
   "metadata": {
    "collapsed": false
   },
   "outputs": [
    {
     "data": {
      "text/plain": [
       "Parking Meter Repair                      4809\n",
       "Bulk Collection                           2345\n",
       "Parking Enforcement                       1410\n",
       "Recycling Collection - Missed             1275\n",
       "Trash Collection - Missed                 1212\n",
       "Snow/Ice Removal                           678\n",
       "Streetlight Repair Investigation           676\n",
       "Pothole                                    651\n",
       "Alley Cleaning                             458\n",
       "Emergency No-Parking Verification          387\n",
       "Sanitation Enforcement                     367\n",
       "Street Cleaning                            297\n",
       "Illegal Dumping                            278\n",
       "Residential Parking Permit Violation       258\n",
       "DMV - Driver's License/ID Issues           243\n",
       "Abandoned Vehicle - On Public Property     235\n",
       "DMV - Vehicle Registration Issues          214\n",
       "Tree Planting                              210\n",
       "Alleylight Repair Investigation            208\n",
       "Christmas Tree Removal - Seasonal          188\n",
       "TRU Report                                 184\n",
       "Tree Pruning                               182\n",
       "Graffiti Removal                           181\n",
       "Out of State Parking Violation (ROSA)      163\n",
       "Sidewalk Repair                            154\n",
       "CFSA Missing/Absconded                     152\n",
       "Sign Replacement                           146\n",
       "Dead Animal Pickup                         129\n",
       "Traffic Signal Maintenance                 127\n",
       "Street Repair                              127\n",
       "Placement Violations                       117\n",
       "Name: SERVICECODEDESCRIPTION, dtype: int64"
      ]
     },
     "execution_count": 8,
     "metadata": {},
     "output_type": "execute_result"
    }
   ],
   "source": [
    "ser.value_counts()[0:31]"
   ]
  },
  {
   "cell_type": "code",
   "execution_count": 20,
   "metadata": {
    "collapsed": true
   },
   "outputs": [],
   "source": [
    "df1.to_csv(\"DC_2015_1.csv\", date_format='%Y-%m-%d')\n",
    "df2.to_csv(\"DC_2015_2.csv\", date_format='%Y-%m-%d')\n",
    "df3.to_csv(\"DC_2015_3.csv\", date_format='%Y-%m-%d')\n",
    "df4.to_csv(\"DC_2015_4.csv\", date_format='%Y-%m-%d')\n",
    "df5.to_csv(\"DC_2015_5.csv\", date_format='%Y-%m-%d')\n",
    "df6.to_csv(\"DC_2015_6.csv\", date_format='%Y-%m-%d')\n",
    "df7.to_csv(\"DC_2015_7.csv\", date_format='%Y-%m-%d')"
   ]
  },
  {
   "cell_type": "code",
   "execution_count": 21,
   "metadata": {
    "collapsed": true
   },
   "outputs": [],
   "source": [
    "df8.to_csv(\"DC_2015_8.csv\", date_format='%Y-%m-%d')\n",
    "df9.to_csv(\"DC_2015_9.csv\", date_format='%Y-%m-%d')\n",
    "df10.to_csv(\"DC_2015_10.csv\", date_format='%Y-%m-%d')\n",
    "df11.to_csv(\"DC_2015_11.csv\", date_format='%Y-%m-%d')\n",
    "df12.to_csv(\"DC_2015_12.csv\", date_format='%Y-%m-%d')\n",
    "df13.to_csv(\"DC_2015_13.csv\", date_format='%Y-%m-%d')\n",
    "df14.to_csv(\"DC_2015_14.csv\", date_format='%Y-%m-%d')"
   ]
  },
  {
   "cell_type": "code",
   "execution_count": 22,
   "metadata": {
    "collapsed": true
   },
   "outputs": [],
   "source": [
    "df15.to_csv(\"DC_2015_15.csv\", date_format='%Y-%m-%d')\n",
    "df16.to_csv(\"DC_2015_16.csv\", date_format='%Y-%m-%d')\n",
    "df17.to_csv(\"DC_2015_17.csv\", date_format='%Y-%m-%d')\n",
    "df18.to_csv(\"DC_2015_18.csv\", date_format='%Y-%m-%d')"
   ]
  },
  {
   "cell_type": "code",
   "execution_count": null,
   "metadata": {
    "collapsed": true
   },
   "outputs": [],
   "source": [
    "df_from_new = pd.read_csv(\"DC_2015_1.csv\", low_memory=False, usecols=keepers, parse_dates=['SERVICEORDERDATE'])\n",
    "df_from_new.head()"
   ]
  },
  {
   "cell_type": "code",
   "execution_count": 23,
   "metadata": {
    "collapsed": false
   },
   "outputs": [
    {
     "data": {
      "text/html": [
       "<div>\n",
       "<table border=\"1\" class=\"dataframe\">\n",
       "  <thead>\n",
       "    <tr style=\"text-align: right;\">\n",
       "      <th></th>\n",
       "      <th>SERVICECODEDESCRIPTION</th>\n",
       "      <th>LATITUDE</th>\n",
       "      <th>LONGITUDE</th>\n",
       "      <th>ZIPCODE</th>\n",
       "    </tr>\n",
       "    <tr>\n",
       "      <th>SERVICEORDERDATE</th>\n",
       "      <th></th>\n",
       "      <th></th>\n",
       "      <th></th>\n",
       "      <th></th>\n",
       "    </tr>\n",
       "  </thead>\n",
       "  <tbody>\n",
       "    <tr>\n",
       "      <th>2015-01-01</th>\n",
       "      <td>Marking Modification</td>\n",
       "      <td>38.902023</td>\n",
       "      <td>-77.039683</td>\n",
       "      <td>20006</td>\n",
       "    </tr>\n",
       "    <tr>\n",
       "      <th>2015-01-01</th>\n",
       "      <td>Traffic Calming</td>\n",
       "      <td>NaN</td>\n",
       "      <td>NaN</td>\n",
       "      <td>NaN</td>\n",
       "    </tr>\n",
       "    <tr>\n",
       "      <th>2015-01-01</th>\n",
       "      <td>Parking Enforcement</td>\n",
       "      <td>38.901038</td>\n",
       "      <td>-77.020378</td>\n",
       "      <td>20001</td>\n",
       "    </tr>\n",
       "    <tr>\n",
       "      <th>2015-01-01</th>\n",
       "      <td>TRU Report</td>\n",
       "      <td>38.895390</td>\n",
       "      <td>-77.010684</td>\n",
       "      <td>20001</td>\n",
       "    </tr>\n",
       "    <tr>\n",
       "      <th>2015-01-01</th>\n",
       "      <td>Bulk Collection</td>\n",
       "      <td>38.852806</td>\n",
       "      <td>-76.970417</td>\n",
       "      <td>20020</td>\n",
       "    </tr>\n",
       "  </tbody>\n",
       "</table>\n",
       "</div>"
      ],
      "text/plain": [
       "                 SERVICECODEDESCRIPTION   LATITUDE  LONGITUDE  ZIPCODE\n",
       "SERVICEORDERDATE                                                      \n",
       "2015-01-01         Marking Modification  38.902023 -77.039683    20006\n",
       "2015-01-01              Traffic Calming        NaN        NaN      NaN\n",
       "2015-01-01          Parking Enforcement  38.901038 -77.020378    20001\n",
       "2015-01-01                   TRU Report  38.895390 -77.010684    20001\n",
       "2015-01-01              Bulk Collection  38.852806 -76.970417    20020"
      ]
     },
     "execution_count": 23,
     "metadata": {},
     "output_type": "execute_result"
    }
   ],
   "source": [
    "df_from_new = pd.read_csv(\"DC_2015_1.csv\", low_memory=False, usecols=keepers, index_col=['SERVICEORDERDATE'], parse_dates=['SERVICEORDERDATE'])\n",
    "df_from_new.head()"
   ]
  },
  {
   "cell_type": "code",
   "execution_count": 25,
   "metadata": {
    "collapsed": false
   },
   "outputs": [
    {
     "data": {
      "text/plain": [
       "117"
      ]
     },
     "execution_count": 25,
     "metadata": {},
     "output_type": "execute_result"
    }
   ],
   "source": [
    "len(pd.unique(df_from_new.SERVICECODEDESCRIPTION.ravel()))"
   ]
  },
  {
   "cell_type": "code",
   "execution_count": null,
   "metadata": {
    "collapsed": true
   },
   "outputs": [],
   "source": []
  }
 ],
 "metadata": {
  "kernelspec": {
   "display_name": "Python 2",
   "language": "python",
   "name": "python2"
  },
  "language_info": {
   "codemirror_mode": {
    "name": "ipython",
    "version": 2
   },
   "file_extension": ".py",
   "mimetype": "text/x-python",
   "name": "python",
   "nbconvert_exporter": "python",
   "pygments_lexer": "ipython2",
   "version": "2.7.11"
  }
 },
 "nbformat": 4,
 "nbformat_minor": 0
}
