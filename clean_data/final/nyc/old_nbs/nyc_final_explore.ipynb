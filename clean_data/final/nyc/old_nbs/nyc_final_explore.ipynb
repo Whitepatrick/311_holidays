{
 "cells": [
  {
   "cell_type": "code",
   "execution_count": 36,
   "metadata": {
    "collapsed": false
   },
   "outputs": [],
   "source": [
    "import numpy as np\n",
    "import pandas as pd \n",
    "import seaborn\n",
    "import matplotlib.pyplot as plt \n",
    "import matplotlib.dates as dates\n",
    "%matplotlib inline"
   ]
  },
  {
   "cell_type": "code",
   "execution_count": 37,
   "metadata": {
    "collapsed": false
   },
   "outputs": [
    {
     "data": {
      "text/html": [
       "<div>\n",
       "<table border=\"1\" class=\"dataframe\">\n",
       "  <thead>\n",
       "    <tr style=\"text-align: right;\">\n",
       "      <th></th>\n",
       "      <th>Created_Date</th>\n",
       "      <th>Complaint_Type</th>\n",
       "      <th>Borough</th>\n",
       "      <th>Location</th>\n",
       "    </tr>\n",
       "  </thead>\n",
       "  <tbody>\n",
       "    <tr>\n",
       "      <th>0</th>\n",
       "      <td>2014-06-30</td>\n",
       "      <td>Building Conditions</td>\n",
       "      <td>BRONX</td>\n",
       "      <td>(40.87016285040958, -73.88879970718)</td>\n",
       "    </tr>\n",
       "    <tr>\n",
       "      <th>1</th>\n",
       "      <td>2014-06-30</td>\n",
       "      <td>Building Conditions</td>\n",
       "      <td>BROOKLYN</td>\n",
       "      <td>(40.64314961982049, -73.95046073917715)</td>\n",
       "    </tr>\n",
       "    <tr>\n",
       "      <th>2</th>\n",
       "      <td>2014-06-30</td>\n",
       "      <td>Building Conditions</td>\n",
       "      <td>BROOKLYN</td>\n",
       "      <td>(40.64507250981882, -73.87864906383643)</td>\n",
       "    </tr>\n",
       "    <tr>\n",
       "      <th>3</th>\n",
       "      <td>2014-06-30</td>\n",
       "      <td>Building Conditions</td>\n",
       "      <td>MANHATTAN</td>\n",
       "      <td>(40.86334391631684, -73.92915076102932)</td>\n",
       "    </tr>\n",
       "    <tr>\n",
       "      <th>4</th>\n",
       "      <td>2014-06-30</td>\n",
       "      <td>Building Conditions</td>\n",
       "      <td>BROOKLYN</td>\n",
       "      <td>(40.64393283892149, -73.95273031361069)</td>\n",
       "    </tr>\n",
       "  </tbody>\n",
       "</table>\n",
       "</div>"
      ],
      "text/plain": [
       "  Created_Date       Complaint_Type    Borough  \\\n",
       "0   2014-06-30  Building Conditions      BRONX   \n",
       "1   2014-06-30  Building Conditions   BROOKLYN   \n",
       "2   2014-06-30  Building Conditions   BROOKLYN   \n",
       "3   2014-06-30  Building Conditions  MANHATTAN   \n",
       "4   2014-06-30  Building Conditions   BROOKLYN   \n",
       "\n",
       "                                  Location  \n",
       "0     (40.87016285040958, -73.88879970718)  \n",
       "1  (40.64314961982049, -73.95046073917715)  \n",
       "2  (40.64507250981882, -73.87864906383643)  \n",
       "3  (40.86334391631684, -73.92915076102932)  \n",
       "4  (40.64393283892149, -73.95273031361069)  "
      ]
     },
     "execution_count": 37,
     "metadata": {},
     "output_type": "execute_result"
    }
   ],
   "source": [
    "df = pd.read_csv('NYC.csv', parse_dates=['Created_Date'])\n",
    "df.head()"
   ]
  },
  {
   "cell_type": "code",
   "execution_count": 38,
   "metadata": {
    "collapsed": false
   },
   "outputs": [],
   "source": [
    "df.ix[df.Complaint_Type.isin(['General Request or Complaint']), 'Complaint_Type'] = 1\n",
    "df.ix[df.Complaint_Type.isin(['Signal/Sign Repair']), 'Complaint_Type'] = 2\n",
    "df.ix[df.Complaint_Type.isin(['Parking Enforcement']), 'Complaint_Type'] = 3\n",
    "df.ix[df.Complaint_Type.isin(['Building Conditions']), 'Complaint_Type'] = 4\n",
    "df.ix[df.Complaint_Type.isin(['Living Conditions']), 'Complaint_Type'] = 5\n",
    "df.ix[df.Complaint_Type.isin(['Street/Sidewalk Maintenance']), 'Complaint_Type'] = 6"
   ]
  },
  {
   "cell_type": "code",
   "execution_count": 39,
   "metadata": {
    "collapsed": false
   },
   "outputs": [],
   "source": [
    "df.index = df['Created_Date']"
   ]
  },
  {
   "cell_type": "code",
   "execution_count": 40,
   "metadata": {
    "collapsed": false
   },
   "outputs": [],
   "source": [
    "df = df[['Complaint_Type', 'Location']]"
   ]
  },
  {
   "cell_type": "code",
   "execution_count": 41,
   "metadata": {
    "collapsed": false
   },
   "outputs": [
    {
     "data": {
      "text/html": [
       "<div>\n",
       "<table border=\"1\" class=\"dataframe\">\n",
       "  <thead>\n",
       "    <tr style=\"text-align: right;\">\n",
       "      <th></th>\n",
       "      <th>Complaint_Type</th>\n",
       "      <th>Location</th>\n",
       "    </tr>\n",
       "    <tr>\n",
       "      <th>Created_Date</th>\n",
       "      <th></th>\n",
       "      <th></th>\n",
       "    </tr>\n",
       "  </thead>\n",
       "  <tbody>\n",
       "    <tr>\n",
       "      <th>2014-06-30</th>\n",
       "      <td>4</td>\n",
       "      <td>(40.87016285040958, -73.88879970718)</td>\n",
       "    </tr>\n",
       "  </tbody>\n",
       "</table>\n",
       "</div>"
      ],
      "text/plain": [
       "             Complaint_Type                              Location\n",
       "Created_Date                                                     \n",
       "2014-06-30                4  (40.87016285040958, -73.88879970718)"
      ]
     },
     "execution_count": 41,
     "metadata": {},
     "output_type": "execute_result"
    }
   ],
   "source": [
    "df[0:1]"
   ]
  },
  {
   "cell_type": "code",
   "execution_count": 67,
   "metadata": {
    "collapsed": false
   },
   "outputs": [
    {
     "data": {
      "text/html": [
       "<div>\n",
       "<table border=\"1\" class=\"dataframe\">\n",
       "  <thead>\n",
       "    <tr style=\"text-align: right;\">\n",
       "      <th></th>\n",
       "      <th>Complaint_Type</th>\n",
       "      <th>Location</th>\n",
       "    </tr>\n",
       "    <tr>\n",
       "      <th>Created_Date</th>\n",
       "      <th></th>\n",
       "      <th></th>\n",
       "    </tr>\n",
       "  </thead>\n",
       "  <tbody>\n",
       "    <tr>\n",
       "      <th>2014-12-28</th>\n",
       "      <td>3</td>\n",
       "      <td>(40.64323713443356, -74.0014918009738)</td>\n",
       "    </tr>\n",
       "    <tr>\n",
       "      <th>2014-12-28</th>\n",
       "      <td>3</td>\n",
       "      <td>(40.59327024687549, -74.07216138897499)</td>\n",
       "    </tr>\n",
       "    <tr>\n",
       "      <th>2014-12-28</th>\n",
       "      <td>6</td>\n",
       "      <td>NaN</td>\n",
       "    </tr>\n",
       "    <tr>\n",
       "      <th>2014-12-28</th>\n",
       "      <td>3</td>\n",
       "      <td>(40.6279210049661, -74.07977143199443)</td>\n",
       "    </tr>\n",
       "    <tr>\n",
       "      <th>2014-12-28</th>\n",
       "      <td>3</td>\n",
       "      <td>(40.75154031020594, -73.81703293785144)</td>\n",
       "    </tr>\n",
       "    <tr>\n",
       "      <th>2014-12-28</th>\n",
       "      <td>6</td>\n",
       "      <td>(40.66223925205991, -73.99796350808431)</td>\n",
       "    </tr>\n",
       "  </tbody>\n",
       "</table>\n",
       "</div>"
      ],
      "text/plain": [
       "             Complaint_Type                                 Location\n",
       "Created_Date                                                        \n",
       "2014-12-28                3   (40.64323713443356, -74.0014918009738)\n",
       "2014-12-28                3  (40.59327024687549, -74.07216138897499)\n",
       "2014-12-28                6                                      NaN\n",
       "2014-12-28                3   (40.6279210049661, -74.07977143199443)\n",
       "2014-12-28                3  (40.75154031020594, -73.81703293785144)\n",
       "2014-12-28                6  (40.66223925205991, -73.99796350808431)"
      ]
     },
     "execution_count": 67,
     "metadata": {},
     "output_type": "execute_result"
    }
   ],
   "source": [
    "df[913499:913505]"
   ]
  },
  {
   "cell_type": "code",
   "execution_count": 145,
   "metadata": {
    "collapsed": false
   },
   "outputs": [],
   "source": [
    "X_2014 = df_2014.index\n",
    "y_2014 = df_2014['CASE_TITLE']"
   ]
  },
  {
   "cell_type": "code",
   "execution_count": 146,
   "metadata": {
    "collapsed": false
   },
   "outputs": [
    {
     "data": {
      "text/plain": [
       "[<matplotlib.lines.Line2D at 0x7fe260bca990>]"
      ]
     },
     "execution_count": 146,
     "metadata": {},
     "output_type": "execute_result"
    },
    {
     "data": {
      "image/png": "[encoded data removed]",
      "text/plain": [
       "<matplotlib.figure.Figure at 0x7fe260d66f90>"
      ]
     },
     "metadata": {},
     "output_type": "display_data"
    }
   ],
   "source": [
    "plt.plot(X_2014,y_2014)"
   ]
  },
  {
   "cell_type": "code",
   "execution_count": null,
   "metadata": {
    "collapsed": true
   },
   "outputs": [],
   "source": []
  }
 ],
 "metadata": {
  "kernelspec": {
   "display_name": "Python 2",
   "language": "python",
   "name": "python2"
  },
  "language_info": {
   "codemirror_mode": {
    "name": "ipython",
    "version": 2
   },
   "file_extension": ".py",
   "mimetype": "text/x-python",
   "name": "python",
   "nbconvert_exporter": "python",
   "pygments_lexer": "ipython2",
   "version": "2.7.11"
  }
 },
 "nbformat": 4,
 "nbformat_minor": 0
}
