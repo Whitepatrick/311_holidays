{
 "cells": [
  {
   "cell_type": "markdown",
   "metadata": {},
   "source": [
    "### How can I replace the 0 values in df_2014 with 1 or the ```df_holiday['Holday']``` value for the index matching the holiday's date?"
   ]
  },
  {
   "cell_type": "code",
   "execution_count": 21,
   "metadata": {
    "collapsed": true
   },
   "outputs": [],
   "source": [
    "import numpy as np\n",
    "import pandas as pd \n",
    "import seaborn\n",
    "from sklearn import metrics\n",
    "from sklearn.linear_model import LogisticRegression\n",
    "from sklearn.linear_model import LinearRegression\n",
    "import matplotlib.pyplot as plt \n",
    "import matplotlib.dates as dates\n",
    "import datetime\n",
    "from scipy import stats\n",
    "%matplotlib inline"
   ]
  },
  {
   "cell_type": "markdown",
   "metadata": {},
   "source": [
    "**Grab data from master NYC file, sort and group to show complaint amount by type for each day**"
   ]
  },
  {
   "cell_type": "code",
   "execution_count": 22,
   "metadata": {
    "collapsed": true
   },
   "outputs": [],
   "source": [
    "cols = ['Created_Date', 'Complaint_Type']\n",
    "df = pd.read_csv('NYC.csv', parse_dates=['Created_Date'], usecols=cols, index_col='Created_Date')\n",
    "df = pd.get_dummies(df.Complaint_Type)\n",
    "df = df.reset_index()\n",
    "df = df.groupby(df['Created_Date']).sum()\n",
    "df.reset_index().head()\n",
    "df = df.sort_index()"
   ]
  },
  {
   "cell_type": "markdown",
   "metadata": {},
   "source": [
    "**Read in weather data for the years being analyzed and index by date**"
   ]
  },
  {
   "cell_type": "code",
   "execution_count": 23,
   "metadata": {
    "collapsed": true
   },
   "outputs": [],
   "source": [
    "keepers = ['EST', 'Max TemperatureF', 'Events']\n",
    "df_weather_2014 = pd.read_csv('clean_2014_weather.csv', usecols=keepers, parse_dates='EST')\n",
    "df_weather_2015 = pd.read_csv('clean_2015_weather.csv', usecols=keepers, parse_dates='EST')\n",
    "df_weather_2014 = df_weather_2014.set_index('EST')\n",
    "df_weather_2015 = df_weather_2015.set_index('EST')"
   ]
  },
  {
   "cell_type": "markdown",
   "metadata": {},
   "source": [
    "**Join the weather event to the year's dataframe, initialize 'Holiday' column with 0 vals**"
   ]
  },
  {
   "cell_type": "code",
   "execution_count": 24,
   "metadata": {
    "collapsed": false
   },
   "outputs": [],
   "source": [
    "df_2014 = df[:365].join(df_weather_2014)\n",
    "df_2015 = df[365:].join(df_weather_2015)\n",
    "df_2014['Holiday'] = 0\n",
    "df_2015['Holiday'] = 0"
   ]
  },
  {
   "cell_type": "markdown",
   "metadata": {},
   "source": [
    "**Rename columns to better fit my screen**"
   ]
  },
  {
   "cell_type": "code",
   "execution_count": 25,
   "metadata": {
    "collapsed": false
   },
   "outputs": [],
   "source": [
    "df_2014.columns = ['Building Conditions', 'General Request', 'Living Conditions', 'Parking Enforcement', 'Signal/Sign Repair', 'Street/Sidewalk Repair', 'Max TempF', 'Weather', 'Holiday']\n",
    "df_2015.columns = ['Building Conditions', 'General Request', 'Living Conditions', 'Parking Enforcement', 'Signal/Sign Repair', 'Street/Sidewalk Repair', 'Max TempF', 'Weather', 'Holiday']"
   ]
  },
  {
   "cell_type": "markdown",
   "metadata": {},
   "source": [
    "**Read in holiday csv, contains holidays and dates for each year**"
   ]
  },
  {
   "cell_type": "code",
   "execution_count": 26,
   "metadata": {
    "collapsed": true
   },
   "outputs": [],
   "source": [
    "df_holidays = pd.read_csv('../../../holidays.csv', parse_dates=['2014_date', '2015_date'])"
   ]
  },
  {
   "cell_type": "code",
   "execution_count": 30,
   "metadata": {
    "collapsed": false
   },
   "outputs": [
    {
     "data": {
      "text/html": [
       "<div>\n",
       "<table border=\"1\" class=\"dataframe\">\n",
       "  <thead>\n",
       "    <tr style=\"text-align: right;\">\n",
       "      <th></th>\n",
       "      <th>Holiday</th>\n",
       "      <th>2014_date</th>\n",
       "      <th>2015_date</th>\n",
       "    </tr>\n",
       "  </thead>\n",
       "  <tbody>\n",
       "    <tr>\n",
       "      <th>0</th>\n",
       "      <td>New Year's Day</td>\n",
       "      <td>2014-01-01</td>\n",
       "      <td>2015-01-01</td>\n",
       "    </tr>\n",
       "    <tr>\n",
       "      <th>1</th>\n",
       "      <td>Martin Luther King Jr. Day</td>\n",
       "      <td>2014-01-20</td>\n",
       "      <td>2015-01-19</td>\n",
       "    </tr>\n",
       "    <tr>\n",
       "      <th>2</th>\n",
       "      <td>Superbowl Sunday</td>\n",
       "      <td>2014-02-02</td>\n",
       "      <td>2015-02-01</td>\n",
       "    </tr>\n",
       "    <tr>\n",
       "      <th>3</th>\n",
       "      <td>Valentine's Day</td>\n",
       "      <td>2014-02-14</td>\n",
       "      <td>2015-02-14</td>\n",
       "    </tr>\n",
       "    <tr>\n",
       "      <th>4</th>\n",
       "      <td>George Washington's Birthday</td>\n",
       "      <td>2014-02-17</td>\n",
       "      <td>2015-02-16</td>\n",
       "    </tr>\n",
       "    <tr>\n",
       "      <th>5</th>\n",
       "      <td>Easter</td>\n",
       "      <td>2014-04-20</td>\n",
       "      <td>2015-04-05</td>\n",
       "    </tr>\n",
       "    <tr>\n",
       "      <th>6</th>\n",
       "      <td>Mother's Day</td>\n",
       "      <td>2014-05-11</td>\n",
       "      <td>2015-05-10</td>\n",
       "    </tr>\n",
       "    <tr>\n",
       "      <th>7</th>\n",
       "      <td>Memorial Day</td>\n",
       "      <td>2014-05-26</td>\n",
       "      <td>2015-05-25</td>\n",
       "    </tr>\n",
       "    <tr>\n",
       "      <th>8</th>\n",
       "      <td>Father's Day</td>\n",
       "      <td>2014-06-15</td>\n",
       "      <td>2015-06-21</td>\n",
       "    </tr>\n",
       "    <tr>\n",
       "      <th>9</th>\n",
       "      <td>Independence Day</td>\n",
       "      <td>2014-07-04</td>\n",
       "      <td>2015-07-04</td>\n",
       "    </tr>\n",
       "    <tr>\n",
       "      <th>10</th>\n",
       "      <td>Labor Day</td>\n",
       "      <td>2014-09-01</td>\n",
       "      <td>2015-09-07</td>\n",
       "    </tr>\n",
       "    <tr>\n",
       "      <th>11</th>\n",
       "      <td>Columbus Day</td>\n",
       "      <td>2014-10-13</td>\n",
       "      <td>2015-10-12</td>\n",
       "    </tr>\n",
       "    <tr>\n",
       "      <th>12</th>\n",
       "      <td>Halloween</td>\n",
       "      <td>2014-10-31</td>\n",
       "      <td>2015-10-31</td>\n",
       "    </tr>\n",
       "    <tr>\n",
       "      <th>13</th>\n",
       "      <td>Veterans Day</td>\n",
       "      <td>2014-11-11</td>\n",
       "      <td>2015-11-11</td>\n",
       "    </tr>\n",
       "    <tr>\n",
       "      <th>14</th>\n",
       "      <td>Thanksgiving Day</td>\n",
       "      <td>2014-11-27</td>\n",
       "      <td>2015-11-26</td>\n",
       "    </tr>\n",
       "    <tr>\n",
       "      <th>15</th>\n",
       "      <td>Black Friday</td>\n",
       "      <td>2014-11-28</td>\n",
       "      <td>2015-11-27</td>\n",
       "    </tr>\n",
       "    <tr>\n",
       "      <th>16</th>\n",
       "      <td>Christmas Day</td>\n",
       "      <td>2014-12-25</td>\n",
       "      <td>2015-12-25</td>\n",
       "    </tr>\n",
       "  </tbody>\n",
       "</table>\n",
       "</div>"
      ],
      "text/plain": [
       "                         Holiday  2014_date  2015_date\n",
       "0                 New Year's Day 2014-01-01 2015-01-01\n",
       "1     Martin Luther King Jr. Day 2014-01-20 2015-01-19\n",
       "2               Superbowl Sunday 2014-02-02 2015-02-01\n",
       "3                Valentine's Day 2014-02-14 2015-02-14\n",
       "4   George Washington's Birthday 2014-02-17 2015-02-16\n",
       "5                         Easter 2014-04-20 2015-04-05\n",
       "6                   Mother's Day 2014-05-11 2015-05-10\n",
       "7                   Memorial Day 2014-05-26 2015-05-25\n",
       "8                   Father's Day 2014-06-15 2015-06-21\n",
       "9               Independence Day 2014-07-04 2015-07-04\n",
       "10                     Labor Day 2014-09-01 2015-09-07\n",
       "11                  Columbus Day 2014-10-13 2015-10-12\n",
       "12                     Halloween 2014-10-31 2015-10-31\n",
       "13                  Veterans Day 2014-11-11 2015-11-11\n",
       "14              Thanksgiving Day 2014-11-27 2015-11-26\n",
       "15                  Black Friday 2014-11-28 2015-11-27\n",
       "16                 Christmas Day 2014-12-25 2015-12-25"
      ]
     },
     "execution_count": 30,
     "metadata": {},
     "output_type": "execute_result"
    }
   ],
   "source": [
    "df_holidays"
   ]
  },
  {
   "cell_type": "code",
   "execution_count": 27,
   "metadata": {
    "collapsed": false
   },
   "outputs": [
    {
     "data": {
      "text/html": [
       "<div>\n",
       "<table border=\"1\" class=\"dataframe\">\n",
       "  <thead>\n",
       "    <tr style=\"text-align: right;\">\n",
       "      <th></th>\n",
       "      <th>Building Conditions</th>\n",
       "      <th>General Request</th>\n",
       "      <th>Living Conditions</th>\n",
       "      <th>Parking Enforcement</th>\n",
       "      <th>Signal/Sign Repair</th>\n",
       "      <th>Street/Sidewalk Repair</th>\n",
       "      <th>Max TempF</th>\n",
       "      <th>Weather</th>\n",
       "      <th>Holiday</th>\n",
       "    </tr>\n",
       "    <tr>\n",
       "      <th>Created_Date</th>\n",
       "      <th></th>\n",
       "      <th></th>\n",
       "      <th></th>\n",
       "      <th></th>\n",
       "      <th></th>\n",
       "      <th></th>\n",
       "      <th></th>\n",
       "      <th></th>\n",
       "      <th></th>\n",
       "    </tr>\n",
       "  </thead>\n",
       "  <tbody>\n",
       "    <tr>\n",
       "      <th>2014-01-01</th>\n",
       "      <td>1512</td>\n",
       "      <td>388</td>\n",
       "      <td>155</td>\n",
       "      <td>336</td>\n",
       "      <td>139</td>\n",
       "      <td>303</td>\n",
       "      <td>34</td>\n",
       "      <td>Sunny</td>\n",
       "      <td>0</td>\n",
       "    </tr>\n",
       "    <tr>\n",
       "      <th>2014-01-02</th>\n",
       "      <td>3236</td>\n",
       "      <td>921</td>\n",
       "      <td>263</td>\n",
       "      <td>360</td>\n",
       "      <td>315</td>\n",
       "      <td>320</td>\n",
       "      <td>33</td>\n",
       "      <td>Snow</td>\n",
       "      <td>0</td>\n",
       "    </tr>\n",
       "    <tr>\n",
       "      <th>2014-01-03</th>\n",
       "      <td>3712</td>\n",
       "      <td>624</td>\n",
       "      <td>235</td>\n",
       "      <td>306</td>\n",
       "      <td>240</td>\n",
       "      <td>516</td>\n",
       "      <td>19</td>\n",
       "      <td>Fog-Snow</td>\n",
       "      <td>0</td>\n",
       "    </tr>\n",
       "    <tr>\n",
       "      <th>2014-01-04</th>\n",
       "      <td>4347</td>\n",
       "      <td>489</td>\n",
       "      <td>154</td>\n",
       "      <td>375</td>\n",
       "      <td>130</td>\n",
       "      <td>1188</td>\n",
       "      <td>31</td>\n",
       "      <td>Sunny</td>\n",
       "      <td>0</td>\n",
       "    </tr>\n",
       "    <tr>\n",
       "      <th>2014-01-05</th>\n",
       "      <td>2529</td>\n",
       "      <td>500</td>\n",
       "      <td>169</td>\n",
       "      <td>361</td>\n",
       "      <td>206</td>\n",
       "      <td>1022</td>\n",
       "      <td>49</td>\n",
       "      <td>Fog-Rain</td>\n",
       "      <td>0</td>\n",
       "    </tr>\n",
       "  </tbody>\n",
       "</table>\n",
       "</div>"
      ],
      "text/plain": [
       "              Building Conditions  General Request  Living Conditions  \\\n",
       "Created_Date                                                            \n",
       "2014-01-01                   1512              388                155   \n",
       "2014-01-02                   3236              921                263   \n",
       "2014-01-03                   3712              624                235   \n",
       "2014-01-04                   4347              489                154   \n",
       "2014-01-05                   2529              500                169   \n",
       "\n",
       "              Parking Enforcement  Signal/Sign Repair  Street/Sidewalk Repair  \\\n",
       "Created_Date                                                                    \n",
       "2014-01-01                    336                 139                     303   \n",
       "2014-01-02                    360                 315                     320   \n",
       "2014-01-03                    306                 240                     516   \n",
       "2014-01-04                    375                 130                    1188   \n",
       "2014-01-05                    361                 206                    1022   \n",
       "\n",
       "              Max TempF   Weather  Holiday  \n",
       "Created_Date                                \n",
       "2014-01-01           34     Sunny        0  \n",
       "2014-01-02           33      Snow        0  \n",
       "2014-01-03           19  Fog-Snow        0  \n",
       "2014-01-04           31     Sunny        0  \n",
       "2014-01-05           49  Fog-Rain        0  "
      ]
     },
     "execution_count": 27,
     "metadata": {},
     "output_type": "execute_result"
    }
   ],
   "source": [
    "df_2014.head()"
   ]
  },
  {
   "cell_type": "code",
   "execution_count": 28,
   "metadata": {
    "collapsed": false
   },
   "outputs": [
    {
     "data": {
      "text/html": [
       "<div>\n",
       "<table border=\"1\" class=\"dataframe\">\n",
       "  <thead>\n",
       "    <tr style=\"text-align: right;\">\n",
       "      <th></th>\n",
       "      <th>Building Conditions</th>\n",
       "      <th>General Request</th>\n",
       "      <th>Living Conditions</th>\n",
       "      <th>Parking Enforcement</th>\n",
       "      <th>Signal/Sign Repair</th>\n",
       "      <th>Street/Sidewalk Repair</th>\n",
       "      <th>Max TempF</th>\n",
       "      <th>Weather</th>\n",
       "      <th>Holiday</th>\n",
       "    </tr>\n",
       "    <tr>\n",
       "      <th>Created_Date</th>\n",
       "      <th></th>\n",
       "      <th></th>\n",
       "      <th></th>\n",
       "      <th></th>\n",
       "      <th></th>\n",
       "      <th></th>\n",
       "      <th></th>\n",
       "      <th></th>\n",
       "      <th></th>\n",
       "    </tr>\n",
       "  </thead>\n",
       "  <tbody>\n",
       "    <tr>\n",
       "      <th>2015-01-01</th>\n",
       "      <td>1607</td>\n",
       "      <td>369</td>\n",
       "      <td>273</td>\n",
       "      <td>438</td>\n",
       "      <td>112</td>\n",
       "      <td>264</td>\n",
       "      <td>40</td>\n",
       "      <td>Sunny</td>\n",
       "      <td>0</td>\n",
       "    </tr>\n",
       "    <tr>\n",
       "      <th>2015-01-02</th>\n",
       "      <td>1935</td>\n",
       "      <td>604</td>\n",
       "      <td>581</td>\n",
       "      <td>588</td>\n",
       "      <td>282</td>\n",
       "      <td>499</td>\n",
       "      <td>45</td>\n",
       "      <td>Sunny</td>\n",
       "      <td>0</td>\n",
       "    </tr>\n",
       "    <tr>\n",
       "      <th>2015-01-03</th>\n",
       "      <td>1527</td>\n",
       "      <td>465</td>\n",
       "      <td>369</td>\n",
       "      <td>511</td>\n",
       "      <td>156</td>\n",
       "      <td>322</td>\n",
       "      <td>47</td>\n",
       "      <td>Rain</td>\n",
       "      <td>0</td>\n",
       "    </tr>\n",
       "    <tr>\n",
       "      <th>2015-01-04</th>\n",
       "      <td>1230</td>\n",
       "      <td>395</td>\n",
       "      <td>403</td>\n",
       "      <td>486</td>\n",
       "      <td>165</td>\n",
       "      <td>357</td>\n",
       "      <td>55</td>\n",
       "      <td>Fog-Rain</td>\n",
       "      <td>0</td>\n",
       "    </tr>\n",
       "    <tr>\n",
       "      <th>2015-01-05</th>\n",
       "      <td>2797</td>\n",
       "      <td>748</td>\n",
       "      <td>705</td>\n",
       "      <td>625</td>\n",
       "      <td>537</td>\n",
       "      <td>734</td>\n",
       "      <td>51</td>\n",
       "      <td>Sunny</td>\n",
       "      <td>0</td>\n",
       "    </tr>\n",
       "  </tbody>\n",
       "</table>\n",
       "</div>"
      ],
      "text/plain": [
       "              Building Conditions  General Request  Living Conditions  \\\n",
       "Created_Date                                                            \n",
       "2015-01-01                   1607              369                273   \n",
       "2015-01-02                   1935              604                581   \n",
       "2015-01-03                   1527              465                369   \n",
       "2015-01-04                   1230              395                403   \n",
       "2015-01-05                   2797              748                705   \n",
       "\n",
       "              Parking Enforcement  Signal/Sign Repair  Street/Sidewalk Repair  \\\n",
       "Created_Date                                                                    \n",
       "2015-01-01                    438                 112                     264   \n",
       "2015-01-02                    588                 282                     499   \n",
       "2015-01-03                    511                 156                     322   \n",
       "2015-01-04                    486                 165                     357   \n",
       "2015-01-05                    625                 537                     734   \n",
       "\n",
       "              Max TempF   Weather  Holiday  \n",
       "Created_Date                                \n",
       "2015-01-01           40     Sunny        0  \n",
       "2015-01-02           45     Sunny        0  \n",
       "2015-01-03           47      Rain        0  \n",
       "2015-01-04           55  Fog-Rain        0  \n",
       "2015-01-05           51     Sunny        0  "
      ]
     },
     "execution_count": 28,
     "metadata": {},
     "output_type": "execute_result"
    }
   ],
   "source": [
    "df_2015.head()"
   ]
  },
  {
   "cell_type": "code",
   "execution_count": null,
   "metadata": {
    "collapsed": true
   },
   "outputs": [],
   "source": []
  }
 ],
 "metadata": {
  "kernelspec": {
   "display_name": "Python 2",
   "language": "python",
   "name": "python2"
  },
  "language_info": {
   "codemirror_mode": {
    "name": "ipython",
    "version": 2
   },
   "file_extension": ".py",
   "mimetype": "text/x-python",
   "name": "python",
   "nbconvert_exporter": "python",
   "pygments_lexer": "ipython2",
   "version": "2.7.11"
  }
 },
 "nbformat": 4,
 "nbformat_minor": 0
}
