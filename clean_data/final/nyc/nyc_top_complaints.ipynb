{
 "cells": [
  {
   "cell_type": "markdown",
   "metadata": {},
   "source": [
    "# NYC 311 COMPLAINTS\n",
    "## Top 25  Complaints 2014 - 2015\n",
    "### Complaint Type (Position 2014,Position 2015)  \n",
    "HEAT/HOT WATER (0,0)  \n",
    "Street Condition (1,1)  \n",
    "Street Light Condition (3,3)  \n",
    "Blocked Driveway (4,2)  \n",
    "PAINT/PLASTER (5,7)  \n",
    "PLUMBING (6,9)  \n",
    "Illegal Parking (7,4)  \n",
    "UNSANITARY CONDITION (8,5)  \n",
    "Water System (9,6)  \n",
    "Noise (10,8)  \n",
    "Traffic Signal Condition (11,12)  \n",
    "Noise - Commercial (12,10)  \n",
    "Sewer (13,17)  \n",
    "Noise - Street/Sidewalk (14,10)  \n",
    "Dirty Conditions (15,15)  \n",
    "DOF Literature Request (16,19)  \n",
    "ELECTRIC (17,18)  \n",
    "Broken Muni Meter (17,26)  \n",
    "WATER LEAK (18,14)    \n",
    "DOOR/WINDOW (19,13)  \n",
    "General Construction/Plumbing (20,21)  \n",
    "Sanitation Condition (21,16)  \n",
    "Building/Use (22,23)  \n",
    "GENERAL (23,22)  \n",
    "Rodent (24,20)  \n",
    "Missed Collection (All Materials) (25,25) \n",
    "\n",
    "HEATING(2,)"
   ]
  },
  {
   "cell_type": "code",
   "execution_count": 94,
   "metadata": {
    "collapsed": true
   },
   "outputs": [],
   "source": [
    "%matplotlib inline\n",
    "\n",
    "import pandas as pd\n",
    "import numpy as np\n",
    "import scipy.stats as stats\n",
    "import matplotlib.pyplot as plt\n",
    "import sklearn"
   ]
  },
  {
   "cell_type": "code",
   "execution_count": 95,
   "metadata": {
    "collapsed": false
   },
   "outputs": [],
   "source": [
    "df_2014_1 = pd.read_csv('NYC_2014_1.csv')\n",
    "df_2014_2 = pd.read_csv('NYC_2014_2.csv')\n",
    "df_2015_1 = pd.read_csv('NYC_2015_1.csv')\n",
    "df_2015_2 = pd.read_csv('NYC_2015_2.csv')"
   ]
  },
  {
   "cell_type": "code",
   "execution_count": 96,
   "metadata": {
    "collapsed": false
   },
   "outputs": [],
   "source": [
    "df_2014 = df_2014_1.append(df_2014_2, ignore_index=True)\n",
    "df_2015 = df_2015_1.append(df_2015_2, ignore_index=True)"
   ]
  },
  {
   "cell_type": "code",
   "execution_count": 97,
   "metadata": {
    "collapsed": false
   },
   "outputs": [
    {
     "data": {
      "text/html": [
       "<div>\n",
       "<table border=\"1\" class=\"dataframe\">\n",
       "  <thead>\n",
       "    <tr style=\"text-align: right;\">\n",
       "      <th></th>\n",
       "      <th>Created_Date</th>\n",
       "      <th>Complaint_Type</th>\n",
       "      <th>Borough</th>\n",
       "      <th>Location</th>\n",
       "    </tr>\n",
       "  </thead>\n",
       "  <tbody>\n",
       "    <tr>\n",
       "      <th>0</th>\n",
       "      <td>2014-06-30</td>\n",
       "      <td>HEAT/HOT WATER</td>\n",
       "      <td>BRONX</td>\n",
       "      <td>(40.87016285040958, -73.88879970718)</td>\n",
       "    </tr>\n",
       "    <tr>\n",
       "      <th>1</th>\n",
       "      <td>2014-06-30</td>\n",
       "      <td>HEAT/HOT WATER</td>\n",
       "      <td>BROOKLYN</td>\n",
       "      <td>(40.64314961982049, -73.95046073917715)</td>\n",
       "    </tr>\n",
       "    <tr>\n",
       "      <th>2</th>\n",
       "      <td>2014-06-30</td>\n",
       "      <td>HEAT/HOT WATER</td>\n",
       "      <td>BROOKLYN</td>\n",
       "      <td>(40.64507250981882, -73.87864906383643)</td>\n",
       "    </tr>\n",
       "    <tr>\n",
       "      <th>3</th>\n",
       "      <td>2014-06-30</td>\n",
       "      <td>HEAT/HOT WATER</td>\n",
       "      <td>MANHATTAN</td>\n",
       "      <td>(40.86334391631684, -73.92915076102932)</td>\n",
       "    </tr>\n",
       "    <tr>\n",
       "      <th>4</th>\n",
       "      <td>2014-06-30</td>\n",
       "      <td>PAINT/PLASTER</td>\n",
       "      <td>BROOKLYN</td>\n",
       "      <td>(40.64393283892149, -73.95273031361069)</td>\n",
       "    </tr>\n",
       "  </tbody>\n",
       "</table>\n",
       "</div>"
      ],
      "text/plain": [
       "  Created_Date  Complaint_Type    Borough  \\\n",
       "0   2014-06-30  HEAT/HOT WATER      BRONX   \n",
       "1   2014-06-30  HEAT/HOT WATER   BROOKLYN   \n",
       "2   2014-06-30  HEAT/HOT WATER   BROOKLYN   \n",
       "3   2014-06-30  HEAT/HOT WATER  MANHATTAN   \n",
       "4   2014-06-30   PAINT/PLASTER   BROOKLYN   \n",
       "\n",
       "                                  Location  \n",
       "0     (40.87016285040958, -73.88879970718)  \n",
       "1  (40.64314961982049, -73.95046073917715)  \n",
       "2  (40.64507250981882, -73.87864906383643)  \n",
       "3  (40.86334391631684, -73.92915076102932)  \n",
       "4  (40.64393283892149, -73.95273031361069)  "
      ]
     },
     "execution_count": 97,
     "metadata": {},
     "output_type": "execute_result"
    }
   ],
   "source": [
    "df_2014.head()"
   ]
  },
  {
   "cell_type": "code",
   "execution_count": 98,
   "metadata": {
    "collapsed": false
   },
   "outputs": [],
   "source": [
    "ser1 = pd.Series(df_2014['Complaint_Type'])\n",
    "ser2 = pd.Series(df_2015['Complaint_Type'])"
   ]
  },
  {
   "cell_type": "code",
   "execution_count": 121,
   "metadata": {
    "collapsed": false
   },
   "outputs": [
    {
     "data": {
      "text/plain": [
       "HEAT/HOT WATER                       132767\n",
       "Street Condition                     113924\n",
       "HEATING                               97597\n",
       "Street Light Condition                93975\n",
       "Blocked Driveway                      78699\n",
       "PAINT/PLASTER                         63503\n",
       "PLUMBING                              63220\n",
       "Illegal Parking                       62923\n",
       "UNSANITARY CONDITION                  61784\n",
       "Water System                          55424\n",
       "Noise                                 50943\n",
       "Traffic Signal Condition              42294\n",
       "Noise - Commercial                    37185\n",
       "Sewer                                 36364\n",
       "Noise - Street/Sidewalk               35306\n",
       "Dirty Conditions                      32440\n",
       "DOF Literature Request                30791\n",
       "ELECTRIC                              30402\n",
       "Broken Muni Meter                     29343\n",
       "WATER LEAK                            28928\n",
       "DOOR/WINDOW                           28925\n",
       "General Construction/Plumbing         26992\n",
       "Sanitation Condition                  26964\n",
       "Building/Use                          26593\n",
       "GENERAL                               26216\n",
       "Rodent                                24515\n",
       "Missed Collection (All Materials)     21474\n",
       "Name: Complaint_Type, dtype: int64"
      ]
     },
     "execution_count": 121,
     "metadata": {},
     "output_type": "execute_result"
    }
   ],
   "source": [
    "ser1.value_counts()[0:27]"
   ]
  },
  {
   "cell_type": "code",
   "execution_count": 122,
   "metadata": {
    "collapsed": false
   },
   "outputs": [
    {
     "data": {
      "text/plain": [
       "HEAT/HOT WATER                       224963\n",
       "Street Condition                     124348\n",
       "Blocked Driveway                     100296\n",
       "Street Light Condition                97650\n",
       "Illegal Parking                       92117\n",
       "UNSANITARY CONDITION                  82437\n",
       "Water System                          70925\n",
       "PAINT/PLASTER                         69316\n",
       "Noise                                 57086\n",
       "PLUMBING                              55141\n",
       "Noise - Street/Sidewalk               51444\n",
       "Noise - Commercial                    43917\n",
       "Traffic Signal Condition              42033\n",
       "DOOR/WINDOW                           39809\n",
       "WATER LEAK                            35367\n",
       "Dirty Conditions                      34229\n",
       "Sanitation Condition                  32251\n",
       "Sewer                                 31972\n",
       "ELECTRIC                              29998\n",
       "DOF Literature Request                29495\n",
       "Rodent                                29329\n",
       "General Construction/Plumbing         28002\n",
       "FLOORING/STAIRS                       27637\n",
       "GENERAL                               26618\n",
       "Building/Use                          25318\n",
       "Missed Collection (All Materials)     25114\n",
       "Broken Muni Meter                     22830\n",
       "Name: Complaint_Type, dtype: int64"
      ]
     },
     "execution_count": 122,
     "metadata": {},
     "output_type": "execute_result"
    }
   ],
   "source": [
    "ser2.value_counts()[0:27]"
   ]
  },
  {
   "cell_type": "code",
   "execution_count": null,
   "metadata": {
    "collapsed": true
   },
   "outputs": [],
   "source": []
  }
 ],
 "metadata": {
  "kernelspec": {
   "display_name": "Python 2",
   "language": "python",
   "name": "python2"
  },
  "language_info": {
   "codemirror_mode": {
    "name": "ipython",
    "version": 2
   },
   "file_extension": ".py",
   "mimetype": "text/x-python",
   "name": "python",
   "nbconvert_exporter": "python",
   "pygments_lexer": "ipython2",
   "version": "2.7.11"
  }
 },
 "nbformat": 4,
 "nbformat_minor": 0
}
